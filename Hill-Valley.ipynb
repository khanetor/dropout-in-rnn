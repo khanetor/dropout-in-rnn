{
 "cells": [
  {
   "cell_type": "code",
   "execution_count": 1,
   "metadata": {},
   "outputs": [],
   "source": [
    "import torch\n",
    "from torch import nn\n",
    "from torch.nn import functional as F\n",
    "from torch import optim\n",
    "import numpy as np\n",
    "import pandas as pd\n",
    "from train_utils import train_model, BCLogitMetric"
   ]
  },
  {
   "cell_type": "code",
   "execution_count": 2,
   "metadata": {},
   "outputs": [],
   "source": [
    "from sklearn.preprocessing import minmax_scale\n",
    "from sklearn.model_selection import train_test_split"
   ]
  },
  {
   "cell_type": "code",
   "execution_count": 3,
   "metadata": {},
   "outputs": [],
   "source": [
    "from classification_uncertainty_utils import aleatoric_uncertainty, epistemic_uncertainty, uncertainty_avg, score_avg"
   ]
  },
  {
   "cell_type": "code",
   "execution_count": 4,
   "metadata": {},
   "outputs": [],
   "source": [
    "import seaborn as sns\n",
    "import matplotlib.pyplot as plt"
   ]
  },
  {
   "cell_type": "code",
   "execution_count": 5,
   "metadata": {},
   "outputs": [
    {
     "data": {
      "text/plain": [
       "<torch._C.Generator at 0x10e91fab0>"
      ]
     },
     "execution_count": 5,
     "metadata": {},
     "output_type": "execute_result"
    }
   ],
   "source": [
    "np.random.seed(1234)\n",
    "torch.manual_seed(1234)"
   ]
  },
  {
   "cell_type": "code",
   "execution_count": 6,
   "metadata": {},
   "outputs": [],
   "source": [
    "training_table = pd.read_table(\"./data/hill-valley/Hill_Valley_with_noise_Training.data\", sep=',', dtype=np.float32)\n",
    "testing_table = pd.read_table(\"./data/hill-valley/Hill_Valley_with_noise_Testing.data\", sep=',', dtype=np.float32)"
   ]
  },
  {
   "cell_type": "code",
   "execution_count": 7,
   "metadata": {},
   "outputs": [],
   "source": [
    "dim = 1\n",
    "seq_length = 100"
   ]
  },
  {
   "cell_type": "code",
   "execution_count": 8,
   "metadata": {},
   "outputs": [],
   "source": [
    "x_train = minmax_scale(training_table.drop(\"class\", axis=1).values, axis=1)\n",
    "y_train = training_table[\"class\"].values\n",
    "x_test = minmax_scale(testing_table.drop(\"class\", axis=1).values, axis=1)\n",
    "y_test = testing_table[\"class\"].values\n",
    "\n",
    "x_train = np.expand_dims(x_train, axis=-1)\n",
    "x_test = np.expand_dims(x_test, axis=-1)\n",
    "\n",
    "x_train, x_val, y_train, y_val = train_test_split(x_train, y_train, test_size=0.3, random_state=42)\n",
    "\n",
    "N = len(y_train)\n",
    "\n",
    "train_dl = torch.utils.data.DataLoader(\n",
    "        [(x_train[i], y_train[i]) for i in range(len(y_train))],\n",
    "        batch_size=10,\n",
    "        shuffle=True\n",
    ")\n",
    "val_dl = torch.utils.data.DataLoader(\n",
    "        [(x_val[i], y_val[i]) for i in range(len(y_val))],\n",
    "        batch_size=10,\n",
    "        shuffle=False\n",
    ")\n",
    "test_dl = torch.utils.data.DataLoader(\n",
    "        [(x_test[i], y_test[i]) for i in range(len(y_test))],\n",
    "        batch_size=len(y_test),\n",
    "        shuffle=False\n",
    ")"
   ]
  },
  {
   "cell_type": "code",
   "execution_count": 10,
   "metadata": {},
   "outputs": [],
   "source": [
    "class Net(nn.Module):\n",
    "    def __init__(self):\n",
    "        super(Net, self).__init__()\n",
    "        self.rnn = nn.LSTM(1, 10)\n",
    "        self.fc = nn.Linear(10, 1)\n",
    "\n",
    "    def regularizer(self):        \n",
    "        return 0.\n",
    "\n",
    "    def forward(self, x: torch.Tensor):\n",
    "        out, _ = self.rnn(x)\n",
    "        out = out[-1]\n",
    "        out = torch.tanh(out)\n",
    "        out = self.fc(out).flatten()\n",
    "        return out"
   ]
  },
  {
   "cell_type": "code",
   "execution_count": 11,
   "metadata": {},
   "outputs": [],
   "source": [
    "net = Net()\n",
    "criterion = nn.BCEWithLogitsLoss()\n",
    "\n",
    "optimizer = optim.Adam(net.parameters(), lr=1e-3)"
   ]
  },
  {
   "cell_type": "code",
   "execution_count": 12,
   "metadata": {},
   "outputs": [],
   "source": [
    "metrics = [BCLogitMetric()]"
   ]
  },
  {
   "cell_type": "code",
   "execution_count": 13,
   "metadata": {},
   "outputs": [
    {
     "name": "stdout",
     "output_type": "stream",
     "text": [
      "[1, 100.00%] train loss: 0.690908\n",
      "[1, 100.00%] validate loss: 0.707452\n",
      "Accuracy = 0.484\n",
      "[2, 100.00%] train loss: 0.652070\n",
      "[2, 100.00%] validate loss: 0.604945\n",
      "Accuracy = 0.734\n",
      "[3, 100.00%] train loss: 0.424376\n",
      "[3, 100.00%] validate loss: 0.318744\n",
      "Accuracy = 0.819\n",
      "[4, 100.00%] train loss: 0.248940\n",
      "[4, 100.00%] validate loss: 0.213370\n",
      "Accuracy = 0.863\n",
      "[5, 100.00%] train loss: 0.180113\n",
      "[5, 100.00%] validate loss: 0.162859\n",
      "Accuracy = 0.889\n",
      "[6, 100.00%] train loss: 0.136903\n",
      "[6, 100.00%] validate loss: 0.129599\n",
      "Accuracy = 0.907\n",
      "[7, 100.00%] train loss: 0.110550\n",
      "[7, 100.00%] validate loss: 0.106442\n",
      "Accuracy = 0.919\n",
      "[8, 100.00%] train loss: 0.091940\n",
      "[8, 100.00%] validate loss: 0.090188\n",
      "Accuracy = 0.929\n",
      "[9, 100.00%] train loss: 0.078840\n",
      "[9, 100.00%] validate loss: 0.078577\n",
      "Accuracy = 0.936\n",
      "[10, 100.00%] train loss: 0.069492\n",
      "[10, 100.00%] validate loss: 0.054545\n",
      "Accuracy = 0.942\n",
      "[11, 100.00%] train loss: 0.062134\n",
      "[11, 100.00%] validate loss: 0.046898\n",
      "Accuracy = 0.948\n",
      "[12, 100.00%] train loss: 0.056601\n",
      "[12, 100.00%] validate loss: 0.041070\n",
      "Accuracy = 0.952\n",
      "[13, 100.00%] train loss: 0.052174\n",
      "[13, 100.00%] validate loss: 0.036397\n",
      "Accuracy = 0.956\n",
      "[14, 100.00%] train loss: 0.048707\n",
      "[14, 100.00%] validate loss: 0.032362\n",
      "Accuracy = 0.959\n",
      "[15, 100.00%] train loss: 0.045852\n",
      "[15, 100.00%] validate loss: 0.028966\n",
      "Accuracy = 0.962\n",
      "[16, 100.00%] train loss: 0.043469\n",
      "[16, 100.00%] validate loss: 0.026491\n",
      "Accuracy = 0.964\n",
      "[17, 100.00%] train loss: 0.041523\n",
      "[17, 100.00%] validate loss: 0.024131\n",
      "Accuracy = 0.966\n",
      "[18, 100.00%] train loss: 0.039898\n",
      "[18, 100.00%] validate loss: 0.022065\n",
      "Accuracy = 0.968\n",
      "[19, 100.00%] train loss: 0.038529\n",
      "[19, 100.00%] validate loss: 0.020451\n",
      "Accuracy = 0.970\n",
      "[20, 100.00%] train loss: 0.037399\n",
      "[20, 100.00%] validate loss: 0.018993\n",
      "Accuracy = 0.971\n",
      "[21, 100.00%] train loss: 0.036390\n",
      "[21, 100.00%] validate loss: 0.017690\n",
      "Accuracy = 0.973\n",
      "[22, 100.00%] train loss: 0.035574\n",
      "[22, 100.00%] validate loss: 0.016456\n",
      "Accuracy = 0.974\n",
      "[23, 100.00%] train loss: 0.034820\n",
      "[23, 100.00%] validate loss: 0.015570\n",
      "Accuracy = 0.975\n",
      "[24, 100.00%] train loss: 0.034251\n",
      "[24, 100.00%] validate loss: 0.014537\n",
      "Accuracy = 0.976\n",
      "[25, 100.00%] train loss: 0.033667\n",
      "[25, 100.00%] validate loss: 0.013787\n",
      "Accuracy = 0.977\n",
      "[26, 100.00%] train loss: 0.033160\n",
      "[26, 100.00%] validate loss: 0.013177\n",
      "Accuracy = 0.978\n",
      "[27, 100.00%] train loss: 0.032781\n",
      "[27, 100.00%] validate loss: 0.012558\n",
      "Accuracy = 0.979\n",
      "[28, 100.00%] train loss: 0.032424\n",
      "[28, 100.00%] validate loss: 0.011961\n",
      "Accuracy = 0.979\n",
      "[29, 100.00%] train loss: 0.032116\n",
      "[29, 100.00%] validate loss: 0.011302\n",
      "Accuracy = 0.980\n",
      "[30, 100.00%] train loss: 0.031786\n",
      "[30, 100.00%] validate loss: 0.010962\n",
      "Accuracy = 0.981\n",
      "[31, 100.00%] train loss: 0.031586\n",
      "[31, 100.00%] validate loss: 0.010276\n",
      "Accuracy = 0.981\n",
      "[32, 100.00%] train loss: 0.020857\n",
      "[32, 100.00%] validate loss: 0.009985\n",
      "Accuracy = 0.982\n",
      "[33, 100.00%] train loss: 0.031072\n",
      "[33, 100.00%] validate loss: 0.009628\n",
      "Accuracy = 0.983\n",
      "[34, 100.00%] train loss: 0.020248\n",
      "[34, 100.00%] validate loss: 0.009144\n",
      "Accuracy = 0.983\n",
      "[35, 100.00%] train loss: 0.030715\n",
      "[35, 100.00%] validate loss: 0.008773\n",
      "Accuracy = 0.984\n",
      "[36, 100.00%] train loss: 0.019713\n",
      "[36, 100.00%] validate loss: 0.008449\n",
      "Accuracy = 0.984\n",
      "[37, 100.00%] train loss: 0.019393\n",
      "[37, 100.00%] validate loss: 0.008039\n",
      "Accuracy = 0.984\n",
      "[38, 100.00%] train loss: 0.030345\n",
      "[38, 100.00%] validate loss: 0.007772\n",
      "Accuracy = 0.985\n",
      "[39, 100.00%] train loss: 0.019003\n",
      "[39, 100.00%] validate loss: 0.007526\n",
      "Accuracy = 0.985\n",
      "[40, 100.00%] train loss: 0.030129\n",
      "[40, 100.00%] validate loss: 0.007376\n",
      "Accuracy = 0.986\n",
      "[41, 100.00%] train loss: 0.018755\n",
      "[41, 100.00%] validate loss: 0.007020\n",
      "Accuracy = 0.986\n",
      "[42, 100.00%] train loss: 0.018520\n",
      "[42, 100.00%] validate loss: 0.006740\n",
      "Accuracy = 0.986\n",
      "[43, 100.00%] train loss: 0.029941\n",
      "[43, 100.00%] validate loss: 0.006671\n",
      "Accuracy = 0.987\n",
      "[44, 100.00%] train loss: 0.018284\n",
      "[44, 100.00%] validate loss: 0.006468\n",
      "Accuracy = 0.987\n",
      "[45, 100.00%] train loss: 0.018107\n",
      "[45, 100.00%] validate loss: 0.006252\n",
      "Accuracy = 0.987\n",
      "[46, 100.00%] train loss: 0.029848\n",
      "[46, 100.00%] validate loss: 0.006196\n",
      "Accuracy = 0.987\n",
      "[47, 100.00%] train loss: 0.017976\n",
      "[47, 100.00%] validate loss: 0.005997\n",
      "Accuracy = 0.988\n",
      "[48, 100.00%] train loss: 0.017836\n",
      "[48, 100.00%] validate loss: 0.005716\n",
      "Accuracy = 0.988\n",
      "[49, 100.00%] train loss: 0.017667\n",
      "[49, 100.00%] validate loss: 0.005618\n",
      "Accuracy = 0.988\n",
      "[50, 100.00%] train loss: 0.029765\n",
      "[50, 100.00%] validate loss: 0.005589\n",
      "Accuracy = 0.988\n",
      "[51, 100.00%] train loss: 0.017599\n",
      "[51, 100.00%] validate loss: 0.005389\n",
      "Accuracy = 0.989\n",
      "[52, 100.00%] train loss: 0.017491\n",
      "[52, 100.00%] validate loss: 0.005280\n",
      "Accuracy = 0.989\n",
      "[53, 100.00%] train loss: 0.017378\n",
      "[53, 100.00%] validate loss: 0.005136\n",
      "Accuracy = 0.989\n",
      "[54, 100.00%] train loss: 0.029786\n",
      "[54, 100.00%] validate loss: 0.005010\n",
      "Accuracy = 0.989\n",
      "[55, 100.00%] train loss: 0.017306\n",
      "[55, 100.00%] validate loss: 0.004992\n",
      "Accuracy = 0.990\n",
      "[56, 100.00%] train loss: 0.017255\n",
      "[56, 100.00%] validate loss: 0.004771\n",
      "Accuracy = 0.990\n",
      "[57, 100.00%] train loss: 0.017145\n",
      "[57, 100.00%] validate loss: 0.004729\n",
      "Accuracy = 0.990\n",
      "[58, 100.00%] train loss: 0.017088\n",
      "[58, 100.00%] validate loss: 0.004644\n",
      "Accuracy = 0.990\n",
      "[59, 100.00%] train loss: 0.029826\n",
      "[59, 100.00%] validate loss: 0.004632\n",
      "Accuracy = 0.990\n",
      "[60, 100.00%] train loss: 0.017054\n",
      "[60, 100.00%] validate loss: 0.004547\n",
      "Accuracy = 0.990\n",
      "[61, 100.00%] train loss: 0.016988\n",
      "[61, 100.00%] validate loss: 0.004433\n",
      "Accuracy = 0.991\n",
      "[62, 100.00%] train loss: 0.016925\n",
      "[62, 100.00%] validate loss: 0.004320\n",
      "Accuracy = 0.991\n",
      "[63, 100.00%] train loss: 0.016873\n",
      "[63, 100.00%] validate loss: 0.004258\n",
      "Accuracy = 0.991\n",
      "[64, 100.00%] train loss: 0.029896\n",
      "[64, 100.00%] validate loss: 0.004241\n",
      "Accuracy = 0.991\n",
      "[65, 100.00%] train loss: 0.016840\n",
      "[65, 100.00%] validate loss: 0.004232\n",
      "Accuracy = 0.991\n",
      "[66, 100.00%] train loss: 0.016804\n",
      "[66, 100.00%] validate loss: 0.004152\n",
      "Accuracy = 0.991\n",
      "[67, 100.00%] train loss: 0.016770\n",
      "[67, 100.00%] validate loss: 0.004067\n",
      "Accuracy = 0.991\n",
      "[68, 100.00%] train loss: 0.016693\n",
      "[68, 100.00%] validate loss: 0.004008\n",
      "Accuracy = 0.992\n",
      "[69, 100.00%] train loss: 0.029960\n",
      "[69, 100.00%] validate loss: 0.004031\n",
      "Accuracy = 0.992\n",
      "Retry 1/5\n",
      "[70, 100.00%] train loss: 0.016703\n",
      "[70, 100.00%] validate loss: 0.003985\n",
      "Accuracy = 0.992\n",
      "[71, 100.00%] train loss: 0.016699\n",
      "[71, 100.00%] validate loss: 0.003805\n",
      "Accuracy = 0.992\n",
      "[72, 100.00%] train loss: 0.016616\n",
      "[72, 100.00%] validate loss: 0.003863\n",
      "Accuracy = 0.992\n",
      "Retry 1/5\n",
      "[73, 100.00%] train loss: 0.016577\n",
      "[73, 100.00%] validate loss: 0.003816\n",
      "Accuracy = 0.992\n",
      "Retry 2/5\n",
      "[74, 100.00%] train loss: 0.016537\n",
      "[74, 100.00%] validate loss: 0.003773\n",
      "Accuracy = 0.992\n",
      "[75, 100.00%] train loss: 0.030064\n",
      "[75, 100.00%] validate loss: 0.003806\n",
      "Accuracy = 0.992\n",
      "Retry 1/5\n",
      "[76, 100.00%] train loss: 0.016565\n",
      "[76, 100.00%] validate loss: 0.003789\n",
      "Accuracy = 0.992\n",
      "Retry 2/5\n",
      "[77, 100.00%] train loss: 0.016536\n",
      "[77, 100.00%] validate loss: 0.003592\n",
      "Accuracy = 0.993\n",
      "[78, 100.00%] train loss: 0.016458\n",
      "[78, 100.00%] validate loss: 0.003693\n",
      "Accuracy = 0.993\n",
      "Retry 1/5\n",
      "[79, 100.00%] train loss: 0.016441\n",
      "[79, 100.00%] validate loss: 0.003568\n",
      "Accuracy = 0.993\n",
      "[80, 100.00%] train loss: 0.030128\n",
      "[80, 100.00%] validate loss: 0.003769\n",
      "Accuracy = 0.993\n",
      "Retry 1/5\n",
      "[81, 100.00%] train loss: 0.016454\n",
      "[81, 100.00%] validate loss: 0.003724\n",
      "Accuracy = 0.993\n",
      "Retry 2/5\n",
      "[82, 100.00%] train loss: 0.016395\n",
      "[82, 100.00%] validate loss: 0.003683\n",
      "Accuracy = 0.993\n",
      "Retry 3/5\n",
      "[83, 100.00%] train loss: 0.016346\n",
      "[83, 100.00%] validate loss: 0.003606\n",
      "Accuracy = 0.993\n",
      "Retry 4/5\n",
      "[84, 100.00%] train loss: 0.029971\n",
      "[84, 100.00%] validate loss: 0.003735\n",
      "Accuracy = 0.993\n",
      "Retry 5/5\n",
      "CPU times: user 4min 4s, sys: 4.33 s, total: 4min 9s\n",
      "Wall time: 1min 37s\n"
     ]
    }
   ],
   "source": [
    "%%time\n",
    "net = train_model(net, train_dl, val_dl, criterion, optimizer, \"hill-valley.pt\", 100, metrics=metrics, patience=5)"
   ]
  },
  {
   "cell_type": "markdown",
   "metadata": {},
   "source": [
    "### Test"
   ]
  },
  {
   "cell_type": "code",
   "execution_count": 14,
   "metadata": {},
   "outputs": [
    {
     "name": "stdout",
     "output_type": "stream",
     "text": [
      "Accuracy = 100.00%\n"
     ]
    }
   ],
   "source": [
    "net.eval()\n",
    "acc = 0.0\n",
    "with torch.no_grad():\n",
    "    for i, (x, y) in enumerate(test_dl):\n",
    "        pre_sigmoids = net(x.transpose(-2,-3))\n",
    "        post_sigmoids = torch.sigmoid(pre_sigmoids)\n",
    "        scores = post_sigmoids\n",
    "        predictions = torch.round(scores)\n",
    "        acc += (y == predictions).sum().item()\n",
    "\n",
    "acc /= len(test_dl.dataset)\n",
    "print(\"Accuracy = %.2f%%\" % (acc * 100))"
   ]
  },
  {
   "cell_type": "markdown",
   "metadata": {},
   "source": [
    "### Flat line test"
   ]
  },
  {
   "cell_type": "code",
   "execution_count": 15,
   "metadata": {},
   "outputs": [
    {
     "data": {
      "image/png": "[encoded data removed]",
      "text/plain": [
       "<Figure size 432x288 with 1 Axes>"
      ]
     },
     "metadata": {
      "needs_background": "light"
     },
     "output_type": "display_data"
    },
    {
     "name": "stdout",
     "output_type": "stream",
     "text": [
      "predictions tensor([0.9953, 0.9953])\n"
     ]
    }
   ],
   "source": [
    "new_x_test = minmax_scale(np.full((2, 100), 0., dtype=np.float32), axis=1)\n",
    "new_x_test = np.expand_dims(new_x_test, axis=-1)\n",
    "new_x_test = new_x_test.swapaxes(-2,-3)\n",
    "new_x_test = torch.tensor(new_x_test)\n",
    "\n",
    "net.eval()\n",
    "with torch.no_grad():\n",
    "    outputs = net(new_x_test)\n",
    "    outputs = torch.sigmoid(outputs)\n",
    "    scores = outputs\n",
    "\n",
    "plt.plot(new_x_test[:,0])\n",
    "plt.show()\n",
    "print(\"predictions\", scores)"
   ]
  },
  {
   "cell_type": "markdown",
   "metadata": {},
   "source": [
    "### Noise test"
   ]
  },
  {
   "cell_type": "code",
   "execution_count": 17,
   "metadata": {},
   "outputs": [
    {
     "data": {
      "image/png": "[encoded data removed]",
      "text/plain": [
       "<Figure size 432x288 with 1 Axes>"
      ]
     },
     "metadata": {
      "needs_background": "light"
     },
     "output_type": "display_data"
    },
    {
     "name": "stdout",
     "output_type": "stream",
     "text": [
      "predictions tensor([0.0024, 0.0026])\n"
     ]
    }
   ],
   "source": [
    "new_x_test = minmax_scale(np.random.randn(2, 100).astype(np.float32), axis=1)\n",
    "new_x_test = np.expand_dims(new_x_test, axis=-1)\n",
    "new_x_test = new_x_test.swapaxes(-2,-3)\n",
    "new_x_test = torch.tensor(new_x_test)\n",
    "\n",
    "net.eval()\n",
    "with torch.no_grad():\n",
    "    outputs = net(new_x_test)\n",
    "    outputs = torch.sigmoid(outputs)\n",
    "    scores = outputs\n",
    "\n",
    "plt.plot(new_x_test[:,0])\n",
    "plt.show()\n",
    "print(\"predictions\", scores)"
   ]
  },
  {
   "cell_type": "code",
   "execution_count": null,
   "metadata": {},
   "outputs": [],
   "source": []
  }
 ],
 "metadata": {
  "kernelspec": {
   "display_name": "Python 3",
   "language": "python",
   "name": "python3"
  },
  "language_info": {
   "codemirror_mode": {
    "name": "ipython",
    "version": 3
   },
   "file_extension": ".py",
   "mimetype": "text/x-python",
   "name": "python",
   "nbconvert_exporter": "python",
   "pygments_lexer": "ipython3",
   "version": "3.6.10"
  }
 },
 "nbformat": 4,
 "nbformat_minor": 4
}
