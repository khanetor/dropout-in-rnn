{
 "cells": [
  {
   "cell_type": "code",
   "execution_count": 1,
   "metadata": {},
   "outputs": [],
   "source": [
    "import torch\n",
    "from torch import nn\n",
    "from torch.nn import functional as F\n",
    "from torch import optim\n",
    "import numpy as np\n",
    "import pandas as pd\n",
    "from stochastic_rnn import StochasticLSTM\n",
    "from variational_module import MCModuleMixin\n",
    "from train_utils import train_model, BCMetric"
   ]
  },
  {
   "cell_type": "code",
   "execution_count": 2,
   "metadata": {},
   "outputs": [],
   "source": [
    "from sklearn.preprocessing import minmax_scale\n",
    "from sklearn.model_selection import train_test_split"
   ]
  },
  {
   "cell_type": "code",
   "execution_count": 3,
   "metadata": {},
   "outputs": [],
   "source": [
    "from classification_uncertainty_utils import aleatoric_uncertainty, epistemic_uncertainty, uncertainty_avg, score_avg"
   ]
  },
  {
   "cell_type": "code",
   "execution_count": 4,
   "metadata": {},
   "outputs": [],
   "source": [
    "import seaborn as sns\n",
    "import matplotlib.pyplot as plt"
   ]
  },
  {
   "cell_type": "code",
   "execution_count": 5,
   "metadata": {},
   "outputs": [
    {
     "data": {
      "text/plain": [
       "<torch._C.Generator at 0x10e929df0>"
      ]
     },
     "execution_count": 5,
     "metadata": {},
     "output_type": "execute_result"
    }
   ],
   "source": [
    "np.random.seed(1234)\n",
    "torch.manual_seed(1234)"
   ]
  },
  {
   "cell_type": "code",
   "execution_count": 6,
   "metadata": {},
   "outputs": [],
   "source": [
    "training_table = pd.read_table(\"./data/hill-valley/Hill_Valley_with_noise_Training.data\", sep=',', dtype=np.float32)\n",
    "testing_table = pd.read_table(\"./data/hill-valley/Hill_Valley_with_noise_Testing.data\", sep=',', dtype=np.float32)"
   ]
  },
  {
   "cell_type": "code",
   "execution_count": 7,
   "metadata": {},
   "outputs": [
    {
     "data": {
      "text/html": [
       "<div>\n",
       "<style scoped>\n",
       "    .dataframe tbody tr th:only-of-type {\n",
       "        vertical-align: middle;\n",
       "    }\n",
       "\n",
       "    .dataframe tbody tr th {\n",
       "        vertical-align: top;\n",
       "    }\n",
       "\n",
       "    .dataframe thead th {\n",
       "        text-align: right;\n",
       "    }\n",
       "</style>\n",
       "<table border=\"1\" class=\"dataframe\">\n",
       "  <thead>\n",
       "    <tr style=\"text-align: right;\">\n",
       "      <th></th>\n",
       "      <th>X1</th>\n",
       "      <th>X2</th>\n",
       "      <th>X3</th>\n",
       "      <th>X4</th>\n",
       "      <th>X5</th>\n",
       "      <th>X6</th>\n",
       "      <th>X7</th>\n",
       "      <th>X8</th>\n",
       "      <th>X9</th>\n",
       "      <th>X10</th>\n",
       "      <th>...</th>\n",
       "      <th>X92</th>\n",
       "      <th>X93</th>\n",
       "      <th>X94</th>\n",
       "      <th>X95</th>\n",
       "      <th>X96</th>\n",
       "      <th>X97</th>\n",
       "      <th>X98</th>\n",
       "      <th>X99</th>\n",
       "      <th>X100</th>\n",
       "      <th>class</th>\n",
       "    </tr>\n",
       "  </thead>\n",
       "  <tbody>\n",
       "    <tr>\n",
       "      <th>0</th>\n",
       "      <td>39.020000</td>\n",
       "      <td>36.490002</td>\n",
       "      <td>38.200001</td>\n",
       "      <td>38.849998</td>\n",
       "      <td>39.380001</td>\n",
       "      <td>39.740002</td>\n",
       "      <td>37.020000</td>\n",
       "      <td>39.529999</td>\n",
       "      <td>38.810001</td>\n",
       "      <td>38.790001</td>\n",
       "      <td>...</td>\n",
       "      <td>36.619999</td>\n",
       "      <td>36.919998</td>\n",
       "      <td>38.799999</td>\n",
       "      <td>38.520000</td>\n",
       "      <td>38.070000</td>\n",
       "      <td>36.730000</td>\n",
       "      <td>39.459999</td>\n",
       "      <td>37.500000</td>\n",
       "      <td>39.099998</td>\n",
       "      <td>0.0</td>\n",
       "    </tr>\n",
       "    <tr>\n",
       "      <th>1</th>\n",
       "      <td>1.830000</td>\n",
       "      <td>1.710000</td>\n",
       "      <td>1.770000</td>\n",
       "      <td>1.770000</td>\n",
       "      <td>1.680000</td>\n",
       "      <td>1.780000</td>\n",
       "      <td>1.800000</td>\n",
       "      <td>1.700000</td>\n",
       "      <td>1.750000</td>\n",
       "      <td>1.780000</td>\n",
       "      <td>...</td>\n",
       "      <td>1.800000</td>\n",
       "      <td>1.790000</td>\n",
       "      <td>1.770000</td>\n",
       "      <td>1.740000</td>\n",
       "      <td>1.740000</td>\n",
       "      <td>1.800000</td>\n",
       "      <td>1.780000</td>\n",
       "      <td>1.750000</td>\n",
       "      <td>1.690000</td>\n",
       "      <td>1.0</td>\n",
       "    </tr>\n",
       "    <tr>\n",
       "      <th>2</th>\n",
       "      <td>68177.687500</td>\n",
       "      <td>66138.421875</td>\n",
       "      <td>72981.882812</td>\n",
       "      <td>74304.328125</td>\n",
       "      <td>67549.656250</td>\n",
       "      <td>69367.343750</td>\n",
       "      <td>69169.406250</td>\n",
       "      <td>73268.609375</td>\n",
       "      <td>74465.843750</td>\n",
       "      <td>72503.367188</td>\n",
       "      <td>...</td>\n",
       "      <td>73438.882812</td>\n",
       "      <td>71053.351562</td>\n",
       "      <td>71112.617188</td>\n",
       "      <td>74916.476562</td>\n",
       "      <td>72571.578125</td>\n",
       "      <td>66348.968750</td>\n",
       "      <td>71063.718750</td>\n",
       "      <td>67404.273438</td>\n",
       "      <td>74920.242188</td>\n",
       "      <td>1.0</td>\n",
       "    </tr>\n",
       "    <tr>\n",
       "      <th>3</th>\n",
       "      <td>44889.058594</td>\n",
       "      <td>39191.859375</td>\n",
       "      <td>40728.460938</td>\n",
       "      <td>38576.359375</td>\n",
       "      <td>45876.058594</td>\n",
       "      <td>47034.000000</td>\n",
       "      <td>46611.429688</td>\n",
       "      <td>37668.320312</td>\n",
       "      <td>40980.890625</td>\n",
       "      <td>38466.148438</td>\n",
       "      <td>...</td>\n",
       "      <td>42625.671875</td>\n",
       "      <td>40684.199219</td>\n",
       "      <td>46960.730469</td>\n",
       "      <td>44546.800781</td>\n",
       "      <td>45410.531250</td>\n",
       "      <td>47139.441406</td>\n",
       "      <td>43095.679688</td>\n",
       "      <td>40888.339844</td>\n",
       "      <td>39615.191406</td>\n",
       "      <td>0.0</td>\n",
       "    </tr>\n",
       "    <tr>\n",
       "      <th>4</th>\n",
       "      <td>5.700000</td>\n",
       "      <td>5.400000</td>\n",
       "      <td>5.280000</td>\n",
       "      <td>5.380000</td>\n",
       "      <td>5.270000</td>\n",
       "      <td>5.610000</td>\n",
       "      <td>6.000000</td>\n",
       "      <td>5.380000</td>\n",
       "      <td>5.340000</td>\n",
       "      <td>5.870000</td>\n",
       "      <td>...</td>\n",
       "      <td>5.170000</td>\n",
       "      <td>5.670000</td>\n",
       "      <td>5.600000</td>\n",
       "      <td>5.940000</td>\n",
       "      <td>5.730000</td>\n",
       "      <td>5.220000</td>\n",
       "      <td>5.300000</td>\n",
       "      <td>5.730000</td>\n",
       "      <td>5.910000</td>\n",
       "      <td>0.0</td>\n",
       "    </tr>\n",
       "  </tbody>\n",
       "</table>\n",
       "<p>5 rows × 101 columns</p>\n",
       "</div>"
      ],
      "text/plain": [
       "             X1            X2            X3            X4            X5  \\\n",
       "0     39.020000     36.490002     38.200001     38.849998     39.380001   \n",
       "1      1.830000      1.710000      1.770000      1.770000      1.680000   \n",
       "2  68177.687500  66138.421875  72981.882812  74304.328125  67549.656250   \n",
       "3  44889.058594  39191.859375  40728.460938  38576.359375  45876.058594   \n",
       "4      5.700000      5.400000      5.280000      5.380000      5.270000   \n",
       "\n",
       "             X6            X7            X8            X9           X10  ...  \\\n",
       "0     39.740002     37.020000     39.529999     38.810001     38.790001  ...   \n",
       "1      1.780000      1.800000      1.700000      1.750000      1.780000  ...   \n",
       "2  69367.343750  69169.406250  73268.609375  74465.843750  72503.367188  ...   \n",
       "3  47034.000000  46611.429688  37668.320312  40980.890625  38466.148438  ...   \n",
       "4      5.610000      6.000000      5.380000      5.340000      5.870000  ...   \n",
       "\n",
       "            X92           X93           X94           X95           X96  \\\n",
       "0     36.619999     36.919998     38.799999     38.520000     38.070000   \n",
       "1      1.800000      1.790000      1.770000      1.740000      1.740000   \n",
       "2  73438.882812  71053.351562  71112.617188  74916.476562  72571.578125   \n",
       "3  42625.671875  40684.199219  46960.730469  44546.800781  45410.531250   \n",
       "4      5.170000      5.670000      5.600000      5.940000      5.730000   \n",
       "\n",
       "            X97           X98           X99          X100  class  \n",
       "0     36.730000     39.459999     37.500000     39.099998    0.0  \n",
       "1      1.800000      1.780000      1.750000      1.690000    1.0  \n",
       "2  66348.968750  71063.718750  67404.273438  74920.242188    1.0  \n",
       "3  47139.441406  43095.679688  40888.339844  39615.191406    0.0  \n",
       "4      5.220000      5.300000      5.730000      5.910000    0.0  \n",
       "\n",
       "[5 rows x 101 columns]"
      ]
     },
     "execution_count": 7,
     "metadata": {},
     "output_type": "execute_result"
    }
   ],
   "source": [
    "training_table.head()"
   ]
  },
  {
   "cell_type": "code",
   "execution_count": 8,
   "metadata": {},
   "outputs": [],
   "source": [
    "dim = 1\n",
    "seq_length = 100\n",
    "DROP = 0.5\n",
    "ls = 1e-2\n",
    "tau = 1"
   ]
  },
  {
   "cell_type": "code",
   "execution_count": 9,
   "metadata": {},
   "outputs": [],
   "source": [
    "x_train = minmax_scale(training_table.drop(\"class\", axis=1).values, axis=1)\n",
    "y_train = training_table[\"class\"].values\n",
    "x_test = minmax_scale(testing_table.drop(\"class\", axis=1).values, axis=1)\n",
    "y_test = testing_table[\"class\"].values\n",
    "\n",
    "x_train = np.expand_dims(x_train, axis=-1)\n",
    "x_test = np.expand_dims(x_test, axis=-1)\n",
    "\n",
    "x_train, x_val, y_train, y_val = train_test_split(x_train, y_train, test_size=0.3, random_state=42)\n",
    "\n",
    "N = len(y_train)\n",
    "\n",
    "train_dl = torch.utils.data.DataLoader(\n",
    "        [(x_train[i], y_train[i]) for i in range(len(y_train))],\n",
    "        batch_size=10,\n",
    "        shuffle=True\n",
    ")\n",
    "val_dl = torch.utils.data.DataLoader(\n",
    "        [(x_val[i], y_val[i]) for i in range(len(y_val))],\n",
    "        batch_size=10,\n",
    "        shuffle=False\n",
    ")\n",
    "test_dl = torch.utils.data.DataLoader(\n",
    "        [(x_test[i], y_test[i]) for i in range(len(y_test))],\n",
    "        batch_size=len(y_test),\n",
    "        shuffle=False\n",
    ")"
   ]
  },
  {
   "cell_type": "code",
   "execution_count": 10,
   "metadata": {},
   "outputs": [],
   "source": [
    "class Net(nn.Module, MCModuleMixin):\n",
    "    def __init__(self):\n",
    "        super(Net, self).__init__()\n",
    "        self.rnn = StochasticLSTM(1, 10)\n",
    "        self.fc = nn.Linear(10, 1)\n",
    "\n",
    "    def regularizer(self):\n",
    "        length_scale = ls\n",
    "        precision = tau\n",
    "        \n",
    "        # Weight and bias regularizer\n",
    "        weight_sum, bias_sum, dropout_reg = self.rnn.regularizer()\n",
    "        \n",
    "        return (weight_sum + bias_sum + dropout_reg) * 0.5 * length_scale**2 / precision\n",
    "\n",
    "    def get_output_shape(self, x: torch.Tensor):\n",
    "        B = x.shape[1]\n",
    "        return ((B,), (B,))\n",
    "    \n",
    "    def forward(self, x: torch.Tensor):\n",
    "        out, _ = self.rnn(x)\n",
    "        out = out[-1]\n",
    "        out = torch.tanh(out)\n",
    "        pre_sigmoid = self.fc(out).flatten()\n",
    "        post_sigmoid = torch.sigmoid(pre_sigmoid)\n",
    "        return post_sigmoid, pre_sigmoid"
   ]
  },
  {
   "cell_type": "code",
   "execution_count": 11,
   "metadata": {},
   "outputs": [],
   "source": [
    "net = Net()\n",
    "def criterion(post_sigmoid, pre_sigmoid, label):\n",
    "    return F.binary_cross_entropy_with_logits(pre_sigmoid, label)\n",
    "\n",
    "optimizer = optim.Adam(net.parameters(), lr=1e-3)"
   ]
  },
  {
   "cell_type": "code",
   "execution_count": 12,
   "metadata": {},
   "outputs": [
    {
     "name": "stdout",
     "output_type": "stream",
     "text": [
      "Original dropout rate = 0.51\n"
     ]
    }
   ],
   "source": [
    "print(\"Original dropout rate = %.2f\" % net.rnn.first_layer.p_logit.sigmoid().item())"
   ]
  },
  {
   "cell_type": "code",
   "execution_count": 13,
   "metadata": {},
   "outputs": [],
   "source": [
    "metrics = [BCMetric()]"
   ]
  },
  {
   "cell_type": "code",
   "execution_count": 14,
   "metadata": {},
   "outputs": [
    {
     "name": "stdout",
     "output_type": "stream",
     "text": [
      "[1, 100.00%] train loss: 0.697775\n",
      "[1, 100.00%] validate loss: 0.722033\n",
      "Accuracy = 0.484\n",
      "[2, 100.00%] train loss: 0.686483\n",
      "[2, 100.00%] validate loss: 0.700622\n",
      "Accuracy = 0.484\n",
      "[3, 100.00%] train loss: 0.646859\n",
      "[3, 100.00%] validate loss: 0.623990\n",
      "Accuracy = 0.621\n",
      "[4, 100.00%] train loss: 0.535578\n",
      "[4, 100.00%] validate loss: 0.507431\n",
      "Accuracy = 0.698\n",
      "[5, 100.00%] train loss: 0.446585\n",
      "[5, 100.00%] validate loss: 0.409110\n",
      "Accuracy = 0.743\n",
      "[6, 100.00%] train loss: 0.352934\n",
      "[6, 100.00%] validate loss: 0.339454\n",
      "Accuracy = 0.776\n",
      "[7, 100.00%] train loss: 0.285912\n",
      "[7, 100.00%] validate loss: 0.263185\n",
      "Accuracy = 0.802\n",
      "[8, 100.00%] train loss: 0.237406\n",
      "[8, 100.00%] validate loss: 0.217029\n",
      "Accuracy = 0.823\n",
      "[9, 100.00%] train loss: 0.208776\n",
      "[9, 100.00%] validate loss: 0.213211\n",
      "Accuracy = 0.838\n",
      "[10, 100.00%] train loss: 0.166768\n",
      "[10, 100.00%] validate loss: 0.145287\n",
      "Accuracy = 0.853\n",
      "[11, 100.00%] train loss: 0.154308\n",
      "[11, 100.00%] validate loss: 0.161741\n",
      "Accuracy = 0.865\n",
      "Retry 1/5\n",
      "[12, 100.00%] train loss: 0.162654\n",
      "[12, 100.00%] validate loss: 0.115863\n",
      "Accuracy = 0.875\n",
      "[13, 100.00%] train loss: 0.108184\n",
      "[13, 100.00%] validate loss: 0.102611\n",
      "Accuracy = 0.884\n",
      "[14, 100.00%] train loss: 0.122767\n",
      "[14, 100.00%] validate loss: 0.091120\n",
      "Accuracy = 0.892\n",
      "[15, 100.00%] train loss: 0.097599\n",
      "[15, 100.00%] validate loss: 0.120984\n",
      "Accuracy = 0.898\n",
      "Retry 1/5\n",
      "[16, 100.00%] train loss: 0.133224\n",
      "[16, 100.00%] validate loss: 0.106606\n",
      "Accuracy = 0.903\n",
      "Retry 2/5\n",
      "[17, 100.00%] train loss: 0.086412\n",
      "[17, 100.00%] validate loss: 0.076650\n",
      "Accuracy = 0.908\n",
      "[18, 100.00%] train loss: 0.075759\n",
      "[18, 100.00%] validate loss: 0.084010\n",
      "Accuracy = 0.911\n",
      "Retry 1/5\n",
      "[19, 100.00%] train loss: 0.065309\n",
      "[19, 100.00%] validate loss: 0.057281\n",
      "Accuracy = 0.916\n",
      "[20, 100.00%] train loss: 0.069491\n",
      "[20, 100.00%] validate loss: 0.074528\n",
      "Accuracy = 0.920\n",
      "Retry 1/5\n",
      "[21, 100.00%] train loss: 0.053356\n",
      "[21, 100.00%] validate loss: 0.045397\n",
      "Accuracy = 0.923\n",
      "[22, 100.00%] train loss: 0.084525\n",
      "[22, 100.00%] validate loss: 0.063929\n",
      "Accuracy = 0.926\n",
      "Retry 1/5\n",
      "[23, 100.00%] train loss: 0.090298\n",
      "[23, 100.00%] validate loss: 0.072246\n",
      "Accuracy = 0.929\n",
      "Retry 2/5\n",
      "[24, 100.00%] train loss: 0.049790\n",
      "[24, 100.00%] validate loss: 0.083031\n",
      "Accuracy = 0.931\n",
      "Retry 3/5\n",
      "[25, 100.00%] train loss: 0.083763\n",
      "[25, 100.00%] validate loss: 0.048154\n",
      "Accuracy = 0.933\n",
      "Retry 4/5\n",
      "[26, 100.00%] train loss: 0.052542\n",
      "[26, 100.00%] validate loss: 0.026064\n",
      "Accuracy = 0.936\n",
      "[27, 100.00%] train loss: 0.026425\n",
      "[27, 100.00%] validate loss: 0.048288\n",
      "Accuracy = 0.938\n",
      "Retry 1/5\n",
      "[28, 100.00%] train loss: 0.029568\n",
      "[28, 100.00%] validate loss: 0.044524\n",
      "Accuracy = 0.940\n",
      "Retry 2/5\n",
      "[29, 100.00%] train loss: 0.042293\n",
      "[29, 100.00%] validate loss: 0.067823\n",
      "Accuracy = 0.942\n",
      "Retry 3/5\n",
      "[30, 100.00%] train loss: 0.028762\n",
      "[30, 100.00%] validate loss: 0.044177\n",
      "Accuracy = 0.944\n",
      "Retry 4/5\n",
      "[31, 100.00%] train loss: 0.026091\n",
      "[31, 100.00%] validate loss: 0.056282\n",
      "Accuracy = 0.945\n",
      "Retry 5/5\n",
      "CPU times: user 2min 9s, sys: 1.57 s, total: 2min 10s\n",
      "Wall time: 2min 14s\n"
     ]
    }
   ],
   "source": [
    "%%time\n",
    "net = train_model(net, train_dl, val_dl, criterion, optimizer, \"hill-valley-concrete-model.pt\", 100, metrics=metrics, patience=5)"
   ]
  },
  {
   "cell_type": "code",
   "execution_count": 15,
   "metadata": {},
   "outputs": [
    {
     "name": "stdout",
     "output_type": "stream",
     "text": [
      "Optimized dropout rate = 0.44\n"
     ]
    }
   ],
   "source": [
    "print(\"Optimized dropout rate = %.2f\" % net.rnn.first_layer.p_logit.sigmoid().item())"
   ]
  },
  {
   "cell_type": "markdown",
   "metadata": {},
   "source": [
    "### Test"
   ]
  },
  {
   "cell_type": "code",
   "execution_count": 33,
   "metadata": {},
   "outputs": [
    {
     "name": "stdout",
     "output_type": "stream",
     "text": [
      "Accuracy = 100.00%\n"
     ]
    }
   ],
   "source": [
    "net.eval()\n",
    "acc = 0.0\n",
    "with torch.no_grad():\n",
    "    for i, (x, y) in enumerate(test_dl):\n",
    "        post_sigmoids, pre_sigmoids = net.sample(10, x.transpose(-2,-3))\n",
    "        uncertainties = uncertainty_avg(post_sigmoids)\n",
    "        scores = score_avg(post_sigmoids)\n",
    "        predictions = torch.round(scores)\n",
    "        acc += (y == predictions).sum().item()\n",
    "\n",
    "acc /= len(test_dl.dataset)\n",
    "print(\"Accuracy = %.2f%%\" % (acc * 100))"
   ]
  },
  {
   "cell_type": "code",
   "execution_count": 34,
   "metadata": {},
   "outputs": [],
   "source": [
    "A = aleatoric_uncertainty(post_sigmoids)\n",
    "E = epistemic_uncertainty(post_sigmoids)"
   ]
  },
  {
   "cell_type": "code",
   "execution_count": 35,
   "metadata": {},
   "outputs": [
    {
     "data": {
      "text/plain": [
       "<matplotlib.legend.Legend at 0x12b388e90>"
      ]
     },
     "execution_count": 35,
     "metadata": {},
     "output_type": "execute_result"
    },
    {
     "data": {
      "image/png": "[encoded data removed]",
      "text/plain": [
       "<Figure size 432x288 with 1 Axes>"
      ]
     },
     "metadata": {
      "needs_background": "light"
     },
     "output_type": "display_data"
    }
   ],
   "source": [
    "dist = torch.abs(y - scores)\n",
    "sns.scatterplot(x=dist, y=uncertainties)\n",
    "sns.scatterplot(x=dist, y=A)\n",
    "sns.scatterplot(x=dist, y=E)\n",
    "plt.xlabel(\"diff\")\n",
    "plt.ylabel(\"uncertainty\")\n",
    "plt.legend(labels=['uncertainty', 'aleatoric', 'epistemic'])"
   ]
  },
  {
   "cell_type": "markdown",
   "metadata": {},
   "source": [
    "### Spread pre and post sigmoid analysis"
   ]
  },
  {
   "cell_type": "code",
   "execution_count": 36,
   "metadata": {},
   "outputs": [],
   "source": [
    "T, B = pre_sigmoids.shape\n",
    "pre_sigmoid_df = pd.DataFrame(columns=[\"entry\",\"value\"])\n",
    "post_sigmoid_df = pd.DataFrame(columns=[\"entry\",\"value\"])\n",
    "for i in range(T):\n",
    "    for j in range(20):\n",
    "        pre_sigmoid_df.loc[i*B + j] = (j+1, pre_sigmoids[i,j])\n",
    "        post_sigmoid_df.loc[i*B + j] = (j+1, post_sigmoids[i,j])"
   ]
  },
  {
   "cell_type": "code",
   "execution_count": 37,
   "metadata": {},
   "outputs": [
    {
     "data": {
      "image/png": "[encoded data removed]",
      "text/plain": [
       "<Figure size 864x360 with 1 Axes>"
      ]
     },
     "metadata": {
      "needs_background": "light"
     },
     "output_type": "display_data"
    }
   ],
   "source": [
    "plot = sns.catplot(x=\"entry\", y=\"value\", data=pre_sigmoid_df)\n",
    "plot.fig.set_figwidth(12)"
   ]
  },
  {
   "cell_type": "code",
   "execution_count": 38,
   "metadata": {},
   "outputs": [
    {
     "data": {
      "image/png": "[encoded data removed]",
      "text/plain": [
       "<Figure size 864x360 with 1 Axes>"
      ]
     },
     "metadata": {
      "needs_background": "light"
     },
     "output_type": "display_data"
    }
   ],
   "source": [
    "plot = sns.catplot(x=\"entry\", y=\"value\", data=post_sigmoid_df)\n",
    "plot.fig.set_figwidth(12)"
   ]
  },
  {
   "cell_type": "markdown",
   "metadata": {},
   "source": [
    "### Flat line test"
   ]
  },
  {
   "cell_type": "code",
   "execution_count": 39,
   "metadata": {},
   "outputs": [
    {
     "data": {
      "image/png": "[encoded data removed]",
      "text/plain": [
       "<Figure size 432x288 with 1 Axes>"
      ]
     },
     "metadata": {
      "needs_background": "light"
     },
     "output_type": "display_data"
    },
    {
     "name": "stdout",
     "output_type": "stream",
     "text": [
      "predictions tensor([0.9727, 0.9762])\n",
      "uncertainties tensor([0.0265, 0.0232])\n"
     ]
    }
   ],
   "source": [
    "new_x_test = minmax_scale(np.full((2, 100), 0., dtype=np.float32), axis=1)\n",
    "new_x_test = np.expand_dims(new_x_test, axis=-1)\n",
    "new_x_test = new_x_test.swapaxes(-2,-3)\n",
    "new_x_test = torch.tensor(new_x_test)\n",
    "\n",
    "net.eval()\n",
    "with torch.no_grad():\n",
    "    outputs,_ = net.sample(10, new_x_test)\n",
    "    uncertainties = uncertainty_avg(outputs)\n",
    "    scores = score_avg(outputs)\n",
    "\n",
    "plt.plot(new_x_test[:,0])\n",
    "plt.show()\n",
    "print(\"predictions\", scores)\n",
    "print(\"uncertainties\", uncertainties)"
   ]
  },
  {
   "cell_type": "code",
   "execution_count": 40,
   "metadata": {},
   "outputs": [
    {
     "data": {
      "image/png": "[encoded data removed]",
      "text/plain": [
       "<Figure size 432x288 with 1 Axes>"
      ]
     },
     "metadata": {
      "needs_background": "light"
     },
     "output_type": "display_data"
    },
    {
     "name": "stdout",
     "output_type": "stream",
     "text": [
      "predictions tensor([0.2144, 0.6449])\n",
      "uncertainties tensor([0.1684, 0.2290])\n"
     ]
    }
   ],
   "source": [
    "new_x_test = minmax_scale(np.random.randn(2, 100).astype(np.float32), axis=1)\n",
    "new_x_test = np.expand_dims(new_x_test, axis=-1)\n",
    "new_x_test = new_x_test.swapaxes(-2,-3)\n",
    "new_x_test = torch.tensor(new_x_test)\n",
    "\n",
    "net.eval()\n",
    "with torch.no_grad():\n",
    "    outputs,_ = net.sample(10, new_x_test)\n",
    "    uncertainties = uncertainty_avg(outputs)\n",
    "    scores = score_avg(outputs)\n",
    "\n",
    "plt.plot(new_x_test[:,0])\n",
    "plt.show()\n",
    "print(\"predictions\", scores)\n",
    "print(\"uncertainties\", uncertainties)"
   ]
  },
  {
   "cell_type": "markdown",
   "metadata": {},
   "source": [
    "### Note\n",
    "In binary classification, the maximum uncertainty is 0.25 (need to verify this), and the minimum is 0."
   ]
  },
  {
   "cell_type": "code",
   "execution_count": null,
   "metadata": {},
   "outputs": [],
   "source": []
  }
 ],
 "metadata": {
  "kernelspec": {
   "display_name": "Python 3",
   "language": "python",
   "name": "python3"
  },
  "language_info": {
   "codemirror_mode": {
    "name": "ipython",
    "version": 3
   },
   "file_extension": ".py",
   "mimetype": "text/x-python",
   "name": "python",
   "nbconvert_exporter": "python",
   "pygments_lexer": "ipython3",
   "version": "3.7.7"
  }
 },
 "nbformat": 4,
 "nbformat_minor": 4
}
