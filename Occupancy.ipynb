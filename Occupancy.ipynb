{
 "cells": [
  {
   "cell_type": "code",
   "execution_count": 1,
   "metadata": {},
   "outputs": [],
   "source": [
    "import pandas as pd\n",
    "import numpy as np\n",
    "import matplotlib.pyplot as plt\n",
    "import seaborn as sns\n",
    "import datetime as dt\n",
    "plt.style.use(\"fivethirtyeight\")"
   ]
  },
  {
   "cell_type": "code",
   "execution_count": 2,
   "metadata": {},
   "outputs": [],
   "source": [
    "from sklearn.metrics import roc_auc_score, accuracy_score, precision_score\n",
    "from sklearn.preprocessing import RobustScaler\n",
    "from sklearn.model_selection import train_test_split"
   ]
  },
  {
   "cell_type": "code",
   "execution_count": 3,
   "metadata": {},
   "outputs": [],
   "source": [
    "training_table = pd.read_csv(\"./data/occupancy_data/datatraining.txt\")"
   ]
  },
  {
   "cell_type": "code",
   "execution_count": 4,
   "metadata": {},
   "outputs": [],
   "source": [
    "# training_table[\"year\"] = training_table[\"date\"].str[:4].astype(int) # only 2015\n",
    "# training_table[\"month\"] = training_table[\"date\"].str[5:7].astype(int) # only February\n",
    "training_table[\"day\"] = training_table[\"date\"].str[8:10].astype(int)\n",
    "training_table[\"hour\"] = training_table[\"date\"].str[11:13].astype(int)\n",
    "\n",
    "training_table[\"Temperature\"] = training_table[\"Temperature\"].astype(np.float32)\n",
    "training_table[\"Humidity\"] = training_table[\"Humidity\"].astype(np.float32)\n",
    "training_table[\"Light\"] = training_table[\"Light\"].astype(np.float32)\n",
    "training_table[\"CO2\"] = training_table[\"CO2\"].astype(np.float32)\n",
    "training_table[\"HumidityRatio\"] = training_table[\"HumidityRatio\"].astype(np.float32)\n",
    "training_table[\"Occupancy\"] = training_table[\"Occupancy\"].astype(np.float32)"
   ]
  },
  {
   "cell_type": "code",
   "execution_count": 5,
   "metadata": {},
   "outputs": [],
   "source": [
    "training_table = training_table.drop(\"date\", axis=1)"
   ]
  },
  {
   "cell_type": "code",
   "execution_count": 6,
   "metadata": {},
   "outputs": [
    {
     "data": {
      "text/html": [
       "<div>\n",
       "<style scoped>\n",
       "    .dataframe tbody tr th:only-of-type {\n",
       "        vertical-align: middle;\n",
       "    }\n",
       "\n",
       "    .dataframe tbody tr th {\n",
       "        vertical-align: top;\n",
       "    }\n",
       "\n",
       "    .dataframe thead th {\n",
       "        text-align: right;\n",
       "    }\n",
       "</style>\n",
       "<table border=\"1\" class=\"dataframe\">\n",
       "  <thead>\n",
       "    <tr style=\"text-align: right;\">\n",
       "      <th></th>\n",
       "      <th>Temperature</th>\n",
       "      <th>Humidity</th>\n",
       "      <th>Light</th>\n",
       "      <th>CO2</th>\n",
       "      <th>HumidityRatio</th>\n",
       "      <th>Occupancy</th>\n",
       "      <th>day</th>\n",
       "      <th>hour</th>\n",
       "    </tr>\n",
       "  </thead>\n",
       "  <tbody>\n",
       "    <tr>\n",
       "      <th>1</th>\n",
       "      <td>23.18</td>\n",
       "      <td>27.271999</td>\n",
       "      <td>426.0</td>\n",
       "      <td>721.25</td>\n",
       "      <td>0.004793</td>\n",
       "      <td>1.0</td>\n",
       "      <td>4</td>\n",
       "      <td>17</td>\n",
       "    </tr>\n",
       "    <tr>\n",
       "      <th>2</th>\n",
       "      <td>23.15</td>\n",
       "      <td>27.267500</td>\n",
       "      <td>429.5</td>\n",
       "      <td>714.00</td>\n",
       "      <td>0.004783</td>\n",
       "      <td>1.0</td>\n",
       "      <td>4</td>\n",
       "      <td>17</td>\n",
       "    </tr>\n",
       "    <tr>\n",
       "      <th>3</th>\n",
       "      <td>23.15</td>\n",
       "      <td>27.245001</td>\n",
       "      <td>426.0</td>\n",
       "      <td>713.50</td>\n",
       "      <td>0.004779</td>\n",
       "      <td>1.0</td>\n",
       "      <td>4</td>\n",
       "      <td>17</td>\n",
       "    </tr>\n",
       "    <tr>\n",
       "      <th>4</th>\n",
       "      <td>23.15</td>\n",
       "      <td>27.200001</td>\n",
       "      <td>426.0</td>\n",
       "      <td>708.25</td>\n",
       "      <td>0.004772</td>\n",
       "      <td>1.0</td>\n",
       "      <td>4</td>\n",
       "      <td>17</td>\n",
       "    </tr>\n",
       "    <tr>\n",
       "      <th>5</th>\n",
       "      <td>23.10</td>\n",
       "      <td>27.200001</td>\n",
       "      <td>426.0</td>\n",
       "      <td>704.50</td>\n",
       "      <td>0.004757</td>\n",
       "      <td>1.0</td>\n",
       "      <td>4</td>\n",
       "      <td>17</td>\n",
       "    </tr>\n",
       "  </tbody>\n",
       "</table>\n",
       "</div>"
      ],
      "text/plain": [
       "   Temperature   Humidity  Light     CO2  HumidityRatio  Occupancy  day  hour\n",
       "1        23.18  27.271999  426.0  721.25       0.004793        1.0    4    17\n",
       "2        23.15  27.267500  429.5  714.00       0.004783        1.0    4    17\n",
       "3        23.15  27.245001  426.0  713.50       0.004779        1.0    4    17\n",
       "4        23.15  27.200001  426.0  708.25       0.004772        1.0    4    17\n",
       "5        23.10  27.200001  426.0  704.50       0.004757        1.0    4    17"
      ]
     },
     "execution_count": 6,
     "metadata": {},
     "output_type": "execute_result"
    }
   ],
   "source": [
    "training_table.head()"
   ]
  },
  {
   "cell_type": "code",
   "execution_count": 7,
   "metadata": {},
   "outputs": [
    {
     "data": {
      "text/plain": [
       "<matplotlib.axes._subplots.AxesSubplot at 0x7fde8717ba90>"
      ]
     },
     "execution_count": 7,
     "metadata": {},
     "output_type": "execute_result"
    },
    {
     "data": {
      "image/png": "[encoded data removed]",
      "text/plain": [
       "<Figure size 432x432 with 2 Axes>"
      ]
     },
     "metadata": {},
     "output_type": "display_data"
    }
   ],
   "source": [
    "plt.figure(figsize=(6, 6))\n",
    "sns.heatmap(training_table.corr(), annot=True, fmt=\".0%\")"
   ]
  },
  {
   "cell_type": "markdown",
   "metadata": {},
   "source": [
    "> There seems to be little correlation between `day` and `hour` with **Occupancy**."
   ]
  },
  {
   "cell_type": "code",
   "execution_count": 8,
   "metadata": {},
   "outputs": [],
   "source": [
    "training_table = training_table.drop(\"day\", axis=1)\n",
    "training_table = training_table.drop(\"hour\", axis=1)"
   ]
  },
  {
   "cell_type": "code",
   "execution_count": 9,
   "metadata": {},
   "outputs": [],
   "source": [
    "SEQ_LEN = 50\n",
    "NUM_FEAT = 5"
   ]
  },
  {
   "cell_type": "code",
   "execution_count": 10,
   "metadata": {},
   "outputs": [],
   "source": [
    "scaler = RobustScaler()"
   ]
  },
  {
   "cell_type": "code",
   "execution_count": 11,
   "metadata": {},
   "outputs": [],
   "source": [
    "X_train = training_table.drop(\"Occupancy\", axis=1).values\n",
    "Y_train = training_table[\"Occupancy\"].values\n",
    "X_train = scaler.fit_transform(X_train, Y_train)\n",
    "training_sequence = [(X_train[i:i+SEQ_LEN, :], Y_train[i+SEQ_LEN]) for i in range(0, len(X_train) - SEQ_LEN)]\n",
    "N = len(Y_train)"
   ]
  },
  {
   "cell_type": "code",
   "execution_count": 12,
   "metadata": {},
   "outputs": [],
   "source": [
    "import torch\n",
    "from torch import nn\n",
    "from torch.nn import functional as F\n",
    "from torch import optim\n",
    "from train_utils import train_model, BCLogitMetric"
   ]
  },
  {
   "cell_type": "code",
   "execution_count": 13,
   "metadata": {},
   "outputs": [],
   "source": [
    "train_set, test_set = train_test_split(training_sequence, test_size=0.3, shuffle=True)\n",
    "train_dl = torch.utils.data.DataLoader(train_set, batch_size=200, shuffle=True, num_workers=2)\n",
    "val_dl = torch.utils.data.DataLoader(test_set, batch_size=200, shuffle=True, num_workers=2)"
   ]
  },
  {
   "cell_type": "code",
   "execution_count": 14,
   "metadata": {},
   "outputs": [],
   "source": [
    "class Net(nn.Module):\n",
    "    def __init__(self):\n",
    "        super(Net, self).__init__()\n",
    "        self.rnn = nn.LSTM(NUM_FEAT, 50)\n",
    "        self.fc1 = nn.Linear(50, 25)\n",
    "        self.fc2 = nn.Linear(25, 1)\n",
    "    \n",
    "    def regularizer(self):        \n",
    "        return 0.\n",
    "    \n",
    "    def forward(self, x):\n",
    "        result, _ = self.rnn(x)\n",
    "        result = result[-1,:]\n",
    "        result = torch.relu(self.fc1(result))\n",
    "        result = self.fc2(result).flatten()\n",
    "        return result"
   ]
  },
  {
   "cell_type": "code",
   "execution_count": 15,
   "metadata": {},
   "outputs": [],
   "source": [
    "net = Net()\n",
    "criterion = nn.BCEWithLogitsLoss()\n",
    "optimizer = optim.Adam(net.parameters(), lr=0.001)"
   ]
  },
  {
   "cell_type": "code",
   "execution_count": 16,
   "metadata": {},
   "outputs": [],
   "source": [
    "metrics = [BCLogitMetric()]"
   ]
  },
  {
   "cell_type": "code",
   "execution_count": 17,
   "metadata": {},
   "outputs": [
    {
     "name": "stdout",
     "output_type": "stream",
     "text": [
      "[1, 100.00%] train loss: 0.597367\n",
      "[1, 100.00%] validate loss: 0.376645\n",
      "Accuracy = 0.927\n",
      "[2, 100.00%] train loss: 0.291806\n",
      "[2, 100.00%] validate loss: 0.253961\n",
      "Accuracy = 0.931\n",
      "[3, 100.00%] train loss: 0.245157\n",
      "[3, 100.00%] validate loss: 0.226765\n",
      "Accuracy = 0.924\n",
      "[4, 100.00%] train loss: 0.188065\n",
      "[4, 100.00%] validate loss: 0.160681\n",
      "Accuracy = 0.928\n",
      "[5, 100.00%] train loss: 0.120644\n",
      "[5, 100.00%] validate loss: 0.090322\n",
      "Accuracy = 0.937\n",
      "[6, 100.00%] train loss: 0.084630\n",
      "[6, 100.00%] validate loss: 0.073954\n",
      "Accuracy = 0.944\n",
      "[7, 100.00%] train loss: 0.073512\n",
      "[7, 100.00%] validate loss: 0.071653\n",
      "Accuracy = 0.949\n",
      "[8, 100.00%] train loss: 0.067087\n",
      "[8, 100.00%] validate loss: 0.068138\n",
      "Accuracy = 0.953\n",
      "[9, 100.00%] train loss: 0.063011\n",
      "[9, 100.00%] validate loss: 0.065038\n",
      "Accuracy = 0.957\n",
      "[10, 100.00%] train loss: 0.057594\n",
      "[10, 100.00%] validate loss: 0.063088\n",
      "Accuracy = 0.960\n",
      "[11, 100.00%] train loss: 0.055517\n",
      "[11, 100.00%] validate loss: 0.062140\n",
      "Accuracy = 0.962\n",
      "[12, 100.00%] train loss: 0.051444\n",
      "[12, 100.00%] validate loss: 0.060573\n",
      "Accuracy = 0.964\n",
      "[13, 100.00%] train loss: 0.051982\n",
      "[13, 100.00%] validate loss: 0.066294\n",
      "Accuracy = 0.965\n",
      "Retry 1/5\n",
      "[14, 100.00%] train loss: 0.051171\n",
      "[14, 100.00%] validate loss: 0.072635\n",
      "Accuracy = 0.967\n",
      "Retry 2/5\n",
      "[15, 100.00%] train loss: 0.046577\n",
      "[15, 100.00%] validate loss: 0.058704\n",
      "Accuracy = 0.968\n",
      "[16, 100.00%] train loss: 0.047423\n",
      "[16, 100.00%] validate loss: 0.060030\n",
      "Accuracy = 0.969\n",
      "Retry 1/5\n",
      "[17, 100.00%] train loss: 0.046192\n",
      "[17, 100.00%] validate loss: 0.056079\n",
      "Accuracy = 0.970\n",
      "[18, 100.00%] train loss: 0.046314\n",
      "[18, 100.00%] validate loss: 0.052781\n",
      "Accuracy = 0.971\n",
      "[19, 100.00%] train loss: 0.042171\n",
      "[19, 100.00%] validate loss: 0.055328\n",
      "Accuracy = 0.972\n",
      "Retry 1/5\n",
      "[20, 100.00%] train loss: 0.042855\n",
      "[20, 100.00%] validate loss: 0.060315\n",
      "Accuracy = 0.972\n",
      "Retry 2/5\n",
      "[21, 100.00%] train loss: 0.044572\n",
      "[21, 100.00%] validate loss: 0.050636\n",
      "Accuracy = 0.973\n",
      "[22, 100.00%] train loss: 0.043232\n",
      "[22, 100.00%] validate loss: 0.054322\n",
      "Accuracy = 0.974\n",
      "Retry 1/5\n",
      "[23, 100.00%] train loss: 0.041634\n",
      "[23, 100.00%] validate loss: 0.051904\n",
      "Accuracy = 0.974\n",
      "Retry 2/5\n",
      "[24, 100.00%] train loss: 0.045870\n",
      "[24, 100.00%] validate loss: 0.106804\n",
      "Accuracy = 0.974\n",
      "Retry 3/5\n",
      "[25, 100.00%] train loss: 0.090086\n",
      "[25, 100.00%] validate loss: 0.068694\n",
      "Accuracy = 0.975\n",
      "Retry 4/5\n",
      "[26, 100.00%] train loss: 0.054612\n",
      "[26, 100.00%] validate loss: 0.053592\n",
      "Accuracy = 0.975\n",
      "Retry 5/5\n",
      "CPU times: user 1min 33s, sys: 12.6 s, total: 1min 45s\n",
      "Wall time: 1min 22s\n"
     ]
    }
   ],
   "source": [
    "%%time\n",
    "net = train_model(net, train_dl, val_dl, criterion, optimizer, \"occupancy.pt\", 100, metrics=metrics, patience=5)"
   ]
  },
  {
   "cell_type": "markdown",
   "metadata": {},
   "source": [
    "## Test"
   ]
  },
  {
   "cell_type": "code",
   "execution_count": 18,
   "metadata": {},
   "outputs": [],
   "source": [
    "test_table = pd.read_csv(\"./data/occupancy_data/datatest.txt\")\n",
    "test_table = test_table.drop(\"date\", axis=1)\n",
    "test_table = test_table.astype(np.float32)"
   ]
  },
  {
   "cell_type": "code",
   "execution_count": 19,
   "metadata": {},
   "outputs": [],
   "source": [
    "X_test = test_table.drop(\"Occupancy\", axis=1).values\n",
    "X_test = scaler.transform(X_test)\n",
    "X_test = np.array([X_test[i:i+SEQ_LEN, :] for i in range(0, len(X_test) - SEQ_LEN)])\n",
    "X_test = X_test.swapaxes(1, 0)\n",
    "Y_test = test_table[\"Occupancy\"].values[SEQ_LEN:]\n",
    "X_test = torch.tensor(X_test)"
   ]
  },
  {
   "cell_type": "code",
   "execution_count": 20,
   "metadata": {},
   "outputs": [],
   "source": [
    "net.eval()\n",
    "with torch.no_grad():\n",
    "    outputs = net(X_test)\n",
    "    outputs = torch.sigmoid(outputs)"
   ]
  },
  {
   "cell_type": "code",
   "execution_count": 21,
   "metadata": {},
   "outputs": [
    {
     "data": {
      "text/plain": [
       "0.9868778292138229"
      ]
     },
     "execution_count": 21,
     "metadata": {},
     "output_type": "execute_result"
    }
   ],
   "source": [
    "roc_auc_score(Y_test, outputs)"
   ]
  },
  {
   "cell_type": "code",
   "execution_count": 22,
   "metadata": {},
   "outputs": [
    {
     "data": {
      "text/plain": [
       "0.9606118546845124"
      ]
     },
     "execution_count": 22,
     "metadata": {},
     "output_type": "execute_result"
    }
   ],
   "source": [
    "accuracy_score(Y_test, torch.round(outputs))"
   ]
  },
  {
   "cell_type": "code",
   "execution_count": 23,
   "metadata": {},
   "outputs": [
    {
     "data": {
      "text/plain": [
       "0.9379679144385027"
      ]
     },
     "execution_count": 23,
     "metadata": {},
     "output_type": "execute_result"
    }
   ],
   "source": [
    "precision_score(Y_test, torch.round(outputs))"
   ]
  },
  {
   "cell_type": "code",
   "execution_count": null,
   "metadata": {},
   "outputs": [],
   "source": []
  }
 ],
 "metadata": {
  "kernelspec": {
   "display_name": "Python 3",
   "language": "python",
   "name": "python3"
  },
  "language_info": {
   "codemirror_mode": {
    "name": "ipython",
    "version": 3
   },
   "file_extension": ".py",
   "mimetype": "text/x-python",
   "name": "python",
   "nbconvert_exporter": "python",
   "pygments_lexer": "ipython3",
   "version": "3.6.10"
  }
 },
 "nbformat": 4,
 "nbformat_minor": 4
}
