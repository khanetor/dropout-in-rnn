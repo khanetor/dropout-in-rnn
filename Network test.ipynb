{
 "cells": [
  {
   "cell_type": "code",
   "execution_count": 1,
   "metadata": {},
   "outputs": [],
   "source": [
    "import torch\n",
    "from torch import nn\n",
    "\n",
    "from rnn import StochasticLSTM"
   ]
  },
  {
   "cell_type": "code",
   "execution_count": 2,
   "metadata": {},
   "outputs": [
    {
     "data": {
      "text/plain": [
       "<torch._C.Generator at 0x1256ade10>"
      ]
     },
     "execution_count": 2,
     "metadata": {},
     "output_type": "execute_result"
    }
   ],
   "source": [
    "torch.random.manual_seed(1)"
   ]
  },
  {
   "cell_type": "code",
   "execution_count": 9,
   "metadata": {},
   "outputs": [
    {
     "name": "stdout",
     "output_type": "stream",
     "text": [
      "tensor([[[0.6614, 0.2669]]])\n",
      "(tensor([[[0.5279, 0.4958, 0.5911, 0.5030]]], grad_fn=<MeanBackward1>), (tensor([[[-0.0495, -0.0552, -0.1094,  0.0431]]], grad_fn=<MeanBackward1>), tensor([[[-0.0900, -0.1132, -0.1730,  0.0897]]], grad_fn=<MeanBackward1>)))\n"
     ]
    }
   ],
   "source": [
    "t = torch.randn((1, 1, 2))\n",
    "print(t)\n",
    "l = StochasticLSTM(input_size=2, hidden_size=4, dropout_rate=0.5)\n",
    "print(l(t))"
   ]
  },
  {
   "cell_type": "code",
   "execution_count": 3,
   "metadata": {},
   "outputs": [
    {
     "name": "stdout",
     "output_type": "stream",
     "text": [
      "tensor([[[0.6614, 0.2669]]])\n",
      "(tensor([[[0.5330, 0.6375, 0.3270, 0.5796]]], grad_fn=<MeanBackward1>), (tensor([[[ 0.2213,  0.1360, -0.0428,  0.1776]]], grad_fn=<MeanBackward1>), tensor([[[ 0.4443,  0.2159, -0.1270,  0.3154]]], grad_fn=<MeanBackward1>)))\n"
     ]
    }
   ],
   "source": [
    "t = torch.randn((1, 1, 2))\n",
    "print(t)\n",
    "l = StochasticLSTM(input_size=2, hidden_size=4, dropout_rate=0.5)\n",
    "print(l(t))"
   ]
  },
  {
   "cell_type": "code",
   "execution_count": 5,
   "metadata": {},
   "outputs": [],
   "source": [
    "l = StochasticLSTM(input_size=3, hidden_size=4, dropout_rate=0.5)"
   ]
  },
  {
   "cell_type": "code",
   "execution_count": 3,
   "metadata": {},
   "outputs": [],
   "source": [
    "t = torch.randn((5, 10, 3))"
   ]
  },
  {
   "cell_type": "code",
   "execution_count": 4,
   "metadata": {},
   "outputs": [],
   "source": [
    "output, (h, c) = l(t)"
   ]
  },
  {
   "cell_type": "code",
   "execution_count": 12,
   "metadata": {},
   "outputs": [],
   "source": [
    "l = nn.Linear(2, 3)"
   ]
  },
  {
   "cell_type": "code",
   "execution_count": 15,
   "metadata": {},
   "outputs": [
    {
     "ename": "TypeError",
     "evalue": "type() missing 1 required positional argument: 'dst_type'",
     "output_type": "error",
     "traceback": [
      "\u001b[0;31m---------------------------------------------------------------------------\u001b[0m",
      "\u001b[0;31mTypeError\u001b[0m                                 Traceback (most recent call last)",
      "\u001b[0;32m<ipython-input-15-13415734eefb>\u001b[0m in \u001b[0;36m<module>\u001b[0;34m\u001b[0m\n\u001b[0;32m----> 1\u001b[0;31m \u001b[0ml\u001b[0m\u001b[0;34m.\u001b[0m\u001b[0mtype\u001b[0m\u001b[0;34m(\u001b[0m\u001b[0;34m)\u001b[0m\u001b[0;34m\u001b[0m\u001b[0;34m\u001b[0m\u001b[0m\n\u001b[0m",
      "\u001b[0;31mTypeError\u001b[0m: type() missing 1 required positional argument: 'dst_type'"
     ]
    }
   ],
   "source": [
    "l"
   ]
  },
  {
   "cell_type": "code",
   "execution_count": 4,
   "metadata": {},
   "outputs": [],
   "source": [
    "a = torch.zeros(3, 3)\n",
    "b = torch.zeros(3, 3, requires_grad=True)"
   ]
  },
  {
   "cell_type": "code",
   "execution_count": 9,
   "metadata": {},
   "outputs": [
    {
     "data": {
      "text/plain": [
       "tensor([[0., 0., 0.],\n",
       "        [0., 0., 0.],\n",
       "        [0., 0., 0.]])"
      ]
     },
     "execution_count": 9,
     "metadata": {},
     "output_type": "execute_result"
    }
   ],
   "source": [
    "a"
   ]
  },
  {
   "cell_type": "code",
   "execution_count": 58,
   "metadata": {},
   "outputs": [
    {
     "data": {
      "text/plain": [
       "tensor([[-0.1570,  0.6643,  1.7571,  0.0559],\n",
       "        [ 1.1614,  0.3632,  1.7422, -0.3796],\n",
       "        [ 1.4920, -0.0075,  1.1378,  1.6018]])"
      ]
     },
     "execution_count": 58,
     "metadata": {},
     "output_type": "execute_result"
    }
   ],
   "source": [
    "a = torch.randn(3, 4)\n",
    "a"
   ]
  },
  {
   "cell_type": "code",
   "execution_count": 60,
   "metadata": {},
   "outputs": [
    {
     "data": {
      "text/plain": [
       "tensor([[[-0.1570,  0.6643,  1.7571,  0.0559],\n",
       "         [ 1.1614,  0.3632,  1.7422, -0.3796],\n",
       "         [ 1.4920, -0.0075,  1.1378,  1.6018]],\n",
       "\n",
       "        [[-0.1570,  0.6643,  1.7571,  0.0559],\n",
       "         [ 1.1614,  0.3632,  1.7422, -0.3796],\n",
       "         [ 1.4920, -0.0075,  1.1378,  1.6018]]])"
      ]
     },
     "execution_count": 60,
     "metadata": {},
     "output_type": "execute_result"
    }
   ],
   "source": [
    "torch.stack([a, a])"
   ]
  },
  {
   "cell_type": "code",
   "execution_count": 50,
   "metadata": {},
   "outputs": [],
   "source": [
    "[].append(a)"
   ]
  },
  {
   "cell_type": "code",
   "execution_count": 51,
   "metadata": {},
   "outputs": [],
   "source": [
    "c = []\n",
    "c.append(a)"
   ]
  },
  {
   "cell_type": "code",
   "execution_count": 52,
   "metadata": {},
   "outputs": [
    {
     "data": {
      "text/plain": [
       "[tensor([[ 0.3990, -0.1427, -1.4446, -1.1207],\n",
       "         [-1.7007,  0.8732,  1.2721, -0.5493],\n",
       "         [ 1.1034,  0.0232,  0.0135, -0.1820]])]"
      ]
     },
     "execution_count": 52,
     "metadata": {},
     "output_type": "execute_result"
    }
   ],
   "source": [
    "c"
   ]
  },
  {
   "cell_type": "code",
   "execution_count": null,
   "metadata": {},
   "outputs": [],
   "source": []
  }
 ],
 "metadata": {
  "kernelspec": {
   "display_name": "Python 3",
   "language": "python",
   "name": "python3"
  },
  "language_info": {
   "codemirror_mode": {
    "name": "ipython",
    "version": 3
   },
   "file_extension": ".py",
   "mimetype": "text/x-python",
   "name": "python",
   "nbconvert_exporter": "python",
   "pygments_lexer": "ipython3",
   "version": "3.7.5"
  }
 },
 "nbformat": 4,
 "nbformat_minor": 4
}
