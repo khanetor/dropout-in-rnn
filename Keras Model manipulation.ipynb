{
 "cells": [
  {
   "cell_type": "code",
   "execution_count": 38,
   "metadata": {},
   "outputs": [],
   "source": [
    "from keras.layers import Dense, Input, LSTM\n",
    "from keras.models import Model\n",
    "from keras.layers.wrappers import TimeDistributed, Bidirectional\n",
    "from tensorflow.keras import backend as K\n",
    "from stochastic_rnn_keras import StochasticLSTM\n",
    "import numpy as np\n",
    "import tensorflow as tf\n",
    "from keras.callbacks import Callback"
   ]
  },
  {
   "cell_type": "code",
   "execution_count": 2,
   "metadata": {},
   "outputs": [],
   "source": [
    "%load_ext tensorboard"
   ]
  },
  {
   "cell_type": "code",
   "execution_count": 3,
   "metadata": {},
   "outputs": [],
   "source": [
    "class ModelPrintDropout(Callback):\n",
    "    def on_epoch_end(self, epoch, logs=None):\n",
    "        for layer in self.model.layers:\n",
    "            if hasattr(layer, 'dropout'):\n",
    "                if layer.dropout == 1.0:\n",
    "                    print(layer.name, 'dropout =', layer.p.numpy())\n",
    "                else:\n",
    "                    print(layer.name, 'dropout =', layer.p)\n",
    "            if hasattr(layer, 'recurrent_dropout'):\n",
    "                if layer.recurrent_dropout == 1.0:\n",
    "                    print(layer.name, 'recurrent_dropout =', layer.p_r.numpy())\n",
    "                else:\n",
    "                    print(layer.name, 'recurrent_dropout =', layer.p_r)\n",
    "\n",
    "print_dropout = ModelPrintDropout()"
   ]
  },
  {
   "cell_type": "markdown",
   "metadata": {},
   "source": [
    "# Add extra output head"
   ]
  },
  {
   "cell_type": "code",
   "execution_count": 4,
   "metadata": {},
   "outputs": [],
   "source": [
    "inputs = Input(shape=(None, 10), name='input')\n",
    "rnn = StochasticLSTM(200, dropout=1.0, recurrent_dropout=1.0)(inputs)\n",
    "comp = Dense(60, activation='relu', name='encoder',kernel_regularizer='l2', bias_regularizer='l2')(rnn)\n",
    "outputs = Dense(5, activation='tanh', name='mean',kernel_regularizer='l2', bias_regularizer='l2')(comp)\n",
    "model = Model(inputs=inputs, outputs=outputs)"
   ]
  },
  {
   "cell_type": "code",
   "execution_count": 5,
   "metadata": {},
   "outputs": [
    {
     "name": "stdout",
     "output_type": "stream",
     "text": [
      "Model: \"model_1\"\n",
      "_________________________________________________________________\n",
      "Layer (type)                 Output Shape              Param #   \n",
      "=================================================================\n",
      "input (InputLayer)           (None, None, 10)          0         \n",
      "_________________________________________________________________\n",
      "stochastic_lstm_1 (Stochasti (None, 200)               168802    \n",
      "_________________________________________________________________\n",
      "encoder (Dense)              (None, 60)                12060     \n",
      "_________________________________________________________________\n",
      "mean (Dense)                 (None, 5)                 305       \n",
      "=================================================================\n",
      "Total params: 181,167\n",
      "Trainable params: 181,167\n",
      "Non-trainable params: 0\n",
      "_________________________________________________________________\n"
     ]
    }
   ],
   "source": [
    "model.summary()"
   ]
  },
  {
   "cell_type": "code",
   "execution_count": 6,
   "metadata": {},
   "outputs": [],
   "source": [
    "model.compile(optimizer='adam', loss='mse')"
   ]
  },
  {
   "cell_type": "code",
   "execution_count": 7,
   "metadata": {},
   "outputs": [],
   "source": [
    "outputs2 = Dense(5, activation='tanh', name='log_var',kernel_regularizer='l2', bias_regularizer='l2')(model.layers[-2].output)\n",
    "model2 = Model(inputs=model.input, outputs=[model.output, outputs2])"
   ]
  },
  {
   "cell_type": "code",
   "execution_count": 8,
   "metadata": {},
   "outputs": [
    {
     "name": "stdout",
     "output_type": "stream",
     "text": [
      "Model: \"model_2\"\n",
      "__________________________________________________________________________________________________\n",
      "Layer (type)                    Output Shape         Param #     Connected to                     \n",
      "==================================================================================================\n",
      "input (InputLayer)              (None, None, 10)     0                                            \n",
      "__________________________________________________________________________________________________\n",
      "stochastic_lstm_1 (StochasticLS (None, 200)          168802      input[0][0]                      \n",
      "__________________________________________________________________________________________________\n",
      "encoder (Dense)                 (None, 60)           12060       stochastic_lstm_1[0][0]          \n",
      "__________________________________________________________________________________________________\n",
      "mean (Dense)                    (None, 5)            305         encoder[0][0]                    \n",
      "__________________________________________________________________________________________________\n",
      "log_var (Dense)                 (None, 5)            305         encoder[0][0]                    \n",
      "==================================================================================================\n",
      "Total params: 181,472\n",
      "Trainable params: 181,472\n",
      "Non-trainable params: 0\n",
      "__________________________________________________________________________________________________\n"
     ]
    }
   ],
   "source": [
    "model2.summary()"
   ]
  },
  {
   "cell_type": "code",
   "execution_count": 9,
   "metadata": {},
   "outputs": [],
   "source": [
    "v = np.random.randn(3, 20, 10).astype('float32')"
   ]
  },
  {
   "cell_type": "code",
   "execution_count": 10,
   "metadata": {},
   "outputs": [],
   "source": [
    "X = np.random.randn(100, 20, 10).astype('float32')\n",
    "y = np.mean((np.sin(X) + np.cos(X)) @ np.eye(10, 5), axis=1)"
   ]
  },
  {
   "cell_type": "code",
   "execution_count": 11,
   "metadata": {},
   "outputs": [
    {
     "data": {
      "text/plain": [
       "array([[ 0.10506961,  0.08045112, -0.07071632,  0.00119417, -0.03733012],\n",
       "       [-0.03830958,  0.00890239,  0.01948961,  0.00721035,  0.00987304],\n",
       "       [ 0.03608369,  0.16203481,  0.00865258,  0.02871969, -0.0263401 ]],\n",
       "      dtype=float32)"
      ]
     },
     "execution_count": 11,
     "metadata": {},
     "output_type": "execute_result"
    }
   ],
   "source": [
    "model.predict(v)"
   ]
  },
  {
   "cell_type": "code",
   "execution_count": 12,
   "metadata": {},
   "outputs": [
    {
     "data": {
      "text/plain": [
       "[array([[ 0.10506961,  0.08045112, -0.07071632,  0.00119417, -0.03733012],\n",
       "        [-0.03830958,  0.00890239,  0.01948961,  0.00721035,  0.00987304],\n",
       "        [ 0.03608369,  0.16203481,  0.00865258,  0.02871969, -0.0263401 ]],\n",
       "       dtype=float32),\n",
       " array([[-0.03209821,  0.05664485, -0.03966241, -0.01880117, -0.03987407],\n",
       "        [ 0.01455253, -0.06375345,  0.05477182, -0.01301498, -0.08147104],\n",
       "        [-0.00689477, -0.04546592,  0.08746171, -0.04841   , -0.06112893]],\n",
       "       dtype=float32)]"
      ]
     },
     "execution_count": 12,
     "metadata": {},
     "output_type": "execute_result"
    }
   ],
   "source": [
    "model2.predict(v)"
   ]
  },
  {
   "cell_type": "code",
   "execution_count": 14,
   "metadata": {},
   "outputs": [
    {
     "name": "stdout",
     "output_type": "stream",
     "text": [
      "Epoch 1/5\n",
      "100/100 [==============================] - 3s 29ms/step - loss: 1.3738\n",
      "stochastic_lstm_1 dropout = 0.42584634\n",
      "stochastic_lstm_1 recurrent_dropout = 0.5724356\n",
      "Epoch 2/5\n",
      "100/100 [==============================] - 0s 3ms/step - loss: 1.2230\n",
      "stochastic_lstm_1 dropout = 0.42202845\n",
      "stochastic_lstm_1 recurrent_dropout = 0.56844944\n",
      "Epoch 3/5\n",
      "100/100 [==============================] - 1s 5ms/step - loss: 1.0760\n",
      "stochastic_lstm_1 dropout = 0.41823038\n",
      "stochastic_lstm_1 recurrent_dropout = 0.5644913\n",
      "Epoch 4/5\n",
      "100/100 [==============================] - 1s 7ms/step - loss: 0.9087\n",
      "stochastic_lstm_1 dropout = 0.41445062\n",
      "stochastic_lstm_1 recurrent_dropout = 0.5605382\n",
      "Epoch 5/5\n",
      "100/100 [==============================] - 1s 5ms/step - loss: 0.8534\n",
      "stochastic_lstm_1 dropout = 0.41072127\n",
      "stochastic_lstm_1 recurrent_dropout = 0.5566091\n"
     ]
    },
    {
     "data": {
      "text/plain": [
       "<keras.callbacks.callbacks.History at 0x64314a290>"
      ]
     },
     "execution_count": 14,
     "metadata": {},
     "output_type": "execute_result"
    }
   ],
   "source": [
    "model.fit(x=X, y=y, epochs=5, callbacks=[print_dropout])"
   ]
  },
  {
   "cell_type": "markdown",
   "metadata": {},
   "source": [
    "# Loss function with 2 outputs"
   ]
  },
  {
   "cell_type": "code",
   "execution_count": 15,
   "metadata": {},
   "outputs": [
    {
     "name": "stderr",
     "output_type": "stream",
     "text": [
      "/usr/local/miniconda3/envs/master-thesis/lib/python3.7/site-packages/keras/engine/training_utils.py:819: UserWarning: Output mean missing from loss dictionary. We assume this was done on purpose. The fit and evaluate APIs will not be expecting any data to be passed to mean.\n",
      "  'be expecting any data to be passed to {0}.'.format(name))\n",
      "/usr/local/miniconda3/envs/master-thesis/lib/python3.7/site-packages/keras/engine/training_utils.py:819: UserWarning: Output log_var missing from loss dictionary. We assume this was done on purpose. The fit and evaluate APIs will not be expecting any data to be passed to log_var.\n",
      "  'be expecting any data to be passed to {0}.'.format(name))\n"
     ]
    }
   ],
   "source": [
    "target_input = Input(shape=(5,))\n",
    "mean_pred, log_var_pred = model2.output\n",
    "model3 = Model(inputs=[model2.input, target_input], outputs=model2.output)\n",
    "model3.add_loss(0.5 * K.mean(K.exp(-log_var_pred) * (mean_pred - target_input)**2 + log_var_pred))\n",
    "model3.compile(optimizer='adam')"
   ]
  },
  {
   "cell_type": "code",
   "execution_count": 16,
   "metadata": {},
   "outputs": [
    {
     "data": {
      "text/plain": [
       "[array([[0.6688282 , 0.59050834, 0.5649838 , 0.6878786 , 0.6550612 ],\n",
       "        [0.70221424, 0.5707112 , 0.7092871 , 0.67028546, 0.63442016],\n",
       "        [0.7387352 , 0.67431253, 0.7245059 , 0.6961546 , 0.7112113 ]],\n",
       "       dtype=float32),\n",
       " array([[-0.15367752,  0.17192887, -0.33005428, -0.3917558 , -0.21335055],\n",
       "        [-0.11235338,  0.01655272, -0.12579389, -0.2817375 , -0.3511674 ],\n",
       "        [-0.17450507,  0.13017642, -0.15992749, -0.2954721 , -0.34417424]],\n",
       "       dtype=float32)]"
      ]
     },
     "execution_count": 16,
     "metadata": {},
     "output_type": "execute_result"
    }
   ],
   "source": [
    "model2.predict(v)"
   ]
  },
  {
   "cell_type": "code",
   "execution_count": 17,
   "metadata": {},
   "outputs": [
    {
     "name": "stdout",
     "output_type": "stream",
     "text": [
      "Epoch 1/4\n",
      "100/100 [==============================] - 3s 30ms/step - loss: 0.6962\n",
      "Epoch 2/4\n",
      "100/100 [==============================] - 0s 5ms/step - loss: 0.4855\n",
      "Epoch 3/4\n",
      "100/100 [==============================] - 0s 5ms/step - loss: 0.3604\n",
      "Epoch 4/4\n",
      "100/100 [==============================] - 1s 5ms/step - loss: 0.2761\n"
     ]
    },
    {
     "data": {
      "text/plain": [
       "<keras.callbacks.callbacks.History at 0x6444c2d50>"
      ]
     },
     "execution_count": 17,
     "metadata": {},
     "output_type": "execute_result"
    }
   ],
   "source": [
    "model3.fit(x=[X, y], epochs=4)"
   ]
  },
  {
   "cell_type": "code",
   "execution_count": 18,
   "metadata": {},
   "outputs": [
    {
     "data": {
      "text/plain": [
       "array([[0.70690054, 0.6415864 , 0.85384536, 0.74387   , 0.731544  ],\n",
       "       [0.636916  , 0.62277   , 0.8279238 , 0.6629631 , 0.6979196 ],\n",
       "       [0.717683  , 0.65856576, 0.8336605 , 0.67078227, 0.7173283 ]],\n",
       "      dtype=float32)"
      ]
     },
     "execution_count": 18,
     "metadata": {},
     "output_type": "execute_result"
    }
   ],
   "source": [
    "model3.predict([X, y])[0][:3]"
   ]
  },
  {
   "cell_type": "code",
   "execution_count": 19,
   "metadata": {},
   "outputs": [
    {
     "data": {
      "text/plain": [
       "array([[0.70690054, 0.6415864 , 0.85384536, 0.74387   , 0.731544  ],\n",
       "       [0.636916  , 0.62277   , 0.8279238 , 0.6629631 , 0.6979196 ],\n",
       "       [0.717683  , 0.65856576, 0.8336605 , 0.67078227, 0.7173283 ]],\n",
       "      dtype=float32)"
      ]
     },
     "execution_count": 19,
     "metadata": {},
     "output_type": "execute_result"
    }
   ],
   "source": [
    "model2.predict(X)[0][:3]"
   ]
  },
  {
   "cell_type": "markdown",
   "metadata": {},
   "source": [
    "# Sample from model several times"
   ]
  },
  {
   "cell_type": "code",
   "execution_count": 20,
   "metadata": {},
   "outputs": [],
   "source": [
    "from keras.layers.wrappers import TimeDistributed\n",
    "from keras.layers import Lambda"
   ]
  },
  {
   "cell_type": "code",
   "execution_count": 21,
   "metadata": {},
   "outputs": [],
   "source": [
    "def get_mc_model(model, sample:int=10):\n",
    "    td_input = Lambda(lambda x: K.tile(K.expand_dims(x, axis=1), [1, sample, 1, 1]), name='expand_input')(model.input)\n",
    "    return Model(inputs=model.input, outputs=[TimeDistributed(Model(inputs=model.input, outputs=output))(td_input) for output in model.outputs])"
   ]
  },
  {
   "cell_type": "code",
   "execution_count": 22,
   "metadata": {},
   "outputs": [],
   "source": [
    "model4 = get_mc_model(model2)"
   ]
  },
  {
   "cell_type": "code",
   "execution_count": 23,
   "metadata": {},
   "outputs": [
    {
     "name": "stdout",
     "output_type": "stream",
     "text": [
      "Model: \"model_6\"\n",
      "__________________________________________________________________________________________________\n",
      "Layer (type)                    Output Shape         Param #     Connected to                     \n",
      "==================================================================================================\n",
      "input (InputLayer)              (None, None, 10)     0                                            \n",
      "__________________________________________________________________________________________________\n",
      "expand_input (Lambda)           (None, 10, None, 10) 0           input[0][0]                      \n",
      "__________________________________________________________________________________________________\n",
      "time_distributed_1 (TimeDistrib (None, 10, 5)        181167      expand_input[0][0]               \n",
      "__________________________________________________________________________________________________\n",
      "time_distributed_2 (TimeDistrib (None, 10, 5)        181167      expand_input[0][0]               \n",
      "==================================================================================================\n",
      "Total params: 181,472\n",
      "Trainable params: 181,472\n",
      "Non-trainable params: 0\n",
      "__________________________________________________________________________________________________\n"
     ]
    }
   ],
   "source": [
    "model4.summary()"
   ]
  },
  {
   "cell_type": "code",
   "execution_count": 24,
   "metadata": {},
   "outputs": [
    {
     "name": "stdout",
     "output_type": "stream",
     "text": [
      "51.1 ms ± 13.6 ms per loop (mean ± std. dev. of 7 runs, 10 loops each)\n"
     ]
    }
   ],
   "source": [
    "%%timeit\n",
    "model2.predict(v)\n",
    "model2.predict(v)\n",
    "model2.predict(v)\n",
    "model2.predict(v)"
   ]
  },
  {
   "cell_type": "code",
   "execution_count": 25,
   "metadata": {},
   "outputs": [
    {
     "name": "stdout",
     "output_type": "stream",
     "text": [
      "59.3 ms ± 10.7 ms per loop (mean ± std. dev. of 7 runs, 1 loop each)\n"
     ]
    }
   ],
   "source": [
    "%%timeit\n",
    "model4.predict(v)"
   ]
  },
  {
   "cell_type": "code",
   "execution_count": 26,
   "metadata": {},
   "outputs": [
    {
     "data": {
      "text/plain": [
       "True"
      ]
     },
     "execution_count": 26,
     "metadata": {},
     "output_type": "execute_result"
    }
   ],
   "source": [
    "np.allclose(model2.predict(v)[0], model4.predict(v)[0][:,0,:])"
   ]
  },
  {
   "cell_type": "markdown",
   "metadata": {},
   "source": [
    "- Using TimeDistributed is faster, at the cost of complexity\n",
    "- Aggregate samples on axis=1"
   ]
  },
  {
   "cell_type": "code",
   "execution_count": null,
   "metadata": {},
   "outputs": [],
   "source": []
  }
 ],
 "metadata": {
  "kernelspec": {
   "display_name": "Python 3",
   "language": "python",
   "name": "python3"
  },
  "language_info": {
   "codemirror_mode": {
    "name": "ipython",
    "version": 3
   },
   "file_extension": ".py",
   "mimetype": "text/x-python",
   "name": "python",
   "nbconvert_exporter": "python",
   "pygments_lexer": "ipython3",
   "version": "3.6.10"
  }
 },
 "nbformat": 4,
 "nbformat_minor": 4
}
