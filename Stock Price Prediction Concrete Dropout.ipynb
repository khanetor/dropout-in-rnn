{
 "cells": [
  {
   "cell_type": "code",
   "execution_count": 1,
   "metadata": {},
   "outputs": [
    {
     "name": "stderr",
     "output_type": "stream",
     "text": [
      "/usr/local/miniconda3/envs/master-thesis/lib/python3.7/site-packages/pandas_datareader/compat/__init__.py:7: FutureWarning: pandas.util.testing is deprecated. Use the functions in the public API at pandas.testing instead.\n",
      "  from pandas.util.testing import assert_frame_equal\n"
     ]
    }
   ],
   "source": [
    "import math\n",
    "import numpy as np\n",
    "import pandas as pd\n",
    "import pandas_datareader as web"
   ]
  },
  {
   "cell_type": "code",
   "execution_count": 2,
   "metadata": {},
   "outputs": [],
   "source": [
    "from sklearn.preprocessing import MinMaxScaler\n",
    "from sklearn.model_selection import train_test_split"
   ]
  },
  {
   "cell_type": "code",
   "execution_count": 3,
   "metadata": {},
   "outputs": [],
   "source": [
    "import seaborn as sns\n",
    "import matplotlib.pyplot as plt\n",
    "from pandas.plotting import register_matplotlib_converters\n",
    "register_matplotlib_converters()\n",
    "\n",
    "%matplotlib inline"
   ]
  },
  {
   "cell_type": "code",
   "execution_count": 4,
   "metadata": {},
   "outputs": [],
   "source": [
    "import torch\n",
    "from torch import nn\n",
    "from torch.nn import functional as F\n",
    "from torch import optim\n",
    "from stochastic_rnn import StochasticLSTM\n",
    "from variational_module import MCDualOutputModule\n",
    "from distribution_loss import GaussianLoss\n",
    "from regression_uncertainty_utils import aleatoric_uncertainty, epistemic_uncertainty, prediction_avg, uncertainty\n",
    "from train_utils import train_model"
   ]
  },
  {
   "cell_type": "code",
   "execution_count": 5,
   "metadata": {},
   "outputs": [
    {
     "data": {
      "text/plain": [
       "<torch._C.Generator at 0x128b334f0>"
      ]
     },
     "execution_count": 5,
     "metadata": {},
     "output_type": "execute_result"
    }
   ],
   "source": [
    "np.random.seed(1234)\n",
    "torch.manual_seed(1234)"
   ]
  },
  {
   "cell_type": "code",
   "execution_count": 6,
   "metadata": {},
   "outputs": [
    {
     "data": {
      "text/html": [
       "<div>\n",
       "<style scoped>\n",
       "    .dataframe tbody tr th:only-of-type {\n",
       "        vertical-align: middle;\n",
       "    }\n",
       "\n",
       "    .dataframe tbody tr th {\n",
       "        vertical-align: top;\n",
       "    }\n",
       "\n",
       "    .dataframe thead th {\n",
       "        text-align: right;\n",
       "    }\n",
       "</style>\n",
       "<table border=\"1\" class=\"dataframe\">\n",
       "  <thead>\n",
       "    <tr style=\"text-align: right;\">\n",
       "      <th></th>\n",
       "      <th>High</th>\n",
       "      <th>Low</th>\n",
       "      <th>Open</th>\n",
       "      <th>Close</th>\n",
       "      <th>Volume</th>\n",
       "      <th>Adj Close</th>\n",
       "    </tr>\n",
       "    <tr>\n",
       "      <th>Date</th>\n",
       "      <th></th>\n",
       "      <th></th>\n",
       "      <th></th>\n",
       "      <th></th>\n",
       "      <th></th>\n",
       "      <th></th>\n",
       "    </tr>\n",
       "  </thead>\n",
       "  <tbody>\n",
       "    <tr>\n",
       "      <th>2012-01-03</th>\n",
       "      <td>58.928570</td>\n",
       "      <td>58.428570</td>\n",
       "      <td>58.485714</td>\n",
       "      <td>58.747143</td>\n",
       "      <td>75555200.0</td>\n",
       "      <td>50.994907</td>\n",
       "    </tr>\n",
       "    <tr>\n",
       "      <th>2012-01-04</th>\n",
       "      <td>59.240002</td>\n",
       "      <td>58.468571</td>\n",
       "      <td>58.571430</td>\n",
       "      <td>59.062859</td>\n",
       "      <td>65005500.0</td>\n",
       "      <td>51.268970</td>\n",
       "    </tr>\n",
       "    <tr>\n",
       "      <th>2012-01-05</th>\n",
       "      <td>59.792858</td>\n",
       "      <td>58.952858</td>\n",
       "      <td>59.278572</td>\n",
       "      <td>59.718571</td>\n",
       "      <td>67817400.0</td>\n",
       "      <td>51.838169</td>\n",
       "    </tr>\n",
       "    <tr>\n",
       "      <th>2012-01-06</th>\n",
       "      <td>60.392857</td>\n",
       "      <td>59.888573</td>\n",
       "      <td>59.967144</td>\n",
       "      <td>60.342857</td>\n",
       "      <td>79573200.0</td>\n",
       "      <td>52.380054</td>\n",
       "    </tr>\n",
       "    <tr>\n",
       "      <th>2012-01-09</th>\n",
       "      <td>61.107143</td>\n",
       "      <td>60.192856</td>\n",
       "      <td>60.785713</td>\n",
       "      <td>60.247143</td>\n",
       "      <td>98506096.0</td>\n",
       "      <td>52.296970</td>\n",
       "    </tr>\n",
       "    <tr>\n",
       "      <th>...</th>\n",
       "      <td>...</td>\n",
       "      <td>...</td>\n",
       "      <td>...</td>\n",
       "      <td>...</td>\n",
       "      <td>...</td>\n",
       "      <td>...</td>\n",
       "    </tr>\n",
       "    <tr>\n",
       "      <th>2019-12-11</th>\n",
       "      <td>271.100006</td>\n",
       "      <td>268.500000</td>\n",
       "      <td>268.809998</td>\n",
       "      <td>270.769989</td>\n",
       "      <td>19689200.0</td>\n",
       "      <td>270.128906</td>\n",
       "    </tr>\n",
       "    <tr>\n",
       "      <th>2019-12-12</th>\n",
       "      <td>272.559998</td>\n",
       "      <td>267.320007</td>\n",
       "      <td>267.779999</td>\n",
       "      <td>271.459991</td>\n",
       "      <td>34327600.0</td>\n",
       "      <td>270.817261</td>\n",
       "    </tr>\n",
       "    <tr>\n",
       "      <th>2019-12-13</th>\n",
       "      <td>275.299988</td>\n",
       "      <td>270.929993</td>\n",
       "      <td>271.459991</td>\n",
       "      <td>275.149994</td>\n",
       "      <td>33396900.0</td>\n",
       "      <td>274.498535</td>\n",
       "    </tr>\n",
       "    <tr>\n",
       "      <th>2019-12-16</th>\n",
       "      <td>280.790009</td>\n",
       "      <td>276.980011</td>\n",
       "      <td>277.000000</td>\n",
       "      <td>279.859985</td>\n",
       "      <td>32046500.0</td>\n",
       "      <td>279.197357</td>\n",
       "    </tr>\n",
       "    <tr>\n",
       "      <th>2019-12-17</th>\n",
       "      <td>281.769989</td>\n",
       "      <td>278.799988</td>\n",
       "      <td>279.570007</td>\n",
       "      <td>280.410004</td>\n",
       "      <td>28539600.0</td>\n",
       "      <td>279.746094</td>\n",
       "    </tr>\n",
       "  </tbody>\n",
       "</table>\n",
       "<p>2003 rows × 6 columns</p>\n",
       "</div>"
      ],
      "text/plain": [
       "                  High         Low        Open       Close      Volume  \\\n",
       "Date                                                                     \n",
       "2012-01-03   58.928570   58.428570   58.485714   58.747143  75555200.0   \n",
       "2012-01-04   59.240002   58.468571   58.571430   59.062859  65005500.0   \n",
       "2012-01-05   59.792858   58.952858   59.278572   59.718571  67817400.0   \n",
       "2012-01-06   60.392857   59.888573   59.967144   60.342857  79573200.0   \n",
       "2012-01-09   61.107143   60.192856   60.785713   60.247143  98506096.0   \n",
       "...                ...         ...         ...         ...         ...   \n",
       "2019-12-11  271.100006  268.500000  268.809998  270.769989  19689200.0   \n",
       "2019-12-12  272.559998  267.320007  267.779999  271.459991  34327600.0   \n",
       "2019-12-13  275.299988  270.929993  271.459991  275.149994  33396900.0   \n",
       "2019-12-16  280.790009  276.980011  277.000000  279.859985  32046500.0   \n",
       "2019-12-17  281.769989  278.799988  279.570007  280.410004  28539600.0   \n",
       "\n",
       "             Adj Close  \n",
       "Date                    \n",
       "2012-01-03   50.994907  \n",
       "2012-01-04   51.268970  \n",
       "2012-01-05   51.838169  \n",
       "2012-01-06   52.380054  \n",
       "2012-01-09   52.296970  \n",
       "...                ...  \n",
       "2019-12-11  270.128906  \n",
       "2019-12-12  270.817261  \n",
       "2019-12-13  274.498535  \n",
       "2019-12-16  279.197357  \n",
       "2019-12-17  279.746094  \n",
       "\n",
       "[2003 rows x 6 columns]"
      ]
     },
     "execution_count": 6,
     "metadata": {},
     "output_type": "execute_result"
    }
   ],
   "source": [
    "df = web.DataReader('AAPL', data_source='yahoo', start='2012-01-01', end='2019-12-17').astype(np.float32)\n",
    "df"
   ]
  },
  {
   "cell_type": "code",
   "execution_count": 7,
   "metadata": {},
   "outputs": [
    {
     "data": {
      "image/png": "[encoded data removed]",
      "text/plain": [
       "<Figure size 1152x576 with 1 Axes>"
      ]
     },
     "metadata": {
      "needs_background": "light"
     },
     "output_type": "display_data"
    }
   ],
   "source": [
    "plt.figure(figsize=(16, 8))\n",
    "plt.title(\"Close Price History\")\n",
    "plt.plot(df[\"Close\"])\n",
    "plt.xlabel(\"Date\", fontsize=18)\n",
    "plt.ylabel(\"Close Price USD ($)\", fontsize=18)\n",
    "plt.show()"
   ]
  },
  {
   "cell_type": "code",
   "execution_count": 8,
   "metadata": {},
   "outputs": [
    {
     "data": {
      "text/plain": [
       "1603"
      ]
     },
     "execution_count": 8,
     "metadata": {},
     "output_type": "execute_result"
    }
   ],
   "source": [
    "data = df.filter([\"Close\"])\n",
    "dataset = data.values\n",
    "training_data_len = math.ceil(len(dataset) * .8)\n",
    "\n",
    "training_data_len"
   ]
  },
  {
   "cell_type": "code",
   "execution_count": 9,
   "metadata": {},
   "outputs": [
    {
     "data": {
      "text/plain": [
       "array([[0.01316509],\n",
       "       [0.01457062],\n",
       "       [0.01748985],\n",
       "       ...,\n",
       "       [0.97658265],\n",
       "       [0.99755144],\n",
       "       [1.0000001 ]], dtype=float32)"
      ]
     },
     "execution_count": 9,
     "metadata": {},
     "output_type": "execute_result"
    }
   ],
   "source": [
    "scaler = MinMaxScaler(feature_range=(0, 1))\n",
    "scaled_data = scaler.fit_transform(dataset)\n",
    "\n",
    "scaled_data"
   ]
  },
  {
   "cell_type": "code",
   "execution_count": 10,
   "metadata": {},
   "outputs": [],
   "source": [
    "STEP = 60\n",
    "ls = 1e-2\n",
    "tau = 1"
   ]
  },
  {
   "cell_type": "code",
   "execution_count": 11,
   "metadata": {},
   "outputs": [],
   "source": [
    "train_data = scaled_data[0:training_data_len, :]\n",
    "\n",
    "x_train = np.array([train_data[i-STEP:i, 0] for i in range(STEP, training_data_len)])\n",
    "y_train = np.array([train_data[i, 0] for i in range(STEP, training_data_len)])"
   ]
  },
  {
   "cell_type": "code",
   "execution_count": 12,
   "metadata": {},
   "outputs": [],
   "source": [
    "ENTRY_COUNT = len(y_train)"
   ]
  },
  {
   "cell_type": "code",
   "execution_count": 13,
   "metadata": {},
   "outputs": [
    {
     "data": {
      "text/plain": [
       "(1543, 60, 1)"
      ]
     },
     "execution_count": 13,
     "metadata": {},
     "output_type": "execute_result"
    }
   ],
   "source": [
    "x_train = x_train.reshape(ENTRY_COUNT, STEP, 1)\n",
    "x_train.shape"
   ]
  },
  {
   "cell_type": "code",
   "execution_count": 14,
   "metadata": {},
   "outputs": [],
   "source": [
    "x_train, x_val, y_train, y_val = train_test_split(x_train, y_train, test_size=0.3, random_state=42)\n",
    "traindl = torch.utils.data.DataLoader([(x_train[i], y_train[i]) for i in range(len(y_train))], shuffle=True, batch_size=50)\n",
    "valdl = torch.utils.data.DataLoader([(x_val[i], y_val[i]) for i in range(len(y_val))], shuffle=True, batch_size=50)"
   ]
  },
  {
   "cell_type": "code",
   "execution_count": 15,
   "metadata": {},
   "outputs": [],
   "source": [
    "class Net(nn.Module):\n",
    "    def __init__(self):\n",
    "        super(Net, self).__init__()\n",
    "        self.rnn = StochasticLSTM(1, 50)\n",
    "        self.fc1 = nn.Linear(50, 25)\n",
    "        self.fc2_mean = nn.Linear(25, 1)\n",
    "        self.fc2_log_var = nn.Linear(25, 1)\n",
    "    \n",
    "    def regularizer(self):\n",
    "        length_scale = ls\n",
    "        precision = tau\n",
    "        \n",
    "        # Weight and bias regularizer\n",
    "        weight_sum, bias_sum, dropout_reg = self.rnn.regularizer()\n",
    "        \n",
    "        return (weight_sum + bias_sum + dropout_reg) * 0.5 * length_scale**2 / precision\n",
    "    \n",
    "    def forward(self, x):\n",
    "        result, _ = self.rnn(x)\n",
    "        result = result[-1,:]\n",
    "        result = self.fc1(result)\n",
    "        mean = self.fc2_mean(result)\n",
    "        log_var = self.fc2_log_var(result)\n",
    "        return mean, log_var"
   ]
  },
  {
   "cell_type": "code",
   "execution_count": 16,
   "metadata": {},
   "outputs": [],
   "source": [
    "net = Net()\n",
    "criterion = GaussianLoss()\n",
    "\n",
    "optimizer = optim.Adam(net.parameters(), lr=1e-3)"
   ]
  },
  {
   "cell_type": "code",
   "execution_count": 17,
   "metadata": {},
   "outputs": [
    {
     "name": "stdout",
     "output_type": "stream",
     "text": [
      "[1, 100.00%] train loss: -0.096158\n",
      "[1, 100.00%] validate loss: -0.348910\n",
      "[2, 100.00%] train loss: -0.827095\n",
      "[2, 100.00%] validate loss: -1.506196\n",
      "[3, 100.00%] train loss: -1.391865\n",
      "[3, 100.00%] validate loss: -1.448727\n",
      "Retry 1/5\n",
      "[4, 100.00%] train loss: -1.455145\n",
      "[4, 100.00%] validate loss: -1.483168\n",
      "Retry 2/5\n",
      "[5, 100.00%] train loss: -1.475656\n",
      "[5, 100.00%] validate loss: -1.536182\n",
      "[6, 100.00%] train loss: -1.497294\n",
      "[6, 100.00%] validate loss: -1.564500\n",
      "[7, 100.00%] train loss: -1.523358\n",
      "[7, 100.00%] validate loss: -1.639215\n",
      "[8, 100.00%] train loss: -1.521815\n",
      "[8, 100.00%] validate loss: -1.723538\n",
      "[9, 100.00%] train loss: -1.634360\n",
      "[9, 100.00%] validate loss: -1.757693\n",
      "[10, 100.00%] train loss: -1.747192\n",
      "[10, 100.00%] validate loss: -1.950004\n",
      "[11, 100.00%] train loss: -1.963848\n",
      "[11, 100.00%] validate loss: -2.290669\n",
      "[12, 100.00%] train loss: -2.224454\n",
      "[12, 100.00%] validate loss: -2.353962\n",
      "[13, 100.00%] train loss: -2.457655\n",
      "[13, 100.00%] validate loss: -2.774228\n",
      "[14, 100.00%] train loss: -2.792185\n",
      "[14, 100.00%] validate loss: -3.152797\n",
      "[15, 100.00%] train loss: -2.934923\n",
      "[15, 100.00%] validate loss: -3.328638\n",
      "[16, 100.00%] train loss: -3.119101\n",
      "[16, 100.00%] validate loss: -2.182938\n",
      "Retry 1/5\n",
      "[17, 100.00%] train loss: -3.022530\n",
      "[17, 100.00%] validate loss: -3.324270\n",
      "Retry 2/5\n",
      "[18, 100.00%] train loss: -3.331614\n",
      "[18, 100.00%] validate loss: -3.779298\n",
      "[19, 100.00%] train loss: -3.444662\n",
      "[19, 100.00%] validate loss: -3.664237\n",
      "Retry 1/5\n",
      "[20, 100.00%] train loss: -3.418808\n",
      "[20, 100.00%] validate loss: -3.846401\n",
      "[21, 100.00%] train loss: -3.557217\n",
      "[21, 100.00%] validate loss: -3.623984\n",
      "Retry 1/5\n",
      "[22, 100.00%] train loss: -3.599054\n",
      "[22, 100.00%] validate loss: -3.817107\n",
      "Retry 2/5\n",
      "[23, 100.00%] train loss: -3.740677\n",
      "[23, 100.00%] validate loss: -4.012587\n",
      "[24, 100.00%] train loss: -3.830642\n",
      "[24, 100.00%] validate loss: -3.836168\n",
      "Retry 1/5\n",
      "[25, 100.00%] train loss: -3.849096\n",
      "[25, 100.00%] validate loss: -4.210228\n",
      "[26, 100.00%] train loss: -3.561442\n",
      "[26, 100.00%] validate loss: -3.981892\n",
      "Retry 1/5\n",
      "[27, 100.00%] train loss: -3.819631\n",
      "[27, 100.00%] validate loss: -4.216651\n",
      "[28, 100.00%] train loss: -3.907317\n",
      "[28, 100.00%] validate loss: -3.638114\n",
      "Retry 1/5\n",
      "[29, 100.00%] train loss: -3.779599\n",
      "[29, 100.00%] validate loss: -4.162471\n",
      "Retry 2/5\n",
      "[30, 100.00%] train loss: -3.950285\n",
      "[30, 100.00%] validate loss: -3.229087\n",
      "Retry 3/5\n",
      "[31, 100.00%] train loss: -3.799631\n",
      "[31, 100.00%] validate loss: -4.182575\n",
      "Retry 4/5\n",
      "[32, 100.00%] train loss: -3.707732\n",
      "[32, 100.00%] validate loss: -3.983047\n",
      "Retry 5/5\n"
     ]
    }
   ],
   "source": [
    "net = train_model(net, traindl, valdl, criterion, optimizer, \"stock-price-concrete.pt\")"
   ]
  },
  {
   "cell_type": "code",
   "execution_count": 18,
   "metadata": {},
   "outputs": [
    {
     "name": "stdout",
     "output_type": "stream",
     "text": [
      "Dropout rate = 0.39\n"
     ]
    }
   ],
   "source": [
    "print(\"Dropout rate = %.2f\" % net.rnn.first_layer.p_logit.sigmoid().data.numpy())"
   ]
  },
  {
   "cell_type": "code",
   "execution_count": 19,
   "metadata": {},
   "outputs": [],
   "source": [
    "sto_net = MCDualOutputModule(net)"
   ]
  },
  {
   "cell_type": "code",
   "execution_count": 20,
   "metadata": {},
   "outputs": [],
   "source": [
    "test_data = scaled_data[training_data_len - 60:, :]\n",
    "x_test = torch.tensor([test_data[i-60:i, 0] for i in range(60, len(test_data))])\n",
    "y_test = dataset[training_data_len:,:]\n",
    "x_test = x_test.reshape(len(x_test), STEP, 1)"
   ]
  },
  {
   "cell_type": "code",
   "execution_count": 21,
   "metadata": {},
   "outputs": [
    {
     "data": {
      "text/plain": [
       "5.9206305"
      ]
     },
     "execution_count": 21,
     "metadata": {},
     "output_type": "execute_result"
    }
   ],
   "source": [
    "sto_net.eval()\n",
    "with torch.no_grad():\n",
    "    out_mean, out_log_var = sto_net(x_test.transpose(1, 0))\n",
    "    A = aleatoric_uncertainty(out_log_var)\n",
    "    E = epistemic_uncertainty(out_mean)\n",
    "    uncertainties = uncertainty(out_mean, out_log_var)\n",
    "    uncertainties = uncertainties.data.numpy()\n",
    "    predictions = prediction_avg(out_mean)\n",
    "    predictions = scaler.inverse_transform(predictions.data.numpy())\n",
    "\n",
    "rmse = np.sqrt(np.mean((predictions-y_test)**2))\n",
    "rmse"
   ]
  },
  {
   "cell_type": "code",
   "execution_count": 22,
   "metadata": {},
   "outputs": [
    {
     "data": {
      "image/png": "[encoded data removed]",
      "text/plain": [
       "<Figure size 1152x576 with 1 Axes>"
      ]
     },
     "metadata": {
      "needs_background": "light"
     },
     "output_type": "display_data"
    }
   ],
   "source": [
    "train = data[:training_data_len]\n",
    "valid = data[training_data_len:]\n",
    "valid.insert(1,\"Predictions\",predictions)\n",
    "valid.insert(2,\"Uncertainties\",uncertainties)\n",
    "\n",
    "plt.figure(figsize=(16, 8))\n",
    "plt.title(\"Model\")\n",
    "plt.xlabel(\"Date\", fontsize=18)\n",
    "plt.ylabel(\"Close Price USD ($)\", fontsize=18)\n",
    "plt.plot(train[\"Close\"])\n",
    "plt.plot(valid[[\"Close\", \"Predictions\"]])\n",
    "plt.legend([\"Train\", \"Val\", \"Predictions\"], loc=\"lower right\")\n",
    "plt.show()"
   ]
  },
  {
   "cell_type": "code",
   "execution_count": null,
   "metadata": {},
   "outputs": [],
   "source": []
  }
 ],
 "metadata": {
  "kernelspec": {
   "display_name": "Python 3",
   "language": "python",
   "name": "python3"
  },
  "language_info": {
   "codemirror_mode": {
    "name": "ipython",
    "version": 3
   },
   "file_extension": ".py",
   "mimetype": "text/x-python",
   "name": "python",
   "nbconvert_exporter": "python",
   "pygments_lexer": "ipython3",
   "version": "3.7.7"
  }
 },
 "nbformat": 4,
 "nbformat_minor": 4
}
