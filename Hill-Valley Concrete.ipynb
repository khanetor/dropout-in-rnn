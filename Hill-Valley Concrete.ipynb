{
 "cells": [
  {
   "cell_type": "code",
   "execution_count": 1,
   "metadata": {},
   "outputs": [],
   "source": [
    "import torch\n",
    "from torch import nn\n",
    "from torch.nn import functional as F\n",
    "from torch import optim\n",
    "import numpy as np\n",
    "import pandas as pd\n",
    "from stochastic_rnn import StochasticLSTM\n",
    "from variational_module import MCSingleMixin\n",
    "from train_utils import train_model, BCLogitMetric"
   ]
  },
  {
   "cell_type": "code",
   "execution_count": 2,
   "metadata": {},
   "outputs": [],
   "source": [
    "from sklearn.preprocessing import minmax_scale\n",
    "from sklearn.model_selection import train_test_split\n",
    "from sklearn.metrics import roc_auc_score, precision_score, accuracy_score, recall_score"
   ]
  },
  {
   "cell_type": "code",
   "execution_count": 3,
   "metadata": {},
   "outputs": [],
   "source": [
    "from classification_uncertainty_utils import aleatoric_uncertainty, epistemic_uncertainty, uncertainty_avg, score_avg"
   ]
  },
  {
   "cell_type": "code",
   "execution_count": 4,
   "metadata": {},
   "outputs": [],
   "source": [
    "import seaborn as sns\n",
    "import matplotlib.pyplot as plt"
   ]
  },
  {
   "cell_type": "code",
   "execution_count": 5,
   "metadata": {},
   "outputs": [
    {
     "data": {
      "text/plain": [
       "<torch._C.Generator at 0x7f948414ca10>"
      ]
     },
     "execution_count": 5,
     "metadata": {},
     "output_type": "execute_result"
    }
   ],
   "source": [
    "np.random.seed(1234)\n",
    "torch.manual_seed(1234)"
   ]
  },
  {
   "cell_type": "code",
   "execution_count": 6,
   "metadata": {},
   "outputs": [],
   "source": [
    "training_table = pd.read_table(\"./data/hill-valley/Hill_Valley_with_noise_Training.data\", sep=',', dtype=np.float32)\n",
    "testing_table = pd.read_table(\"./data/hill-valley/Hill_Valley_with_noise_Testing.data\", sep=',', dtype=np.float32)"
   ]
  },
  {
   "cell_type": "code",
   "execution_count": 7,
   "metadata": {},
   "outputs": [],
   "source": [
    "dim = 1\n",
    "seq_length = 100\n",
    "# DROP = 0.5"
   ]
  },
  {
   "cell_type": "code",
   "execution_count": 8,
   "metadata": {},
   "outputs": [],
   "source": [
    "x_train = minmax_scale(training_table.drop(\"class\", axis=1).values, axis=1)\n",
    "y_train = training_table[\"class\"].values\n",
    "x_test = minmax_scale(testing_table.drop(\"class\", axis=1).values, axis=1)\n",
    "y_test = testing_table[\"class\"].values\n",
    "\n",
    "x_train = np.expand_dims(x_train, axis=-1)\n",
    "x_test = np.expand_dims(x_test, axis=-1)\n",
    "\n",
    "x_train, x_val, y_train, y_val = train_test_split(x_train, y_train, test_size=0.3, random_state=42)\n",
    "\n",
    "N = len(y_train)\n",
    "\n",
    "train_dl = torch.utils.data.DataLoader(\n",
    "        [(x_train[i], y_train[i]) for i in range(len(y_train))],\n",
    "        batch_size=10,\n",
    "        shuffle=True\n",
    ")\n",
    "val_dl = torch.utils.data.DataLoader(\n",
    "        [(x_val[i], y_val[i]) for i in range(len(y_val))],\n",
    "        batch_size=10,\n",
    "        shuffle=False\n",
    ")\n",
    "test_dl = torch.utils.data.DataLoader(\n",
    "        [(x_test[i], y_test[i]) for i in range(len(y_test))],\n",
    "        batch_size=len(y_test),\n",
    "        shuffle=False\n",
    ")"
   ]
  },
  {
   "cell_type": "code",
   "execution_count": 9,
   "metadata": {},
   "outputs": [],
   "source": [
    "class Net(nn.Module, MCSingleMixin):\n",
    "    def __init__(self):\n",
    "        super(Net, self).__init__()\n",
    "        self.rnn = StochasticLSTM(1, 10)\n",
    "        self.fc = nn.Linear(10, 1)\n",
    "\n",
    "    def regularizer(self):\n",
    "        # Weight and bias regularizer\n",
    "        weight_sum, bias_sum, dropout_reg = self.rnn.regularizer()\n",
    "        \n",
    "        return weight_sum + bias_sum + dropout_reg\n",
    "    \n",
    "    def get_output_shape(self, x: torch.Tensor):\n",
    "        B = x.shape[1]\n",
    "        return (B,)\n",
    "\n",
    "    def forward(self, x: torch.Tensor):\n",
    "        out, _ = self.rnn(x)\n",
    "        out = out[-1]\n",
    "        out = torch.relu(out)\n",
    "        out = self.fc(out).flatten()\n",
    "        return out"
   ]
  },
  {
   "cell_type": "code",
   "execution_count": 10,
   "metadata": {},
   "outputs": [],
   "source": [
    "net = Net()\n",
    "criterion = nn.BCEWithLogitsLoss()\n",
    "\n",
    "optimizer = optim.Adam(net.parameters(), lr=1e-3)"
   ]
  },
  {
   "cell_type": "code",
   "execution_count": 11,
   "metadata": {},
   "outputs": [
    {
     "name": "stdout",
     "output_type": "stream",
     "text": [
      "Original dropout rate = 0.51\n"
     ]
    }
   ],
   "source": [
    "print(\"Original dropout rate = %.2f\" % net.rnn.first_layer.p_logit.sigmoid().item())"
   ]
  },
  {
   "cell_type": "code",
   "execution_count": 12,
   "metadata": {},
   "outputs": [],
   "source": [
    "metrics = [BCLogitMetric()]"
   ]
  },
  {
   "cell_type": "code",
   "execution_count": 13,
   "metadata": {},
   "outputs": [
    {
     "name": "stdout",
     "output_type": "stream",
     "text": [
      "[1, 100.00%] train loss: 0.698511\n",
      "[1, 100.00%] validate loss: 0.725518\n",
      "Accuracy = 0.484\n",
      "[2, 100.00%] train loss: 0.689498\n",
      "[2, 100.00%] validate loss: 0.710731\n",
      "Accuracy = 0.484\n",
      "[3, 100.00%] train loss: 0.665226\n",
      "[3, 100.00%] validate loss: 0.669350\n",
      "Accuracy = 0.484\n",
      "[4, 100.00%] train loss: 0.606342\n",
      "[4, 100.00%] validate loss: 0.610949\n",
      "Accuracy = 0.510\n",
      "[5, 100.00%] train loss: 0.548160\n",
      "[5, 100.00%] validate loss: 0.547669\n",
      "Accuracy = 0.599\n",
      "[6, 100.00%] train loss: 0.484353\n",
      "[6, 100.00%] validate loss: 0.495227\n",
      "Accuracy = 0.658\n",
      "[7, 100.00%] train loss: 0.436392\n",
      "[7, 100.00%] validate loss: 0.446316\n",
      "Accuracy = 0.700\n",
      "[8, 100.00%] train loss: 0.395179\n",
      "[8, 100.00%] validate loss: 0.373522\n",
      "Accuracy = 0.737\n",
      "[9, 100.00%] train loss: 0.345471\n",
      "[9, 100.00%] validate loss: 0.353101\n",
      "Accuracy = 0.762\n",
      "[10, 100.00%] train loss: 0.298964\n",
      "[10, 100.00%] validate loss: 0.287983\n",
      "Accuracy = 0.785\n",
      "[11, 100.00%] train loss: 0.265760\n",
      "[11, 100.00%] validate loss: 0.281546\n",
      "Accuracy = 0.802\n",
      "[12, 100.00%] train loss: 0.252254\n",
      "[12, 100.00%] validate loss: 0.246042\n",
      "Accuracy = 0.816\n",
      "[13, 100.00%] train loss: 0.217434\n",
      "[13, 100.00%] validate loss: 0.199949\n",
      "Accuracy = 0.830\n",
      "[14, 100.00%] train loss: 0.212227\n",
      "[14, 100.00%] validate loss: 0.172479\n",
      "Accuracy = 0.841\n",
      "[15, 100.00%] train loss: 0.164067\n",
      "[15, 100.00%] validate loss: 0.155442\n",
      "Accuracy = 0.851\n",
      "[16, 100.00%] train loss: 0.163447\n",
      "[16, 100.00%] validate loss: 0.133153\n",
      "Accuracy = 0.861\n",
      "[17, 100.00%] train loss: 0.150549\n",
      "[17, 100.00%] validate loss: 0.143220\n",
      "Accuracy = 0.868\n",
      "Retry 1/5\n",
      "[18, 100.00%] train loss: 0.143039\n",
      "[18, 100.00%] validate loss: 0.122868\n",
      "Accuracy = 0.875\n",
      "[19, 100.00%] train loss: 0.127921\n",
      "[19, 100.00%] validate loss: 0.137693\n",
      "Accuracy = 0.881\n",
      "Retry 1/5\n",
      "[20, 100.00%] train loss: 0.122556\n",
      "[20, 100.00%] validate loss: 0.098189\n",
      "Accuracy = 0.887\n",
      "[21, 100.00%] train loss: 0.101202\n",
      "[21, 100.00%] validate loss: 0.113990\n",
      "Accuracy = 0.892\n",
      "Retry 1/5\n",
      "[22, 100.00%] train loss: 0.118158\n",
      "[22, 100.00%] validate loss: 0.119124\n",
      "Accuracy = 0.896\n",
      "Retry 2/5\n",
      "[23, 100.00%] train loss: 0.100725\n",
      "[23, 100.00%] validate loss: 0.092031\n",
      "Accuracy = 0.901\n",
      "[24, 100.00%] train loss: 0.093123\n",
      "[24, 100.00%] validate loss: 0.096982\n",
      "Accuracy = 0.904\n",
      "Retry 1/5\n",
      "[25, 100.00%] train loss: 0.087164\n",
      "[25, 100.00%] validate loss: 0.074929\n",
      "Accuracy = 0.908\n",
      "[26, 100.00%] train loss: 0.097499\n",
      "[26, 100.00%] validate loss: 0.082780\n",
      "Accuracy = 0.911\n",
      "Retry 1/5\n",
      "[27, 100.00%] train loss: 0.081154\n",
      "[27, 100.00%] validate loss: 0.084333\n",
      "Accuracy = 0.914\n",
      "Retry 2/5\n",
      "[28, 100.00%] train loss: 0.061270\n",
      "[28, 100.00%] validate loss: 0.073728\n",
      "Accuracy = 0.916\n",
      "[29, 100.00%] train loss: 0.081510\n",
      "[29, 100.00%] validate loss: 0.110253\n",
      "Accuracy = 0.919\n",
      "Retry 1/5\n",
      "[30, 100.00%] train loss: 0.087376\n",
      "[30, 100.00%] validate loss: 0.049478\n",
      "Accuracy = 0.921\n",
      "[31, 100.00%] train loss: 0.059790\n",
      "[31, 100.00%] validate loss: 0.055895\n",
      "Accuracy = 0.924\n",
      "Retry 1/5\n",
      "[32, 100.00%] train loss: 0.056534\n",
      "[32, 100.00%] validate loss: 0.073080\n",
      "Accuracy = 0.926\n",
      "Retry 2/5\n",
      "[33, 100.00%] train loss: 0.062851\n",
      "[33, 100.00%] validate loss: 0.046636\n",
      "Accuracy = 0.928\n",
      "[34, 100.00%] train loss: 0.059067\n",
      "[34, 100.00%] validate loss: 0.055006\n",
      "Accuracy = 0.930\n",
      "Retry 1/5\n",
      "[35, 100.00%] train loss: 0.057432\n",
      "[35, 100.00%] validate loss: 0.050422\n",
      "Accuracy = 0.931\n",
      "Retry 2/5\n",
      "[36, 100.00%] train loss: 0.058070\n",
      "[36, 100.00%] validate loss: 0.046524\n",
      "Accuracy = 0.933\n",
      "[37, 100.00%] train loss: 0.048201\n",
      "[37, 100.00%] validate loss: 0.042580\n",
      "Accuracy = 0.935\n",
      "[38, 100.00%] train loss: 0.042664\n",
      "[38, 100.00%] validate loss: 0.075692\n",
      "Accuracy = 0.936\n",
      "Retry 1/5\n",
      "[39, 100.00%] train loss: 0.051120\n",
      "[39, 100.00%] validate loss: 0.044134\n",
      "Accuracy = 0.938\n",
      "Retry 2/5\n",
      "[40, 100.00%] train loss: 0.057094\n",
      "[40, 100.00%] validate loss: 0.034216\n",
      "Accuracy = 0.939\n",
      "[41, 100.00%] train loss: 0.041763\n",
      "[41, 100.00%] validate loss: 0.052857\n",
      "Accuracy = 0.940\n",
      "Retry 1/5\n",
      "[42, 100.00%] train loss: 0.035857\n",
      "[42, 100.00%] validate loss: 0.059964\n",
      "Accuracy = 0.942\n",
      "Retry 2/5\n",
      "[43, 100.00%] train loss: 0.024225\n",
      "[43, 100.00%] validate loss: 0.044314\n",
      "Accuracy = 0.943\n",
      "Retry 3/5\n",
      "[44, 100.00%] train loss: 0.049212\n",
      "[44, 100.00%] validate loss: 0.050175\n",
      "Accuracy = 0.944\n",
      "Retry 4/5\n",
      "[45, 100.00%] train loss: 0.034007\n",
      "[45, 100.00%] validate loss: 0.021000\n",
      "Accuracy = 0.945\n",
      "[46, 100.00%] train loss: 0.048493\n",
      "[46, 100.00%] validate loss: 0.023278\n",
      "Accuracy = 0.946\n",
      "Retry 1/5\n",
      "[47, 100.00%] train loss: 0.034920\n",
      "[47, 100.00%] validate loss: 0.020451\n",
      "Accuracy = 0.948\n",
      "[48, 100.00%] train loss: 0.030065\n",
      "[48, 100.00%] validate loss: 0.040968\n",
      "Accuracy = 0.949\n",
      "Retry 1/5\n",
      "[49, 100.00%] train loss: 0.029009\n",
      "[49, 100.00%] validate loss: 0.047160\n",
      "Accuracy = 0.949\n",
      "Retry 2/5\n",
      "[50, 100.00%] train loss: 0.027068\n",
      "[50, 100.00%] validate loss: 0.038507\n",
      "Accuracy = 0.950\n",
      "Retry 3/5\n",
      "[51, 100.00%] train loss: 0.029070\n",
      "[51, 100.00%] validate loss: 0.018035\n",
      "Accuracy = 0.951\n",
      "[52, 100.00%] train loss: 0.041065\n",
      "[52, 100.00%] validate loss: 0.039269\n",
      "Accuracy = 0.952\n",
      "Retry 1/5\n",
      "[53, 100.00%] train loss: 0.029021\n",
      "[53, 100.00%] validate loss: 0.040957\n",
      "Accuracy = 0.953\n",
      "Retry 2/5\n",
      "[54, 100.00%] train loss: 0.054076\n",
      "[54, 100.00%] validate loss: 0.036984\n",
      "Accuracy = 0.954\n",
      "Retry 3/5\n",
      "[55, 100.00%] train loss: 0.027186\n",
      "[55, 100.00%] validate loss: 0.063007\n",
      "Accuracy = 0.954\n",
      "Retry 4/5\n",
      "[56, 100.00%] train loss: 0.046302\n",
      "[56, 100.00%] validate loss: 0.013519\n",
      "Accuracy = 0.955\n",
      "[57, 100.00%] train loss: 0.037685\n",
      "[57, 100.00%] validate loss: 0.020249\n",
      "Accuracy = 0.956\n",
      "Retry 1/5\n",
      "[58, 100.00%] train loss: 0.027079\n",
      "[58, 100.00%] validate loss: 0.034836\n",
      "Accuracy = 0.956\n",
      "Retry 2/5\n",
      "[59, 100.00%] train loss: 0.040661\n",
      "[59, 100.00%] validate loss: 0.013346\n",
      "Accuracy = 0.957\n",
      "[60, 100.00%] train loss: 0.040413\n",
      "[60, 100.00%] validate loss: 0.017863\n",
      "Accuracy = 0.958\n",
      "Retry 1/5\n",
      "[61, 100.00%] train loss: 0.025801\n",
      "[61, 100.00%] validate loss: 0.016339\n",
      "Accuracy = 0.959\n",
      "Retry 2/5\n",
      "[62, 100.00%] train loss: 0.025162\n",
      "[62, 100.00%] validate loss: 0.013947\n",
      "Accuracy = 0.959\n",
      "Retry 3/5\n",
      "[63, 100.00%] train loss: 0.023497\n",
      "[63, 100.00%] validate loss: 0.021759\n",
      "Accuracy = 0.960\n",
      "Retry 4/5\n",
      "[64, 100.00%] train loss: 0.017226\n",
      "[64, 100.00%] validate loss: 0.012038\n",
      "Accuracy = 0.960\n",
      "[65, 100.00%] train loss: 0.022109\n",
      "[65, 100.00%] validate loss: 0.012501\n",
      "Accuracy = 0.961\n",
      "Retry 1/5\n",
      "[66, 100.00%] train loss: 0.021894\n",
      "[66, 100.00%] validate loss: 0.031182\n",
      "Accuracy = 0.962\n",
      "Retry 2/5\n",
      "[67, 100.00%] train loss: 0.029992\n",
      "[67, 100.00%] validate loss: 0.027236\n",
      "Accuracy = 0.962\n",
      "Retry 3/5\n",
      "[68, 100.00%] train loss: 0.039598\n",
      "[68, 100.00%] validate loss: 0.024561\n",
      "Accuracy = 0.963\n",
      "Retry 4/5\n",
      "[69, 100.00%] train loss: 0.019219\n",
      "[69, 100.00%] validate loss: 0.015293\n",
      "Accuracy = 0.963\n",
      "Retry 5/5\n",
      "CPU times: user 7min 14s, sys: 4.44 s, total: 7min 18s\n",
      "Wall time: 7min 55s\n"
     ]
    }
   ],
   "source": [
    "%%time\n",
    "net = train_model(net, train_dl, val_dl, criterion, optimizer, \"hill-valley-concrete.pt\", 100, metrics=metrics, patience=5)"
   ]
  },
  {
   "cell_type": "code",
   "execution_count": 14,
   "metadata": {},
   "outputs": [
    {
     "name": "stdout",
     "output_type": "stream",
     "text": [
      "Optimized dropout rate = 0.24\n"
     ]
    }
   ],
   "source": [
    "print(\"Optimized dropout rate = %.2f\" % net.rnn.first_layer.p_logit.sigmoid().item())"
   ]
  },
  {
   "cell_type": "markdown",
   "metadata": {},
   "source": [
    "### Test"
   ]
  },
  {
   "cell_type": "code",
   "execution_count": 15,
   "metadata": {},
   "outputs": [
    {
     "name": "stdout",
     "output_type": "stream",
     "text": [
      "Accuracy = 1.00\n",
      "Precision = 1.00\n",
      "AUCROC = 1.00\n"
     ]
    }
   ],
   "source": [
    "net.eval()\n",
    "with torch.no_grad():\n",
    "    for i, (x, y) in enumerate(test_dl):\n",
    "        pre_sigmoids = net.sample(10, x.transpose(-2,-3))\n",
    "        scores = torch.sigmoid(pre_sigmoids)\n",
    "        score_average = score_avg(scores)\n",
    "        predictions = torch.round(score_average)\n",
    "        uncertainties = uncertainty_avg(scores)\n",
    "        print(\"Accuracy = %.2f\" % accuracy_score(y, predictions))\n",
    "        print(\"Precision = %.2f\" % precision_score(y, predictions))\n",
    "        print(\"AUCROC = %.2f\" % roc_auc_score(y, score_average))"
   ]
  },
  {
   "cell_type": "code",
   "execution_count": 16,
   "metadata": {},
   "outputs": [],
   "source": [
    "A = aleatoric_uncertainty(scores)\n",
    "E = epistemic_uncertainty(scores)"
   ]
  },
  {
   "cell_type": "code",
   "execution_count": 18,
   "metadata": {},
   "outputs": [
    {
     "data": {
      "text/plain": [
       "<matplotlib.legend.Legend at 0x7f9488297c88>"
      ]
     },
     "execution_count": 18,
     "metadata": {},
     "output_type": "execute_result"
    },
    {
     "data": {
      "image/png": "[encoded data removed]",
      "text/plain": [
       "<Figure size 432x288 with 1 Axes>"
      ]
     },
     "metadata": {
      "needs_background": "light"
     },
     "output_type": "display_data"
    }
   ],
   "source": [
    "dist = torch.abs(y - score_average)\n",
    "sns.scatterplot(x=dist, y=uncertainties)\n",
    "sns.scatterplot(x=dist, y=A)\n",
    "sns.scatterplot(x=dist, y=E)\n",
    "plt.xlabel(\"diff\")\n",
    "plt.ylabel(\"uncertainty\")\n",
    "plt.legend(labels=['uncertainty', 'aleatoric', 'epistemic'])"
   ]
  },
  {
   "cell_type": "markdown",
   "metadata": {},
   "source": [
    "### Spread pre and post sigmoid analysis"
   ]
  },
  {
   "cell_type": "code",
   "execution_count": 19,
   "metadata": {},
   "outputs": [],
   "source": [
    "T, B = pre_sigmoids.shape\n",
    "pre_sigmoid_df = pd.DataFrame(columns=[\"entry\",\"value\"])\n",
    "post_sigmoid_df = pd.DataFrame(columns=[\"entry\",\"value\"])\n",
    "for i in range(T):\n",
    "    for j in range(20):\n",
    "        pre_sigmoid_df.loc[i*B + j] = (j+1, pre_sigmoids[i,j])\n",
    "        post_sigmoid_df.loc[i*B + j] = (j+1, scores[i,j])"
   ]
  },
  {
   "cell_type": "code",
   "execution_count": 20,
   "metadata": {},
   "outputs": [
    {
     "data": {
      "image/png": "[encoded data removed]",
      "text/plain": [
       "<Figure size 864x360 with 1 Axes>"
      ]
     },
     "metadata": {
      "needs_background": "light"
     },
     "output_type": "display_data"
    }
   ],
   "source": [
    "plot = sns.catplot(x=\"entry\", y=\"value\", data=pre_sigmoid_df)\n",
    "plot.fig.set_figwidth(12)"
   ]
  },
  {
   "cell_type": "code",
   "execution_count": 21,
   "metadata": {},
   "outputs": [
    {
     "data": {
      "image/png": "[encoded data removed]",
      "text/plain": [
       "<Figure size 864x360 with 1 Axes>"
      ]
     },
     "metadata": {
      "needs_background": "light"
     },
     "output_type": "display_data"
    }
   ],
   "source": [
    "plot = sns.catplot(x=\"entry\", y=\"value\", data=post_sigmoid_df)\n",
    "plot.fig.set_figwidth(12)"
   ]
  },
  {
   "cell_type": "markdown",
   "metadata": {},
   "source": [
    "### Flat line test"
   ]
  },
  {
   "cell_type": "code",
   "execution_count": 22,
   "metadata": {},
   "outputs": [
    {
     "data": {
      "image/png": "[encoded data removed]",
      "text/plain": [
       "<Figure size 432x288 with 1 Axes>"
      ]
     },
     "metadata": {
      "needs_background": "light"
     },
     "output_type": "display_data"
    },
    {
     "name": "stdout",
     "output_type": "stream",
     "text": [
      "predictions tensor([0.9873, 0.9888])\n",
      "uncertainties tensor([0.0126, 0.0111])\n"
     ]
    }
   ],
   "source": [
    "new_x_test = minmax_scale(np.full((2, 100), 0., dtype=np.float32), axis=1)\n",
    "new_x_test = np.expand_dims(new_x_test, axis=-1)\n",
    "new_x_test = new_x_test.swapaxes(-2,-3)\n",
    "new_x_test = torch.tensor(new_x_test)\n",
    "\n",
    "net.eval()\n",
    "with torch.no_grad():\n",
    "    outputs = net.sample(10, new_x_test)\n",
    "    outputs = torch.sigmoid(outputs)\n",
    "    uncertainties = uncertainty_avg(outputs)\n",
    "    scores = score_avg(outputs)\n",
    "\n",
    "plt.plot(new_x_test[:,0])\n",
    "plt.show()\n",
    "print(\"predictions\", scores)\n",
    "print(\"uncertainties\", uncertainties)"
   ]
  },
  {
   "cell_type": "markdown",
   "metadata": {},
   "source": [
    "### Noise test"
   ]
  },
  {
   "cell_type": "code",
   "execution_count": 23,
   "metadata": {},
   "outputs": [
    {
     "data": {
      "image/png": "[encoded data removed]",
      "text/plain": [
       "<Figure size 432x288 with 1 Axes>"
      ]
     },
     "metadata": {
      "needs_background": "light"
     },
     "output_type": "display_data"
    },
    {
     "name": "stdout",
     "output_type": "stream",
     "text": [
      "predictions tensor([0.9804, 0.8770])\n",
      "uncertainties tensor([0.0192, 0.1079])\n"
     ]
    }
   ],
   "source": [
    "new_x_test = minmax_scale(np.random.randn(2, 100).astype(np.float32), axis=1)\n",
    "new_x_test = np.expand_dims(new_x_test, axis=-1)\n",
    "new_x_test = new_x_test.swapaxes(-2,-3)\n",
    "new_x_test = torch.tensor(new_x_test)\n",
    "\n",
    "net.eval()\n",
    "with torch.no_grad():\n",
    "    outputs = net.sample(10, new_x_test)\n",
    "    outputs = torch.sigmoid(outputs)\n",
    "    uncertainties = uncertainty_avg(outputs)\n",
    "    scores = score_avg(outputs)\n",
    "\n",
    "plt.plot(new_x_test[:,0])\n",
    "plt.show()\n",
    "print(\"predictions\", scores)\n",
    "print(\"uncertainties\", uncertainties)"
   ]
  },
  {
   "cell_type": "markdown",
   "metadata": {},
   "source": [
    "### Note\n",
    "In binary classification, the maximum uncertainty is 0.25 (need to verify this), and the minimum is 0."
   ]
  },
  {
   "cell_type": "code",
   "execution_count": null,
   "metadata": {},
   "outputs": [],
   "source": []
  }
 ],
 "metadata": {
  "kernelspec": {
   "display_name": "Python 3",
   "language": "python",
   "name": "python3"
  },
  "language_info": {
   "codemirror_mode": {
    "name": "ipython",
    "version": 3
   },
   "file_extension": ".py",
   "mimetype": "text/x-python",
   "name": "python",
   "nbconvert_exporter": "python",
   "pygments_lexer": "ipython3",
   "version": "3.6.10"
  }
 },
 "nbformat": 4,
 "nbformat_minor": 4
}
