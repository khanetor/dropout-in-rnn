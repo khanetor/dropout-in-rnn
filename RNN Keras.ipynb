{
 "cells": [
  {
   "cell_type": "code",
   "execution_count": 1,
   "metadata": {},
   "outputs": [],
   "source": [
    "import tensorflow as tf\n",
    "from tensorflow.keras.layers import Input, LSTM, Dense\n",
    "from tensorflow.keras.models import Model\n",
    "from tensorflow.keras import backend as K\n",
    "import numpy as np\n",
    "\n",
    "np.random.seed(0)"
   ]
  },
  {
   "cell_type": "code",
   "execution_count": 2,
   "metadata": {},
   "outputs": [],
   "source": [
    "from stochastic_rnn_keras import StochasticLSTM, mc_sample"
   ]
  },
  {
   "cell_type": "code",
   "execution_count": 3,
   "metadata": {},
   "outputs": [],
   "source": [
    "inputs = Input(shape=(10,5))\n",
    "recurrent = StochasticLSTM(15, dropout=0.5)(inputs)\n",
    "outputs = Dense(5)(recurrent)"
   ]
  },
  {
   "cell_type": "code",
   "execution_count": 4,
   "metadata": {},
   "outputs": [],
   "source": [
    "model = Model(inputs=inputs, outputs=outputs)"
   ]
  },
  {
   "cell_type": "code",
   "execution_count": 5,
   "metadata": {},
   "outputs": [],
   "source": [
    "v = np.random.rand(3, 10, 5).astype(np.float32)"
   ]
  },
  {
   "cell_type": "code",
   "execution_count": 6,
   "metadata": {},
   "outputs": [
    {
     "data": {
      "text/plain": [
       "TensorShape([3, 5])"
      ]
     },
     "execution_count": 6,
     "metadata": {},
     "output_type": "execute_result"
    }
   ],
   "source": [
    "v1 = model(v)\n",
    "v2 = model(v)\n",
    "v3 = model(v)\n",
    "v1.shape"
   ]
  },
  {
   "cell_type": "code",
   "execution_count": 7,
   "metadata": {},
   "outputs": [
    {
     "data": {
      "text/plain": [
       "array([[[-0.20298973, -0.4431546 ,  0.02040783, -0.12748504,\n",
       "          0.00139884],\n",
       "        [ 0.16087046,  0.34617335,  0.00148985, -0.27233031,\n",
       "          0.23564331],\n",
       "        [-0.17661241, -0.34638572,  0.09925474, -0.14198732,\n",
       "          0.05855937]],\n",
       "\n",
       "       [[-0.03990513, -0.08741009, -0.03749063, -0.28276786,\n",
       "          0.35709453],\n",
       "        [ 0.34095383, -0.15054834,  0.25528136,  0.02302217,\n",
       "          0.16881801],\n",
       "        [-0.02801585, -0.31230715,  0.42261633,  0.20323032,\n",
       "         -0.20664525]],\n",
       "\n",
       "       [[-0.09391972, -0.18779005,  0.39738977,  0.19898741,\n",
       "         -0.26255876],\n",
       "        [-0.37434861, -0.1802168 ,  0.07527222,  0.03497345,\n",
       "         -0.01973235],\n",
       "        [-0.05332398,  0.12458128, -0.05512241, -0.13067636,\n",
       "          0.36031961]],\n",
       "\n",
       "       [[ 0.20848094, -0.00975949,  0.2083879 ,  0.16062641,\n",
       "          0.24081644],\n",
       "        [-0.28071523,  0.24332549,  0.0788015 , -0.10961843,\n",
       "         -0.04485286],\n",
       "        [-0.36426839,  0.10791349,  0.2284507 ,  0.01126682,\n",
       "         -0.10405929]],\n",
       "\n",
       "       [[ 0.00416065, -0.00495382,  0.00101519,  0.00069553,\n",
       "         -0.00065139],\n",
       "        [ 0.29579833, -0.17352624,  0.34018165, -0.06611188,\n",
       "          0.09618689],\n",
       "        [ 0.03859917, -0.25372484,  0.36595523,  0.14497948,\n",
       "         -0.14967546]],\n",
       "\n",
       "       [[ 0.07760242, -0.32213855,  0.09111158,  0.03556616,\n",
       "          0.04740394],\n",
       "        [-0.04562595,  0.19502914,  0.15553693, -0.16162324,\n",
       "          0.07062084],\n",
       "        [-0.10705422, -0.09762518,  0.05824709, -0.01098811,\n",
       "          0.15741076]],\n",
       "\n",
       "       [[-0.1123623 , -0.13410029, -0.00560043, -0.34951296,\n",
       "          0.00850046],\n",
       "        [ 0.09022025,  0.10879128,  0.19342016, -0.19190821,\n",
       "          0.06264988],\n",
       "        [-0.05476342, -0.05161029,  0.4170914 ,  0.00691587,\n",
       "         -0.09380414]],\n",
       "\n",
       "       [[-0.22411616,  0.10017361, -0.09063619, -0.22220808,\n",
       "          0.17915449],\n",
       "        [-0.14488696,  0.25433749, -0.02218159, -0.15227626,\n",
       "          0.1477491 ],\n",
       "        [-0.18427494,  0.07887281, -0.18516767, -0.42805627,\n",
       "          0.47157705]],\n",
       "\n",
       "       [[-0.3772271 , -0.01327767,  0.10036257,  0.05619588,\n",
       "          0.09677446],\n",
       "        [ 0.21957888, -0.06531174,  0.16304024, -0.25958911,\n",
       "         -0.00692489],\n",
       "        [-0.24991095,  0.04267832, -0.15785058, -0.23689465,\n",
       "          0.2795077 ]],\n",
       "\n",
       "       [[-0.38723391, -0.44046921,  0.11621147,  0.13397375,\n",
       "          0.01028299],\n",
       "        [ 0.32879055,  0.0136476 ,  0.23928759, -0.09778717,\n",
       "          0.08420064],\n",
       "        [-0.05172686, -0.12708268,  0.41909346,  0.05904064,\n",
       "         -0.29703987]]])"
      ]
     },
     "execution_count": 7,
     "metadata": {},
     "output_type": "execute_result"
    }
   ],
   "source": [
    "mc_sample(model, v)"
   ]
  },
  {
   "cell_type": "code",
   "execution_count": null,
   "metadata": {},
   "outputs": [],
   "source": []
  }
 ],
 "metadata": {
  "kernelspec": {
   "display_name": "Python 3",
   "language": "python",
   "name": "python3"
  },
  "language_info": {
   "codemirror_mode": {
    "name": "ipython",
    "version": 3
   },
   "file_extension": ".py",
   "mimetype": "text/x-python",
   "name": "python",
   "nbconvert_exporter": "python",
   "pygments_lexer": "ipython3",
   "version": "3.7.7"
  }
 },
 "nbformat": 4,
 "nbformat_minor": 4
}
