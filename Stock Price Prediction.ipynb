{
 "cells": [
  {
   "cell_type": "markdown",
   "metadata": {},
   "source": [
    "Source: https://github.com/randerson112358/Python/blob/master/LSTM_Stock/LSTM2.ipynb"
   ]
  },
  {
   "cell_type": "code",
   "execution_count": 23,
   "metadata": {},
   "outputs": [],
   "source": [
    "import math\n",
    "import numpy as np\n",
    "import pandas as pd\n",
    "import pandas_datareader as web"
   ]
  },
  {
   "cell_type": "code",
   "execution_count": 24,
   "metadata": {},
   "outputs": [],
   "source": [
    "from sklearn.preprocessing import MinMaxScaler\n",
    "from sklearn.model_selection import train_test_split"
   ]
  },
  {
   "cell_type": "code",
   "execution_count": 25,
   "metadata": {},
   "outputs": [],
   "source": [
    "import matplotlib.pyplot as plt\n",
    "from pandas.plotting import register_matplotlib_converters\n",
    "register_matplotlib_converters()\n",
    "\n",
    "%matplotlib inline"
   ]
  },
  {
   "cell_type": "code",
   "execution_count": 26,
   "metadata": {},
   "outputs": [],
   "source": [
    "import torch\n",
    "from torch import nn\n",
    "from torch.nn import functional as F\n",
    "from torch import optim\n",
    "from train_utils import train_model"
   ]
  },
  {
   "cell_type": "code",
   "execution_count": 27,
   "metadata": {},
   "outputs": [
    {
     "data": {
      "text/plain": [
       "<torch._C.Generator at 0x12a164cb0>"
      ]
     },
     "execution_count": 27,
     "metadata": {},
     "output_type": "execute_result"
    }
   ],
   "source": [
    "np.random.seed(1234)\n",
    "torch.manual_seed(1234)"
   ]
  },
  {
   "cell_type": "code",
   "execution_count": 28,
   "metadata": {},
   "outputs": [
    {
     "data": {
      "text/html": [
       "<div>\n",
       "<style scoped>\n",
       "    .dataframe tbody tr th:only-of-type {\n",
       "        vertical-align: middle;\n",
       "    }\n",
       "\n",
       "    .dataframe tbody tr th {\n",
       "        vertical-align: top;\n",
       "    }\n",
       "\n",
       "    .dataframe thead th {\n",
       "        text-align: right;\n",
       "    }\n",
       "</style>\n",
       "<table border=\"1\" class=\"dataframe\">\n",
       "  <thead>\n",
       "    <tr style=\"text-align: right;\">\n",
       "      <th></th>\n",
       "      <th>High</th>\n",
       "      <th>Low</th>\n",
       "      <th>Open</th>\n",
       "      <th>Close</th>\n",
       "      <th>Volume</th>\n",
       "      <th>Adj Close</th>\n",
       "    </tr>\n",
       "    <tr>\n",
       "      <th>Date</th>\n",
       "      <th></th>\n",
       "      <th></th>\n",
       "      <th></th>\n",
       "      <th></th>\n",
       "      <th></th>\n",
       "      <th></th>\n",
       "    </tr>\n",
       "  </thead>\n",
       "  <tbody>\n",
       "    <tr>\n",
       "      <th>2012-01-03</th>\n",
       "      <td>58.928570</td>\n",
       "      <td>58.428570</td>\n",
       "      <td>58.485714</td>\n",
       "      <td>58.747143</td>\n",
       "      <td>75555200.0</td>\n",
       "      <td>50.994907</td>\n",
       "    </tr>\n",
       "    <tr>\n",
       "      <th>2012-01-04</th>\n",
       "      <td>59.240002</td>\n",
       "      <td>58.468571</td>\n",
       "      <td>58.571430</td>\n",
       "      <td>59.062859</td>\n",
       "      <td>65005500.0</td>\n",
       "      <td>51.268970</td>\n",
       "    </tr>\n",
       "    <tr>\n",
       "      <th>2012-01-05</th>\n",
       "      <td>59.792858</td>\n",
       "      <td>58.952858</td>\n",
       "      <td>59.278572</td>\n",
       "      <td>59.718571</td>\n",
       "      <td>67817400.0</td>\n",
       "      <td>51.838169</td>\n",
       "    </tr>\n",
       "    <tr>\n",
       "      <th>2012-01-06</th>\n",
       "      <td>60.392857</td>\n",
       "      <td>59.888573</td>\n",
       "      <td>59.967144</td>\n",
       "      <td>60.342857</td>\n",
       "      <td>79573200.0</td>\n",
       "      <td>52.380054</td>\n",
       "    </tr>\n",
       "    <tr>\n",
       "      <th>2012-01-09</th>\n",
       "      <td>61.107143</td>\n",
       "      <td>60.192856</td>\n",
       "      <td>60.785713</td>\n",
       "      <td>60.247143</td>\n",
       "      <td>98506100.0</td>\n",
       "      <td>52.296970</td>\n",
       "    </tr>\n",
       "    <tr>\n",
       "      <th>...</th>\n",
       "      <td>...</td>\n",
       "      <td>...</td>\n",
       "      <td>...</td>\n",
       "      <td>...</td>\n",
       "      <td>...</td>\n",
       "      <td>...</td>\n",
       "    </tr>\n",
       "    <tr>\n",
       "      <th>2019-12-11</th>\n",
       "      <td>271.100006</td>\n",
       "      <td>268.500000</td>\n",
       "      <td>268.809998</td>\n",
       "      <td>270.769989</td>\n",
       "      <td>19689200.0</td>\n",
       "      <td>270.128906</td>\n",
       "    </tr>\n",
       "    <tr>\n",
       "      <th>2019-12-12</th>\n",
       "      <td>272.559998</td>\n",
       "      <td>267.320007</td>\n",
       "      <td>267.779999</td>\n",
       "      <td>271.459991</td>\n",
       "      <td>34327600.0</td>\n",
       "      <td>270.817261</td>\n",
       "    </tr>\n",
       "    <tr>\n",
       "      <th>2019-12-13</th>\n",
       "      <td>275.299988</td>\n",
       "      <td>270.929993</td>\n",
       "      <td>271.459991</td>\n",
       "      <td>275.149994</td>\n",
       "      <td>33396900.0</td>\n",
       "      <td>274.498535</td>\n",
       "    </tr>\n",
       "    <tr>\n",
       "      <th>2019-12-16</th>\n",
       "      <td>280.790009</td>\n",
       "      <td>276.980011</td>\n",
       "      <td>277.000000</td>\n",
       "      <td>279.859985</td>\n",
       "      <td>32046500.0</td>\n",
       "      <td>279.197357</td>\n",
       "    </tr>\n",
       "    <tr>\n",
       "      <th>2019-12-17</th>\n",
       "      <td>281.769989</td>\n",
       "      <td>278.799988</td>\n",
       "      <td>279.570007</td>\n",
       "      <td>280.410004</td>\n",
       "      <td>28539600.0</td>\n",
       "      <td>279.746094</td>\n",
       "    </tr>\n",
       "  </tbody>\n",
       "</table>\n",
       "<p>2003 rows × 6 columns</p>\n",
       "</div>"
      ],
      "text/plain": [
       "                  High         Low        Open       Close      Volume  \\\n",
       "Date                                                                     \n",
       "2012-01-03   58.928570   58.428570   58.485714   58.747143  75555200.0   \n",
       "2012-01-04   59.240002   58.468571   58.571430   59.062859  65005500.0   \n",
       "2012-01-05   59.792858   58.952858   59.278572   59.718571  67817400.0   \n",
       "2012-01-06   60.392857   59.888573   59.967144   60.342857  79573200.0   \n",
       "2012-01-09   61.107143   60.192856   60.785713   60.247143  98506100.0   \n",
       "...                ...         ...         ...         ...         ...   \n",
       "2019-12-11  271.100006  268.500000  268.809998  270.769989  19689200.0   \n",
       "2019-12-12  272.559998  267.320007  267.779999  271.459991  34327600.0   \n",
       "2019-12-13  275.299988  270.929993  271.459991  275.149994  33396900.0   \n",
       "2019-12-16  280.790009  276.980011  277.000000  279.859985  32046500.0   \n",
       "2019-12-17  281.769989  278.799988  279.570007  280.410004  28539600.0   \n",
       "\n",
       "             Adj Close  \n",
       "Date                    \n",
       "2012-01-03   50.994907  \n",
       "2012-01-04   51.268970  \n",
       "2012-01-05   51.838169  \n",
       "2012-01-06   52.380054  \n",
       "2012-01-09   52.296970  \n",
       "...                ...  \n",
       "2019-12-11  270.128906  \n",
       "2019-12-12  270.817261  \n",
       "2019-12-13  274.498535  \n",
       "2019-12-16  279.197357  \n",
       "2019-12-17  279.746094  \n",
       "\n",
       "[2003 rows x 6 columns]"
      ]
     },
     "execution_count": 28,
     "metadata": {},
     "output_type": "execute_result"
    }
   ],
   "source": [
    "df = web.DataReader('AAPL', data_source='yahoo', start='2012-01-01', end='2019-12-17')\n",
    "df"
   ]
  },
  {
   "cell_type": "code",
   "execution_count": 29,
   "metadata": {},
   "outputs": [
    {
     "data": {
      "image/png": "[encoded data removed]",
      "text/plain": [
       "<Figure size 1152x576 with 1 Axes>"
      ]
     },
     "metadata": {
      "needs_background": "light"
     },
     "output_type": "display_data"
    }
   ],
   "source": [
    "plt.figure(figsize=(16, 8))\n",
    "plt.title(\"Close Price History\")\n",
    "plt.plot(df[\"Close\"])\n",
    "plt.xlabel(\"Date\", fontsize=18)\n",
    "plt.ylabel(\"Close Price USD ($)\", fontsize=18)\n",
    "plt.show()"
   ]
  },
  {
   "cell_type": "code",
   "execution_count": 30,
   "metadata": {},
   "outputs": [
    {
     "data": {
      "text/plain": [
       "1603"
      ]
     },
     "execution_count": 30,
     "metadata": {},
     "output_type": "execute_result"
    }
   ],
   "source": [
    "data = df.filter([\"Close\"])\n",
    "dataset = data.values\n",
    "training_data_len = math.ceil(len(dataset) * .8)\n",
    "\n",
    "training_data_len"
   ]
  },
  {
   "cell_type": "code",
   "execution_count": 31,
   "metadata": {},
   "outputs": [
    {
     "data": {
      "text/plain": [
       "array([[0.01316509],\n",
       "       [0.01457064],\n",
       "       [0.01748985],\n",
       "       ...,\n",
       "       [0.97658263],\n",
       "       [0.99755134],\n",
       "       [1.        ]])"
      ]
     },
     "execution_count": 31,
     "metadata": {},
     "output_type": "execute_result"
    }
   ],
   "source": [
    "scaler = MinMaxScaler(feature_range=(0, 1))\n",
    "scaled_data = scaler.fit_transform(dataset)\n",
    "\n",
    "scaled_data"
   ]
  },
  {
   "cell_type": "code",
   "execution_count": 32,
   "metadata": {},
   "outputs": [],
   "source": [
    "STEP = 60"
   ]
  },
  {
   "cell_type": "code",
   "execution_count": 33,
   "metadata": {},
   "outputs": [],
   "source": [
    "train_data = scaled_data[0:training_data_len, :]\n",
    "\n",
    "x_train = np.array([train_data[i-STEP:i, 0] for i in range(STEP, training_data_len)])\n",
    "y_train = np.array([train_data[i, 0] for i in range(STEP, training_data_len)])"
   ]
  },
  {
   "cell_type": "code",
   "execution_count": 34,
   "metadata": {},
   "outputs": [],
   "source": [
    "ENTRY_COUNT = len(y_train)"
   ]
  },
  {
   "cell_type": "code",
   "execution_count": 35,
   "metadata": {},
   "outputs": [
    {
     "data": {
      "text/plain": [
       "(1543, 60, 1)"
      ]
     },
     "execution_count": 35,
     "metadata": {},
     "output_type": "execute_result"
    }
   ],
   "source": [
    "x_train = x_train.reshape(ENTRY_COUNT, STEP, 1)\n",
    "x_train.shape"
   ]
  },
  {
   "cell_type": "code",
   "execution_count": 36,
   "metadata": {},
   "outputs": [],
   "source": [
    "x_train, x_val, y_train, y_val = train_test_split(x_train, y_train, test_size=0.3, random_state=42)\n",
    "traindl = torch.utils.data.DataLoader([(x_train[i], y_train[i]) for i in range(len(y_train))], shuffle=True, batch_size=50)\n",
    "valdl = torch.utils.data.DataLoader([(x_val[i], y_val[i]) for i in range(len(y_val))], shuffle=True, batch_size=50)"
   ]
  },
  {
   "cell_type": "code",
   "execution_count": 37,
   "metadata": {},
   "outputs": [],
   "source": [
    "class Net(nn.Module):\n",
    "    def __init__(self):\n",
    "        super(Net, self).__init__()\n",
    "        self.rnn = nn.LSTM(1, 50, num_layers=2)\n",
    "        self.fc1 = nn.Linear(50, 25)\n",
    "        self.fc2 = nn.Linear(25, 1)\n",
    "    \n",
    "    def regularizer(self):\n",
    "        return torch.tensor(0.0)\n",
    "    \n",
    "    def forward(self, x):\n",
    "        result, _ = self.rnn(x)\n",
    "        result = result[-1,:]\n",
    "        result = self.fc1(result)\n",
    "        result = self.fc2(result)\n",
    "        return result, None"
   ]
  },
  {
   "cell_type": "code",
   "execution_count": 38,
   "metadata": {},
   "outputs": [],
   "source": [
    "net = Net().double()\n",
    "def criterion(y_pred, _, y):\n",
    "    return torch.mean((y_pred-y.view(-1,1))**2)\n",
    "\n",
    "optimizer = optim.Adam(net.parameters(), lr=0.001)"
   ]
  },
  {
   "cell_type": "code",
   "execution_count": 39,
   "metadata": {},
   "outputs": [
    {
     "name": "stdout",
     "output_type": "stream",
     "text": [
      "[1, 100.00%] train loss: 0.024800\n",
      "[1, 100.00%] validate loss: 0.022324\n",
      "[2, 100.00%] train loss: 0.018860\n",
      "[2, 100.00%] validate loss: 0.018936\n",
      "[3, 100.00%] train loss: 0.009010\n",
      "[3, 100.00%] validate loss: 0.002805\n",
      "[4, 100.00%] train loss: 0.001643\n",
      "[4, 100.00%] validate loss: 0.000805\n",
      "[5, 100.00%] train loss: 0.000573\n",
      "[5, 100.00%] validate loss: 0.000543\n",
      "[6, 100.00%] train loss: 0.000352\n",
      "[6, 100.00%] validate loss: 0.000396\n",
      "[7, 100.00%] train loss: 0.000345\n",
      "[7, 100.00%] validate loss: 0.000455\n",
      "Retry 1/5\n",
      "[8, 100.00%] train loss: 0.000310\n",
      "[8, 100.00%] validate loss: 0.000392\n",
      "[9, 100.00%] train loss: 0.000304\n",
      "[9, 100.00%] validate loss: 0.000398\n",
      "Retry 1/5\n",
      "[10, 100.00%] train loss: 0.000299\n",
      "[10, 100.00%] validate loss: 0.000382\n",
      "[11, 100.00%] train loss: 0.000293\n",
      "[11, 100.00%] validate loss: 0.000362\n",
      "[12, 100.00%] train loss: 0.000308\n",
      "[12, 100.00%] validate loss: 0.000363\n",
      "Retry 1/5\n",
      "[13, 100.00%] train loss: 0.000323\n",
      "[13, 100.00%] validate loss: 0.000327\n",
      "[14, 100.00%] train loss: 0.000274\n",
      "[14, 100.00%] validate loss: 0.000339\n",
      "Retry 1/5\n",
      "[15, 100.00%] train loss: 0.000274\n",
      "[15, 100.00%] validate loss: 0.000343\n",
      "Retry 2/5\n",
      "[16, 100.00%] train loss: 0.000292\n",
      "[16, 100.00%] validate loss: 0.000329\n",
      "Retry 3/5\n",
      "[17, 100.00%] train loss: 0.000256\n",
      "[17, 100.00%] validate loss: 0.000313\n",
      "[18, 100.00%] train loss: 0.000253\n",
      "[18, 100.00%] validate loss: 0.000296\n",
      "[19, 100.00%] train loss: 0.000270\n",
      "[19, 100.00%] validate loss: 0.000298\n",
      "Retry 1/5\n",
      "[20, 100.00%] train loss: 0.000248\n",
      "[20, 100.00%] validate loss: 0.000290\n",
      "[21, 100.00%] train loss: 0.000240\n",
      "[21, 100.00%] validate loss: 0.000342\n",
      "Retry 1/5\n",
      "[22, 100.00%] train loss: 0.000266\n",
      "[22, 100.00%] validate loss: 0.000311\n",
      "Retry 2/5\n",
      "[23, 100.00%] train loss: 0.000248\n",
      "[23, 100.00%] validate loss: 0.000308\n",
      "Retry 3/5\n",
      "[24, 100.00%] train loss: 0.000234\n",
      "[24, 100.00%] validate loss: 0.000334\n",
      "Retry 4/5\n",
      "[25, 100.00%] train loss: 0.000243\n",
      "[25, 100.00%] validate loss: 0.000269\n",
      "[26, 100.00%] train loss: 0.000228\n",
      "[26, 100.00%] validate loss: 0.000260\n",
      "[27, 100.00%] train loss: 0.000221\n",
      "[27, 100.00%] validate loss: 0.000376\n",
      "Retry 1/5\n",
      "[28, 100.00%] train loss: 0.000230\n",
      "[28, 100.00%] validate loss: 0.000250\n",
      "[29, 100.00%] train loss: 0.000214\n",
      "[29, 100.00%] validate loss: 0.000293\n",
      "Retry 1/5\n",
      "[30, 100.00%] train loss: 0.000213\n",
      "[30, 100.00%] validate loss: 0.000228\n",
      "[31, 100.00%] train loss: 0.000214\n",
      "[31, 100.00%] validate loss: 0.000284\n",
      "Retry 1/5\n",
      "[32, 100.00%] train loss: 0.000227\n",
      "[32, 100.00%] validate loss: 0.000275\n",
      "Retry 2/5\n",
      "[33, 100.00%] train loss: 0.000207\n",
      "[33, 100.00%] validate loss: 0.000253\n",
      "Retry 3/5\n",
      "[34, 100.00%] train loss: 0.000194\n",
      "[34, 100.00%] validate loss: 0.000260\n",
      "Retry 4/5\n",
      "[35, 100.00%] train loss: 0.000217\n",
      "[35, 100.00%] validate loss: 0.000251\n",
      "Retry 5/5\n"
     ]
    }
   ],
   "source": [
    "net = train_model(net, traindl, valdl, criterion, optimizer, \"stock-predict.pt\")"
   ]
  },
  {
   "cell_type": "code",
   "execution_count": 40,
   "metadata": {},
   "outputs": [],
   "source": [
    "test_data = scaled_data[training_data_len - 60:, :]\n",
    "x_test = torch.tensor([test_data[i-60:i, 0] for i in range(60, len(test_data))])\n",
    "y_test = dataset[training_data_len:,:]\n",
    "x_test = x_test.reshape(len(x_test), STEP, 1)"
   ]
  },
  {
   "cell_type": "code",
   "execution_count": 41,
   "metadata": {},
   "outputs": [],
   "source": [
    "predictions, _ = net(x_test.transpose(1, 0))\n",
    "predictions = scaler.inverse_transform(predictions.data.numpy())"
   ]
  },
  {
   "cell_type": "code",
   "execution_count": 42,
   "metadata": {},
   "outputs": [
    {
     "data": {
      "text/plain": [
       "8.122978464215054"
      ]
     },
     "execution_count": 42,
     "metadata": {},
     "output_type": "execute_result"
    }
   ],
   "source": [
    "rmse = np.sqrt(np.mean((predictions-y_test)**2))\n",
    "rmse"
   ]
  },
  {
   "cell_type": "code",
   "execution_count": 45,
   "metadata": {},
   "outputs": [
    {
     "data": {
      "image/png": "[encoded data removed]",
      "text/plain": [
       "<Figure size 1152x576 with 1 Axes>"
      ]
     },
     "metadata": {
      "needs_background": "light"
     },
     "output_type": "display_data"
    }
   ],
   "source": [
    "train = data[:training_data_len]\n",
    "valid = data[training_data_len:]\n",
    "valid.insert(1,\"Predictions\",predictions)\n",
    "\n",
    "plt.figure(figsize=(16, 8))\n",
    "plt.title(\"Model\")\n",
    "plt.xlabel(\"Date\", fontsize=18)\n",
    "plt.ylabel(\"Close Price USD ($)\", fontsize=18)\n",
    "plt.plot(train[\"Close\"])\n",
    "plt.plot(valid[[\"Close\", \"Predictions\"]])\n",
    "plt.legend([\"Train\", \"Val\", \"Predictions\"], loc=\"lower right\")\n",
    "plt.show()"
   ]
  },
  {
   "cell_type": "code",
   "execution_count": 44,
   "metadata": {},
   "outputs": [
    {
     "data": {
      "text/html": [
       "<div>\n",
       "<style scoped>\n",
       "    .dataframe tbody tr th:only-of-type {\n",
       "        vertical-align: middle;\n",
       "    }\n",
       "\n",
       "    .dataframe tbody tr th {\n",
       "        vertical-align: top;\n",
       "    }\n",
       "\n",
       "    .dataframe thead th {\n",
       "        text-align: right;\n",
       "    }\n",
       "</style>\n",
       "<table border=\"1\" class=\"dataframe\">\n",
       "  <thead>\n",
       "    <tr style=\"text-align: right;\">\n",
       "      <th></th>\n",
       "      <th>Close</th>\n",
       "      <th>Predictions</th>\n",
       "    </tr>\n",
       "    <tr>\n",
       "      <th>Date</th>\n",
       "      <th></th>\n",
       "      <th></th>\n",
       "    </tr>\n",
       "  </thead>\n",
       "  <tbody>\n",
       "    <tr>\n",
       "      <th>2018-05-17</th>\n",
       "      <td>186.990005</td>\n",
       "      <td>186.077306</td>\n",
       "    </tr>\n",
       "    <tr>\n",
       "      <th>2018-05-18</th>\n",
       "      <td>186.309998</td>\n",
       "      <td>186.565267</td>\n",
       "    </tr>\n",
       "    <tr>\n",
       "      <th>2018-05-21</th>\n",
       "      <td>187.630005</td>\n",
       "      <td>186.823863</td>\n",
       "    </tr>\n",
       "    <tr>\n",
       "      <th>2018-05-22</th>\n",
       "      <td>187.160004</td>\n",
       "      <td>187.069453</td>\n",
       "    </tr>\n",
       "    <tr>\n",
       "      <th>2018-05-23</th>\n",
       "      <td>188.360001</td>\n",
       "      <td>187.245446</td>\n",
       "    </tr>\n",
       "    <tr>\n",
       "      <th>...</th>\n",
       "      <td>...</td>\n",
       "      <td>...</td>\n",
       "    </tr>\n",
       "    <tr>\n",
       "      <th>2019-12-11</th>\n",
       "      <td>270.769989</td>\n",
       "      <td>251.716494</td>\n",
       "    </tr>\n",
       "    <tr>\n",
       "      <th>2019-12-12</th>\n",
       "      <td>271.459991</td>\n",
       "      <td>252.294910</td>\n",
       "    </tr>\n",
       "    <tr>\n",
       "      <th>2019-12-13</th>\n",
       "      <td>275.149994</td>\n",
       "      <td>252.921021</td>\n",
       "    </tr>\n",
       "    <tr>\n",
       "      <th>2019-12-16</th>\n",
       "      <td>279.859985</td>\n",
       "      <td>253.782814</td>\n",
       "    </tr>\n",
       "    <tr>\n",
       "      <th>2019-12-17</th>\n",
       "      <td>280.410004</td>\n",
       "      <td>255.009120</td>\n",
       "    </tr>\n",
       "  </tbody>\n",
       "</table>\n",
       "<p>400 rows × 2 columns</p>\n",
       "</div>"
      ],
      "text/plain": [
       "                 Close  Predictions\n",
       "Date                               \n",
       "2018-05-17  186.990005   186.077306\n",
       "2018-05-18  186.309998   186.565267\n",
       "2018-05-21  187.630005   186.823863\n",
       "2018-05-22  187.160004   187.069453\n",
       "2018-05-23  188.360001   187.245446\n",
       "...                ...          ...\n",
       "2019-12-11  270.769989   251.716494\n",
       "2019-12-12  271.459991   252.294910\n",
       "2019-12-13  275.149994   252.921021\n",
       "2019-12-16  279.859985   253.782814\n",
       "2019-12-17  280.410004   255.009120\n",
       "\n",
       "[400 rows x 2 columns]"
      ]
     },
     "execution_count": 44,
     "metadata": {},
     "output_type": "execute_result"
    }
   ],
   "source": [
    "valid"
   ]
  },
  {
   "cell_type": "code",
   "execution_count": null,
   "metadata": {},
   "outputs": [],
   "source": []
  }
 ],
 "metadata": {
  "kernelspec": {
   "display_name": "Python 3",
   "language": "python",
   "name": "python3"
  },
  "language_info": {
   "codemirror_mode": {
    "name": "ipython",
    "version": 3
   },
   "file_extension": ".py",
   "mimetype": "text/x-python",
   "name": "python",
   "nbconvert_exporter": "python",
   "pygments_lexer": "ipython3",
   "version": "3.7.7"
  }
 },
 "nbformat": 4,
 "nbformat_minor": 4
}
