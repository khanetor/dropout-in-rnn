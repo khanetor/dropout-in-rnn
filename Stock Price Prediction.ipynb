{
 "cells": [
  {
   "cell_type": "markdown",
   "metadata": {},
   "source": [
    "Source: https://github.com/randerson112358/Python/blob/master/LSTM_Stock/LSTM2.ipynb"
   ]
  },
  {
   "cell_type": "code",
   "execution_count": 1,
   "metadata": {},
   "outputs": [
    {
     "name": "stderr",
     "output_type": "stream",
     "text": [
      "/usr/local/miniconda3/envs/mimic3/lib/python3.6/site-packages/pandas_datareader/compat/__init__.py:7: FutureWarning: pandas.util.testing is deprecated. Use the functions in the public API at pandas.testing instead.\n",
      "  from pandas.util.testing import assert_frame_equal\n"
     ]
    }
   ],
   "source": [
    "import math\n",
    "import numpy as np\n",
    "import pandas as pd\n",
    "import pandas_datareader as web"
   ]
  },
  {
   "cell_type": "code",
   "execution_count": 2,
   "metadata": {},
   "outputs": [],
   "source": [
    "from sklearn.preprocessing import MinMaxScaler\n",
    "from sklearn.model_selection import train_test_split"
   ]
  },
  {
   "cell_type": "code",
   "execution_count": 3,
   "metadata": {},
   "outputs": [],
   "source": [
    "import matplotlib.pyplot as plt\n",
    "from pandas.plotting import register_matplotlib_converters\n",
    "register_matplotlib_converters()\n",
    "\n",
    "%matplotlib inline"
   ]
  },
  {
   "cell_type": "code",
   "execution_count": 4,
   "metadata": {},
   "outputs": [],
   "source": [
    "import torch\n",
    "from torch import nn\n",
    "from torch.nn import functional as F\n",
    "from torch import optim\n",
    "from train_utils import train_model"
   ]
  },
  {
   "cell_type": "code",
   "execution_count": 5,
   "metadata": {},
   "outputs": [
    {
     "data": {
      "text/plain": [
       "<torch._C.Generator at 0x7ff0578203b0>"
      ]
     },
     "execution_count": 5,
     "metadata": {},
     "output_type": "execute_result"
    }
   ],
   "source": [
    "np.random.seed(4321)\n",
    "torch.manual_seed(4321)"
   ]
  },
  {
   "cell_type": "code",
   "execution_count": 6,
   "metadata": {},
   "outputs": [
    {
     "data": {
      "text/html": [
       "<div>\n",
       "<style scoped>\n",
       "    .dataframe tbody tr th:only-of-type {\n",
       "        vertical-align: middle;\n",
       "    }\n",
       "\n",
       "    .dataframe tbody tr th {\n",
       "        vertical-align: top;\n",
       "    }\n",
       "\n",
       "    .dataframe thead th {\n",
       "        text-align: right;\n",
       "    }\n",
       "</style>\n",
       "<table border=\"1\" class=\"dataframe\">\n",
       "  <thead>\n",
       "    <tr style=\"text-align: right;\">\n",
       "      <th></th>\n",
       "      <th>High</th>\n",
       "      <th>Low</th>\n",
       "      <th>Open</th>\n",
       "      <th>Close</th>\n",
       "      <th>Volume</th>\n",
       "      <th>Adj Close</th>\n",
       "    </tr>\n",
       "    <tr>\n",
       "      <th>Date</th>\n",
       "      <th></th>\n",
       "      <th></th>\n",
       "      <th></th>\n",
       "      <th></th>\n",
       "      <th></th>\n",
       "      <th></th>\n",
       "    </tr>\n",
       "  </thead>\n",
       "  <tbody>\n",
       "    <tr>\n",
       "      <th>2012-01-03</th>\n",
       "      <td>58.928570</td>\n",
       "      <td>58.428570</td>\n",
       "      <td>58.485714</td>\n",
       "      <td>58.747143</td>\n",
       "      <td>75555200.0</td>\n",
       "      <td>50.857235</td>\n",
       "    </tr>\n",
       "    <tr>\n",
       "      <th>2012-01-04</th>\n",
       "      <td>59.240002</td>\n",
       "      <td>58.468571</td>\n",
       "      <td>58.571430</td>\n",
       "      <td>59.062859</td>\n",
       "      <td>65005500.0</td>\n",
       "      <td>51.130558</td>\n",
       "    </tr>\n",
       "    <tr>\n",
       "      <th>2012-01-05</th>\n",
       "      <td>59.792858</td>\n",
       "      <td>58.952858</td>\n",
       "      <td>59.278572</td>\n",
       "      <td>59.718571</td>\n",
       "      <td>67817400.0</td>\n",
       "      <td>51.698215</td>\n",
       "    </tr>\n",
       "    <tr>\n",
       "      <th>2012-01-06</th>\n",
       "      <td>60.392857</td>\n",
       "      <td>59.888573</td>\n",
       "      <td>59.967144</td>\n",
       "      <td>60.342857</td>\n",
       "      <td>79573200.0</td>\n",
       "      <td>52.238651</td>\n",
       "    </tr>\n",
       "    <tr>\n",
       "      <th>2012-01-09</th>\n",
       "      <td>61.107143</td>\n",
       "      <td>60.192856</td>\n",
       "      <td>60.785713</td>\n",
       "      <td>60.247143</td>\n",
       "      <td>98506100.0</td>\n",
       "      <td>52.155792</td>\n",
       "    </tr>\n",
       "    <tr>\n",
       "      <th>...</th>\n",
       "      <td>...</td>\n",
       "      <td>...</td>\n",
       "      <td>...</td>\n",
       "      <td>...</td>\n",
       "      <td>...</td>\n",
       "      <td>...</td>\n",
       "    </tr>\n",
       "    <tr>\n",
       "      <th>2019-12-11</th>\n",
       "      <td>271.100006</td>\n",
       "      <td>268.500000</td>\n",
       "      <td>268.809998</td>\n",
       "      <td>270.769989</td>\n",
       "      <td>19689200.0</td>\n",
       "      <td>269.399658</td>\n",
       "    </tr>\n",
       "    <tr>\n",
       "      <th>2019-12-12</th>\n",
       "      <td>272.559998</td>\n",
       "      <td>267.320007</td>\n",
       "      <td>267.779999</td>\n",
       "      <td>271.459991</td>\n",
       "      <td>34327600.0</td>\n",
       "      <td>270.086151</td>\n",
       "    </tr>\n",
       "    <tr>\n",
       "      <th>2019-12-13</th>\n",
       "      <td>275.299988</td>\n",
       "      <td>270.929993</td>\n",
       "      <td>271.459991</td>\n",
       "      <td>275.149994</td>\n",
       "      <td>33396900.0</td>\n",
       "      <td>273.757477</td>\n",
       "    </tr>\n",
       "    <tr>\n",
       "      <th>2019-12-16</th>\n",
       "      <td>280.790009</td>\n",
       "      <td>276.980011</td>\n",
       "      <td>277.000000</td>\n",
       "      <td>279.859985</td>\n",
       "      <td>32046500.0</td>\n",
       "      <td>278.443604</td>\n",
       "    </tr>\n",
       "    <tr>\n",
       "      <th>2019-12-17</th>\n",
       "      <td>281.769989</td>\n",
       "      <td>278.799988</td>\n",
       "      <td>279.570007</td>\n",
       "      <td>280.410004</td>\n",
       "      <td>28539600.0</td>\n",
       "      <td>278.990875</td>\n",
       "    </tr>\n",
       "  </tbody>\n",
       "</table>\n",
       "<p>2003 rows × 6 columns</p>\n",
       "</div>"
      ],
      "text/plain": [
       "                  High         Low        Open       Close      Volume  \\\n",
       "Date                                                                     \n",
       "2012-01-03   58.928570   58.428570   58.485714   58.747143  75555200.0   \n",
       "2012-01-04   59.240002   58.468571   58.571430   59.062859  65005500.0   \n",
       "2012-01-05   59.792858   58.952858   59.278572   59.718571  67817400.0   \n",
       "2012-01-06   60.392857   59.888573   59.967144   60.342857  79573200.0   \n",
       "2012-01-09   61.107143   60.192856   60.785713   60.247143  98506100.0   \n",
       "...                ...         ...         ...         ...         ...   \n",
       "2019-12-11  271.100006  268.500000  268.809998  270.769989  19689200.0   \n",
       "2019-12-12  272.559998  267.320007  267.779999  271.459991  34327600.0   \n",
       "2019-12-13  275.299988  270.929993  271.459991  275.149994  33396900.0   \n",
       "2019-12-16  280.790009  276.980011  277.000000  279.859985  32046500.0   \n",
       "2019-12-17  281.769989  278.799988  279.570007  280.410004  28539600.0   \n",
       "\n",
       "             Adj Close  \n",
       "Date                    \n",
       "2012-01-03   50.857235  \n",
       "2012-01-04   51.130558  \n",
       "2012-01-05   51.698215  \n",
       "2012-01-06   52.238651  \n",
       "2012-01-09   52.155792  \n",
       "...                ...  \n",
       "2019-12-11  269.399658  \n",
       "2019-12-12  270.086151  \n",
       "2019-12-13  273.757477  \n",
       "2019-12-16  278.443604  \n",
       "2019-12-17  278.990875  \n",
       "\n",
       "[2003 rows x 6 columns]"
      ]
     },
     "execution_count": 6,
     "metadata": {},
     "output_type": "execute_result"
    }
   ],
   "source": [
    "df = web.DataReader('AAPL', data_source='yahoo', start='2012-01-01', end='2019-12-17')\n",
    "df"
   ]
  },
  {
   "cell_type": "code",
   "execution_count": 7,
   "metadata": {},
   "outputs": [
    {
     "data": {
      "image/png": "[encoded data removed]",
      "text/plain": [
       "<Figure size 1152x576 with 1 Axes>"
      ]
     },
     "metadata": {
      "needs_background": "light"
     },
     "output_type": "display_data"
    }
   ],
   "source": [
    "plt.figure(figsize=(16, 8))\n",
    "plt.title(\"Close Price History\")\n",
    "plt.plot(df[\"Close\"])\n",
    "plt.xlabel(\"Date\", fontsize=18)\n",
    "plt.ylabel(\"Close Price USD ($)\", fontsize=18)\n",
    "plt.show()"
   ]
  },
  {
   "cell_type": "code",
   "execution_count": 8,
   "metadata": {},
   "outputs": [
    {
     "data": {
      "text/plain": [
       "1603"
      ]
     },
     "execution_count": 8,
     "metadata": {},
     "output_type": "execute_result"
    }
   ],
   "source": [
    "data = df.filter([\"Close\"]).astype(np.float32)\n",
    "dataset = data.values\n",
    "training_data_len = math.ceil(len(dataset) * .8)\n",
    "\n",
    "training_data_len"
   ]
  },
  {
   "cell_type": "code",
   "execution_count": 9,
   "metadata": {},
   "outputs": [
    {
     "data": {
      "text/plain": [
       "array([[0.01316509],\n",
       "       [0.01457062],\n",
       "       [0.01748985],\n",
       "       ...,\n",
       "       [0.97658265],\n",
       "       [0.99755144],\n",
       "       [1.0000001 ]], dtype=float32)"
      ]
     },
     "execution_count": 9,
     "metadata": {},
     "output_type": "execute_result"
    }
   ],
   "source": [
    "scaler = MinMaxScaler(feature_range=(0, 1))\n",
    "scaled_data = scaler.fit_transform(dataset)\n",
    "\n",
    "scaled_data"
   ]
  },
  {
   "cell_type": "code",
   "execution_count": 10,
   "metadata": {},
   "outputs": [],
   "source": [
    "STEP = 60"
   ]
  },
  {
   "cell_type": "code",
   "execution_count": 11,
   "metadata": {},
   "outputs": [],
   "source": [
    "train_data = scaled_data[0:training_data_len, :]\n",
    "\n",
    "x_train = np.array([train_data[i-STEP:i, 0] for i in range(STEP, training_data_len)])\n",
    "y_train = np.array([train_data[i, 0] for i in range(STEP, training_data_len)])"
   ]
  },
  {
   "cell_type": "code",
   "execution_count": 12,
   "metadata": {},
   "outputs": [],
   "source": [
    "ENTRY_COUNT = len(y_train)"
   ]
  },
  {
   "cell_type": "code",
   "execution_count": 13,
   "metadata": {},
   "outputs": [
    {
     "data": {
      "text/plain": [
       "(1543, 60, 1)"
      ]
     },
     "execution_count": 13,
     "metadata": {},
     "output_type": "execute_result"
    }
   ],
   "source": [
    "x_train = x_train.reshape(ENTRY_COUNT, STEP, 1)\n",
    "x_train.shape"
   ]
  },
  {
   "cell_type": "code",
   "execution_count": 14,
   "metadata": {},
   "outputs": [],
   "source": [
    "x_train, x_val, y_train, y_val = train_test_split(x_train, y_train, test_size=0.3, random_state=42)\n",
    "train_dl = torch.utils.data.DataLoader([(x_train[i], y_train[i]) for i in range(len(y_train))], shuffle=True, batch_size=50)\n",
    "val_dl = torch.utils.data.DataLoader([(x_val[i], y_val[i]) for i in range(len(y_val))], shuffle=True, batch_size=50)"
   ]
  },
  {
   "cell_type": "code",
   "execution_count": 15,
   "metadata": {},
   "outputs": [],
   "source": [
    "class Net(nn.Module):\n",
    "    def __init__(self):\n",
    "        super(Net, self).__init__()\n",
    "        self.rnn = nn.LSTM(1, 50, num_layers=1)\n",
    "        self.fc1 = nn.Linear(50, 25)\n",
    "        self.fc2 = nn.Linear(25, 1)\n",
    "    \n",
    "    def regularizer(self):\n",
    "        return torch.tensor(0.0)\n",
    "    \n",
    "    def forward(self, x):\n",
    "        result, _ = self.rnn(x)\n",
    "        result = result[-1]\n",
    "        result = torch.relu(self.fc1(result))\n",
    "        result = self.fc2(result)\n",
    "        return result, None"
   ]
  },
  {
   "cell_type": "code",
   "execution_count": 16,
   "metadata": {},
   "outputs": [],
   "source": [
    "net = Net()\n",
    "def criterion(output, y):\n",
    "    y_pred, _ = output\n",
    "    return torch.mean((y_pred-y.view(-1,1))**2)\n",
    "\n",
    "optimizer = optim.Adam(net.parameters(), lr=0.001)"
   ]
  },
  {
   "cell_type": "code",
   "execution_count": 17,
   "metadata": {},
   "outputs": [
    {
     "name": "stdout",
     "output_type": "stream",
     "text": [
      "[1, 100.00%] train loss: 0.078803\n",
      "[1, 100.00%] validate loss: 0.018035\n",
      "[2, 100.00%] train loss: 0.017868\n",
      "[2, 100.00%] validate loss: 0.015997\n",
      "[3, 100.00%] train loss: 0.012506\n",
      "[3, 100.00%] validate loss: 0.011114\n",
      "[4, 100.00%] train loss: 0.005847\n",
      "[4, 100.00%] validate loss: 0.003360\n",
      "[5, 100.00%] train loss: 0.002662\n",
      "[5, 100.00%] validate loss: 0.002227\n",
      "[6, 100.00%] train loss: 0.001276\n",
      "[6, 100.00%] validate loss: 0.001110\n",
      "[7, 100.00%] train loss: 0.000784\n",
      "[7, 100.00%] validate loss: 0.000771\n",
      "[8, 100.00%] train loss: 0.000561\n",
      "[8, 100.00%] validate loss: 0.000610\n",
      "[9, 100.00%] train loss: 0.000464\n",
      "[9, 100.00%] validate loss: 0.000524\n",
      "[10, 100.00%] train loss: 0.000428\n",
      "[10, 100.00%] validate loss: 0.000497\n",
      "[11, 100.00%] train loss: 0.000399\n",
      "[11, 100.00%] validate loss: 0.000468\n",
      "[12, 100.00%] train loss: 0.000384\n",
      "[12, 100.00%] validate loss: 0.000463\n",
      "[13, 100.00%] train loss: 0.000361\n",
      "[13, 100.00%] validate loss: 0.000458\n",
      "[14, 100.00%] train loss: 0.000374\n",
      "[14, 100.00%] validate loss: 0.000418\n",
      "[15, 100.00%] train loss: 0.000336\n",
      "[15, 100.00%] validate loss: 0.000470\n",
      "Retry 1/6\n",
      "[16, 100.00%] train loss: 0.000335\n",
      "[16, 100.00%] validate loss: 0.000447\n",
      "Retry 2/6\n",
      "[17, 100.00%] train loss: 0.000322\n",
      "[17, 100.00%] validate loss: 0.000361\n",
      "[18, 100.00%] train loss: 0.000306\n",
      "[18, 100.00%] validate loss: 0.000373\n",
      "Retry 1/6\n",
      "[19, 100.00%] train loss: 0.000293\n",
      "[19, 100.00%] validate loss: 0.000354\n",
      "[20, 100.00%] train loss: 0.000296\n",
      "[20, 100.00%] validate loss: 0.000354\n",
      "[21, 100.00%] train loss: 0.000280\n",
      "[21, 100.00%] validate loss: 0.000368\n",
      "Retry 1/6\n",
      "[22, 100.00%] train loss: 0.000310\n",
      "[22, 100.00%] validate loss: 0.000329\n",
      "[23, 100.00%] train loss: 0.000275\n",
      "[23, 100.00%] validate loss: 0.000357\n",
      "Retry 1/6\n",
      "[24, 100.00%] train loss: 0.000263\n",
      "[24, 100.00%] validate loss: 0.000338\n",
      "Retry 2/6\n",
      "[25, 100.00%] train loss: 0.000248\n",
      "[25, 100.00%] validate loss: 0.000307\n",
      "[26, 100.00%] train loss: 0.000272\n",
      "[26, 100.00%] validate loss: 0.000344\n",
      "Retry 1/6\n",
      "[27, 100.00%] train loss: 0.000265\n",
      "[27, 100.00%] validate loss: 0.000301\n",
      "[28, 100.00%] train loss: 0.000243\n",
      "[28, 100.00%] validate loss: 0.000291\n",
      "[29, 100.00%] train loss: 0.000230\n",
      "[29, 100.00%] validate loss: 0.000319\n",
      "Retry 1/6\n",
      "[30, 100.00%] train loss: 0.000231\n",
      "[30, 100.00%] validate loss: 0.000283\n",
      "[31, 100.00%] train loss: 0.000218\n",
      "[31, 100.00%] validate loss: 0.000275\n",
      "[32, 100.00%] train loss: 0.000226\n",
      "[32, 100.00%] validate loss: 0.000295\n",
      "Retry 1/6\n",
      "[33, 100.00%] train loss: 0.000221\n",
      "[33, 100.00%] validate loss: 0.000275\n",
      "[34, 100.00%] train loss: 0.000210\n",
      "[34, 100.00%] validate loss: 0.000281\n",
      "Retry 1/6\n",
      "[35, 100.00%] train loss: 0.000205\n",
      "[35, 100.00%] validate loss: 0.000275\n",
      "Retry 2/6\n",
      "[36, 100.00%] train loss: 0.000223\n",
      "[36, 100.00%] validate loss: 0.000285\n",
      "Retry 3/6\n",
      "[37, 100.00%] train loss: 0.000209\n",
      "[37, 100.00%] validate loss: 0.000291\n",
      "Retry 4/6\n",
      "[38, 100.00%] train loss: 0.000216\n",
      "[38, 100.00%] validate loss: 0.000239\n",
      "[39, 100.00%] train loss: 0.000196\n",
      "[39, 100.00%] validate loss: 0.000232\n",
      "[40, 100.00%] train loss: 0.000191\n",
      "[40, 100.00%] validate loss: 0.000259\n",
      "Retry 1/6\n",
      "[41, 100.00%] train loss: 0.000208\n",
      "[41, 100.00%] validate loss: 0.000244\n",
      "Retry 2/6\n",
      "[42, 100.00%] train loss: 0.000209\n",
      "[42, 100.00%] validate loss: 0.000212\n",
      "[43, 100.00%] train loss: 0.000184\n",
      "[43, 100.00%] validate loss: 0.000314\n",
      "Retry 1/6\n",
      "[44, 100.00%] train loss: 0.000210\n",
      "[44, 100.00%] validate loss: 0.000212\n",
      "[45, 100.00%] train loss: 0.000192\n",
      "[45, 100.00%] validate loss: 0.000210\n",
      "[46, 100.00%] train loss: 0.000171\n",
      "[46, 100.00%] validate loss: 0.000201\n",
      "[47, 100.00%] train loss: 0.000181\n",
      "[47, 100.00%] validate loss: 0.000215\n",
      "Retry 1/6\n",
      "[48, 100.00%] train loss: 0.000173\n",
      "[48, 100.00%] validate loss: 0.000219\n",
      "Retry 2/6\n",
      "[49, 100.00%] train loss: 0.000188\n",
      "[49, 100.00%] validate loss: 0.000199\n",
      "[50, 100.00%] train loss: 0.000213\n",
      "[50, 100.00%] validate loss: 0.000301\n",
      "Retry 1/6\n",
      "[51, 100.00%] train loss: 0.000187\n",
      "[51, 100.00%] validate loss: 0.000194\n",
      "[52, 100.00%] train loss: 0.000170\n",
      "[52, 100.00%] validate loss: 0.000229\n",
      "Retry 1/6\n",
      "[53, 100.00%] train loss: 0.000164\n",
      "[53, 100.00%] validate loss: 0.000200\n",
      "Retry 2/6\n",
      "[54, 100.00%] train loss: 0.000162\n",
      "[54, 100.00%] validate loss: 0.000176\n",
      "[55, 100.00%] train loss: 0.000157\n",
      "[55, 100.00%] validate loss: 0.000173\n",
      "[56, 100.00%] train loss: 0.000161\n",
      "[56, 100.00%] validate loss: 0.000203\n",
      "Retry 1/6\n",
      "[57, 100.00%] train loss: 0.000165\n",
      "[57, 100.00%] validate loss: 0.000169\n",
      "[58, 100.00%] train loss: 0.000171\n",
      "[58, 100.00%] validate loss: 0.000178\n",
      "Retry 1/6\n",
      "[59, 100.00%] train loss: 0.000165\n",
      "[59, 100.00%] validate loss: 0.000176\n",
      "Retry 2/6\n",
      "[60, 100.00%] train loss: 0.000163\n",
      "[60, 100.00%] validate loss: 0.000175\n",
      "Retry 3/6\n",
      "[61, 100.00%] train loss: 0.000191\n",
      "[61, 100.00%] validate loss: 0.000166\n",
      "[62, 100.00%] train loss: 0.000144\n",
      "[62, 100.00%] validate loss: 0.000157\n",
      "[63, 100.00%] train loss: 0.000145\n",
      "[63, 100.00%] validate loss: 0.000198\n",
      "Retry 1/6\n",
      "[64, 100.00%] train loss: 0.000145\n",
      "[64, 100.00%] validate loss: 0.000156\n",
      "[65, 100.00%] train loss: 0.000141\n",
      "[65, 100.00%] validate loss: 0.000200\n",
      "Retry 1/6\n",
      "[66, 100.00%] train loss: 0.000174\n",
      "[66, 100.00%] validate loss: 0.000154\n",
      "[67, 100.00%] train loss: 0.000203\n",
      "[67, 100.00%] validate loss: 0.000370\n",
      "Retry 1/6\n",
      "[68, 100.00%] train loss: 0.000172\n",
      "[68, 100.00%] validate loss: 0.000193\n",
      "Retry 2/6\n",
      "[69, 100.00%] train loss: 0.000143\n",
      "[69, 100.00%] validate loss: 0.000166\n",
      "Retry 3/6\n",
      "[70, 100.00%] train loss: 0.000155\n",
      "[70, 100.00%] validate loss: 0.000151\n",
      "[71, 100.00%] train loss: 0.000141\n",
      "[71, 100.00%] validate loss: 0.000183\n",
      "Retry 1/6\n",
      "[72, 100.00%] train loss: 0.000171\n",
      "[72, 100.00%] validate loss: 0.000153\n",
      "Retry 2/6\n",
      "[73, 100.00%] train loss: 0.000134\n",
      "[73, 100.00%] validate loss: 0.000148\n",
      "[74, 100.00%] train loss: 0.000135\n",
      "[74, 100.00%] validate loss: 0.000156\n",
      "Retry 1/6\n",
      "[75, 100.00%] train loss: 0.000135\n",
      "[75, 100.00%] validate loss: 0.000140\n",
      "[76, 100.00%] train loss: 0.000125\n",
      "[76, 100.00%] validate loss: 0.000147\n",
      "Retry 1/6\n",
      "[77, 100.00%] train loss: 0.000139\n",
      "[77, 100.00%] validate loss: 0.000221\n",
      "Retry 2/6\n",
      "[78, 100.00%] train loss: 0.000155\n",
      "[78, 100.00%] validate loss: 0.000133\n",
      "[79, 100.00%] train loss: 0.000140\n",
      "[79, 100.00%] validate loss: 0.000154\n",
      "Retry 1/6\n",
      "[80, 100.00%] train loss: 0.000137\n",
      "[80, 100.00%] validate loss: 0.000158\n",
      "Retry 2/6\n",
      "[81, 100.00%] train loss: 0.000128\n",
      "[81, 100.00%] validate loss: 0.000159\n",
      "Retry 3/6\n",
      "[82, 100.00%] train loss: 0.000140\n",
      "[82, 100.00%] validate loss: 0.000169\n",
      "Retry 4/6\n",
      "[83, 100.00%] train loss: 0.000133\n",
      "[83, 100.00%] validate loss: 0.000125\n",
      "[84, 100.00%] train loss: 0.000121\n",
      "[84, 100.00%] validate loss: 0.000196\n",
      "Retry 1/6\n",
      "[85, 100.00%] train loss: 0.000119\n",
      "[85, 100.00%] validate loss: 0.000130\n",
      "Retry 2/6\n",
      "[86, 100.00%] train loss: 0.000119\n",
      "[86, 100.00%] validate loss: 0.000150\n",
      "Retry 3/6\n",
      "[87, 100.00%] train loss: 0.000117\n",
      "[87, 100.00%] validate loss: 0.000166\n",
      "Retry 4/6\n",
      "[88, 100.00%] train loss: 0.000132\n",
      "[88, 100.00%] validate loss: 0.000127\n",
      "Retry 5/6\n",
      "[89, 100.00%] train loss: 0.000126\n",
      "[89, 100.00%] validate loss: 0.000128\n",
      "Retry 6/6\n",
      "CPU times: user 1min 55s, sys: 9.29 s, total: 2min 4s\n",
      "Wall time: 3min 48s\n"
     ]
    }
   ],
   "source": [
    "%%time\n",
    "net = train_model(net, train_dl, val_dl, criterion, optimizer, \"stock.pt\", 100, metrics=[], patience=6)"
   ]
  },
  {
   "cell_type": "code",
   "execution_count": 18,
   "metadata": {},
   "outputs": [],
   "source": [
    "test_data = scaled_data[training_data_len - 60:, :]\n",
    "x_test = torch.tensor([test_data[i-60:i, 0] for i in range(60, len(test_data))])\n",
    "y_test = dataset[training_data_len:,:]\n",
    "x_test = x_test.reshape(len(x_test), STEP, 1)"
   ]
  },
  {
   "cell_type": "code",
   "execution_count": 19,
   "metadata": {},
   "outputs": [],
   "source": [
    "net.eval()\n",
    "with torch.no_grad():\n",
    "    predictions, _ = net(x_test.transpose(1, 0))\n",
    "    predictions = predictions.numpy()\n",
    "    predictions = scaler.inverse_transform(predictions.reshape(-1, 1))"
   ]
  },
  {
   "cell_type": "code",
   "execution_count": 20,
   "metadata": {},
   "outputs": [
    {
     "data": {
      "text/plain": [
       "5.893952"
      ]
     },
     "execution_count": 20,
     "metadata": {},
     "output_type": "execute_result"
    }
   ],
   "source": [
    "rmse = np.sqrt(np.mean((predictions-y_test)**2))\n",
    "rmse"
   ]
  },
  {
   "cell_type": "code",
   "execution_count": 21,
   "metadata": {},
   "outputs": [
    {
     "data": {
      "image/png": "[encoded data removed]",
      "text/plain": [
       "<Figure size 1152x576 with 1 Axes>"
      ]
     },
     "metadata": {
      "needs_background": "light"
     },
     "output_type": "display_data"
    }
   ],
   "source": [
    "train = data[:training_data_len]\n",
    "valid = data[training_data_len:]\n",
    "valid.insert(1,\"Predictions\",predictions)\n",
    "\n",
    "plt.figure(figsize=(16, 8))\n",
    "plt.title(\"Model\")\n",
    "plt.xlabel(\"Date\", fontsize=18)\n",
    "plt.ylabel(\"Close Price USD ($)\", fontsize=18)\n",
    "plt.plot(train[\"Close\"])\n",
    "plt.plot(valid[[\"Close\", \"Predictions\"]])\n",
    "plt.legend([\"Train\", \"Val\", \"Predictions\"], loc=\"lower right\")\n",
    "plt.show()"
   ]
  },
  {
   "cell_type": "code",
   "execution_count": 22,
   "metadata": {},
   "outputs": [
    {
     "data": {
      "text/html": [
       "<div>\n",
       "<style scoped>\n",
       "    .dataframe tbody tr th:only-of-type {\n",
       "        vertical-align: middle;\n",
       "    }\n",
       "\n",
       "    .dataframe tbody tr th {\n",
       "        vertical-align: top;\n",
       "    }\n",
       "\n",
       "    .dataframe thead th {\n",
       "        text-align: right;\n",
       "    }\n",
       "</style>\n",
       "<table border=\"1\" class=\"dataframe\">\n",
       "  <thead>\n",
       "    <tr style=\"text-align: right;\">\n",
       "      <th></th>\n",
       "      <th>Close</th>\n",
       "      <th>Predictions</th>\n",
       "    </tr>\n",
       "    <tr>\n",
       "      <th>Date</th>\n",
       "      <th></th>\n",
       "      <th></th>\n",
       "    </tr>\n",
       "  </thead>\n",
       "  <tbody>\n",
       "    <tr>\n",
       "      <th>2018-05-17</th>\n",
       "      <td>186.990005</td>\n",
       "      <td>188.993591</td>\n",
       "    </tr>\n",
       "    <tr>\n",
       "      <th>2018-05-18</th>\n",
       "      <td>186.309998</td>\n",
       "      <td>188.313126</td>\n",
       "    </tr>\n",
       "    <tr>\n",
       "      <th>2018-05-21</th>\n",
       "      <td>187.630005</td>\n",
       "      <td>187.431564</td>\n",
       "    </tr>\n",
       "    <tr>\n",
       "      <th>2018-05-22</th>\n",
       "      <td>187.160004</td>\n",
       "      <td>187.016556</td>\n",
       "    </tr>\n",
       "    <tr>\n",
       "      <th>2018-05-23</th>\n",
       "      <td>188.360001</td>\n",
       "      <td>186.548035</td>\n",
       "    </tr>\n",
       "    <tr>\n",
       "      <th>...</th>\n",
       "      <td>...</td>\n",
       "      <td>...</td>\n",
       "    </tr>\n",
       "    <tr>\n",
       "      <th>2019-12-11</th>\n",
       "      <td>270.769989</td>\n",
       "      <td>257.205139</td>\n",
       "    </tr>\n",
       "    <tr>\n",
       "      <th>2019-12-12</th>\n",
       "      <td>271.459991</td>\n",
       "      <td>258.465515</td>\n",
       "    </tr>\n",
       "    <tr>\n",
       "      <th>2019-12-13</th>\n",
       "      <td>275.149994</td>\n",
       "      <td>259.593689</td>\n",
       "    </tr>\n",
       "    <tr>\n",
       "      <th>2019-12-16</th>\n",
       "      <td>279.859985</td>\n",
       "      <td>261.427307</td>\n",
       "    </tr>\n",
       "    <tr>\n",
       "      <th>2019-12-17</th>\n",
       "      <td>280.410004</td>\n",
       "      <td>264.071564</td>\n",
       "    </tr>\n",
       "  </tbody>\n",
       "</table>\n",
       "<p>400 rows × 2 columns</p>\n",
       "</div>"
      ],
      "text/plain": [
       "                 Close  Predictions\n",
       "Date                               \n",
       "2018-05-17  186.990005   188.993591\n",
       "2018-05-18  186.309998   188.313126\n",
       "2018-05-21  187.630005   187.431564\n",
       "2018-05-22  187.160004   187.016556\n",
       "2018-05-23  188.360001   186.548035\n",
       "...                ...          ...\n",
       "2019-12-11  270.769989   257.205139\n",
       "2019-12-12  271.459991   258.465515\n",
       "2019-12-13  275.149994   259.593689\n",
       "2019-12-16  279.859985   261.427307\n",
       "2019-12-17  280.410004   264.071564\n",
       "\n",
       "[400 rows x 2 columns]"
      ]
     },
     "execution_count": 22,
     "metadata": {},
     "output_type": "execute_result"
    }
   ],
   "source": [
    "valid"
   ]
  },
  {
   "cell_type": "code",
   "execution_count": null,
   "metadata": {},
   "outputs": [],
   "source": []
  }
 ],
 "metadata": {
  "kernelspec": {
   "display_name": "Python 3",
   "language": "python",
   "name": "python3"
  },
  "language_info": {
   "codemirror_mode": {
    "name": "ipython",
    "version": 3
   },
   "file_extension": ".py",
   "mimetype": "text/x-python",
   "name": "python",
   "nbconvert_exporter": "python",
   "pygments_lexer": "ipython3",
   "version": "3.6.10"
  }
 },
 "nbformat": 4,
 "nbformat_minor": 4
}
