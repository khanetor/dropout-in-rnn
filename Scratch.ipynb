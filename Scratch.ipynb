{
 "cells": [
  {
   "cell_type": "code",
   "execution_count": 1,
   "metadata": {},
   "outputs": [],
   "source": [
    "import torch\n",
    "import torch.nn as nn\n",
    "import torch.nn.functional as F\n",
    "from rnn import StochasticLSTM"
   ]
  },
  {
   "cell_type": "code",
   "execution_count": 2,
   "metadata": {},
   "outputs": [
    {
     "name": "stdout",
     "output_type": "stream",
     "text": [
      "Dictionary size = 14079\n"
     ]
    }
   ],
   "source": [
    "with open(\"data/rt-polaritydata/rt-polaritydata/rt-polarity.pos\", 'rb') as f:\n",
    "    # Find vocab size\n",
    "    text = f.read()\n",
    "\n",
    "    dic = set(text.split())\n",
    "    print(\"Dictionary size =\", len(dic))\n",
    "\n",
    "    txt_to_idx = { word: i for i, word in enumerate(dic) }"
   ]
  },
  {
   "cell_type": "code",
   "execution_count": 3,
   "metadata": {},
   "outputs": [],
   "source": [
    "class MyNet(nn.Module):\n",
    "    def __init__(self):\n",
    "        super(MyNet, self).__init__()\n",
    "        self.embed = nn.Embedding(14079, 100)\n",
    "        self.rnn = StochasticLSTM(100, 200, 0.5)\n",
    "        self.linear = nn.Linear(200, 10)\n",
    "    \n",
    "    def forward(self, input):\n",
    "        embed = self.embed(input)\n",
    "        embed = embed.transpose(1, 0)\n",
    "        print(\"Embed shape:\", embed.shape)\n",
    "        r, _ = self.rnn(embed)\n",
    "        print(\"Recurrent shape:\", r.shape)\n",
    "        return self.linear(r[0,:])"
   ]
  },
  {
   "cell_type": "markdown",
   "metadata": {},
   "source": [
    "### Draft"
   ]
  },
  {
   "cell_type": "code",
   "execution_count": 4,
   "metadata": {},
   "outputs": [],
   "source": [
    "net = MyNet()"
   ]
  },
  {
   "cell_type": "code",
   "execution_count": 5,
   "metadata": {},
   "outputs": [
    {
     "name": "stdout",
     "output_type": "stream",
     "text": [
      "Embed shape: torch.Size([34, 1, 100])\n",
      "Recurrent shape: torch.Size([34, 1, 200])\n"
     ]
    }
   ],
   "source": [
    "with open(\"data/rt-polaritydata/rt-polaritydata/rt-polarity.pos\", 'rb') as f:\n",
    "    line = f.readline()\n",
    "    tokens = line.split()\n",
    "    input = torch.tensor([[txt_to_idx[t] for t in tokens]])\n",
    "    output = net(input)"
   ]
  },
  {
   "cell_type": "code",
   "execution_count": 6,
   "metadata": {},
   "outputs": [
    {
     "data": {
      "text/plain": [
       "torch.Size([1, 10])"
      ]
     },
     "execution_count": 6,
     "metadata": {},
     "output_type": "execute_result"
    }
   ],
   "source": [
    "output.shape"
   ]
  },
  {
   "cell_type": "code",
   "execution_count": 7,
   "metadata": {},
   "outputs": [
    {
     "data": {
      "text/plain": [
       "tensor([[-0.4328,  0.6995,  0.0089, -0.6294, -0.2314,  0.0879, -0.1475,  0.3966,\n",
       "          0.2484, -0.3774]], grad_fn=<AddmmBackward>)"
      ]
     },
     "execution_count": 7,
     "metadata": {},
     "output_type": "execute_result"
    }
   ],
   "source": [
    "output"
   ]
  },
  {
   "cell_type": "code",
   "execution_count": null,
   "metadata": {},
   "outputs": [],
   "source": []
  }
 ],
 "metadata": {
  "kernelspec": {
   "display_name": "Python 3",
   "language": "python",
   "name": "python3"
  },
  "language_info": {
   "codemirror_mode": {
    "name": "ipython",
    "version": 3
   },
   "file_extension": ".py",
   "mimetype": "text/x-python",
   "name": "python",
   "nbconvert_exporter": "python",
   "pygments_lexer": "ipython3",
   "version": "3.7.5"
  }
 },
 "nbformat": 4,
 "nbformat_minor": 4
}
