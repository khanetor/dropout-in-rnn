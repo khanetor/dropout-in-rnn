{
 "cells": [
  {
   "cell_type": "code",
   "execution_count": 1,
   "metadata": {},
   "outputs": [],
   "source": [
    "import torch\n",
    "from torch import nn\n",
    "from torch.nn import functional as F\n",
    "from torch import optim\n",
    "import numpy as np\n",
    "import pandas as pd\n",
    "from stochastic_rnn import StochasticLSTM\n",
    "from variational_module import MCDualOutputModule\n",
    "from train_utils import train_model, BCMetric"
   ]
  },
  {
   "cell_type": "code",
   "execution_count": 2,
   "metadata": {},
   "outputs": [],
   "source": [
    "from sklearn.preprocessing import minmax_scale\n",
    "from sklearn.model_selection import train_test_split"
   ]
  },
  {
   "cell_type": "code",
   "execution_count": 3,
   "metadata": {},
   "outputs": [],
   "source": [
    "from classification_uncertainty_utils import aleatoric_uncertainty, epistemic_uncertainty, uncertainty_avg, score_avg"
   ]
  },
  {
   "cell_type": "code",
   "execution_count": 4,
   "metadata": {},
   "outputs": [],
   "source": [
    "import seaborn as sns\n",
    "import matplotlib.pyplot as plt"
   ]
  },
  {
   "cell_type": "code",
   "execution_count": 5,
   "metadata": {},
   "outputs": [
    {
     "data": {
      "text/plain": [
       "<torch._C.Generator at 0x10d2e3dd0>"
      ]
     },
     "execution_count": 5,
     "metadata": {},
     "output_type": "execute_result"
    }
   ],
   "source": [
    "np.random.seed(1234)\n",
    "torch.manual_seed(1234)"
   ]
  },
  {
   "cell_type": "code",
   "execution_count": 6,
   "metadata": {},
   "outputs": [],
   "source": [
    "training_table = pd.read_table(\"./data/hill-valley/Hill_Valley_with_noise_Training.data\", sep=',', dtype=np.float32)\n",
    "testing_table = pd.read_table(\"./data/hill-valley/Hill_Valley_with_noise_Testing.data\", sep=',', dtype=np.float32)"
   ]
  },
  {
   "cell_type": "code",
   "execution_count": 7,
   "metadata": {},
   "outputs": [
    {
     "data": {
      "text/html": [
       "<div>\n",
       "<style scoped>\n",
       "    .dataframe tbody tr th:only-of-type {\n",
       "        vertical-align: middle;\n",
       "    }\n",
       "\n",
       "    .dataframe tbody tr th {\n",
       "        vertical-align: top;\n",
       "    }\n",
       "\n",
       "    .dataframe thead th {\n",
       "        text-align: right;\n",
       "    }\n",
       "</style>\n",
       "<table border=\"1\" class=\"dataframe\">\n",
       "  <thead>\n",
       "    <tr style=\"text-align: right;\">\n",
       "      <th></th>\n",
       "      <th>X1</th>\n",
       "      <th>X2</th>\n",
       "      <th>X3</th>\n",
       "      <th>X4</th>\n",
       "      <th>X5</th>\n",
       "      <th>X6</th>\n",
       "      <th>X7</th>\n",
       "      <th>X8</th>\n",
       "      <th>X9</th>\n",
       "      <th>X10</th>\n",
       "      <th>...</th>\n",
       "      <th>X92</th>\n",
       "      <th>X93</th>\n",
       "      <th>X94</th>\n",
       "      <th>X95</th>\n",
       "      <th>X96</th>\n",
       "      <th>X97</th>\n",
       "      <th>X98</th>\n",
       "      <th>X99</th>\n",
       "      <th>X100</th>\n",
       "      <th>class</th>\n",
       "    </tr>\n",
       "  </thead>\n",
       "  <tbody>\n",
       "    <tr>\n",
       "      <th>0</th>\n",
       "      <td>39.020000</td>\n",
       "      <td>36.490002</td>\n",
       "      <td>38.200001</td>\n",
       "      <td>38.849998</td>\n",
       "      <td>39.380001</td>\n",
       "      <td>39.740002</td>\n",
       "      <td>37.020000</td>\n",
       "      <td>39.529999</td>\n",
       "      <td>38.810001</td>\n",
       "      <td>38.790001</td>\n",
       "      <td>...</td>\n",
       "      <td>36.619999</td>\n",
       "      <td>36.919998</td>\n",
       "      <td>38.799999</td>\n",
       "      <td>38.520000</td>\n",
       "      <td>38.070000</td>\n",
       "      <td>36.730000</td>\n",
       "      <td>39.459999</td>\n",
       "      <td>37.500000</td>\n",
       "      <td>39.099998</td>\n",
       "      <td>0.0</td>\n",
       "    </tr>\n",
       "    <tr>\n",
       "      <th>1</th>\n",
       "      <td>1.830000</td>\n",
       "      <td>1.710000</td>\n",
       "      <td>1.770000</td>\n",
       "      <td>1.770000</td>\n",
       "      <td>1.680000</td>\n",
       "      <td>1.780000</td>\n",
       "      <td>1.800000</td>\n",
       "      <td>1.700000</td>\n",
       "      <td>1.750000</td>\n",
       "      <td>1.780000</td>\n",
       "      <td>...</td>\n",
       "      <td>1.800000</td>\n",
       "      <td>1.790000</td>\n",
       "      <td>1.770000</td>\n",
       "      <td>1.740000</td>\n",
       "      <td>1.740000</td>\n",
       "      <td>1.800000</td>\n",
       "      <td>1.780000</td>\n",
       "      <td>1.750000</td>\n",
       "      <td>1.690000</td>\n",
       "      <td>1.0</td>\n",
       "    </tr>\n",
       "    <tr>\n",
       "      <th>2</th>\n",
       "      <td>68177.687500</td>\n",
       "      <td>66138.421875</td>\n",
       "      <td>72981.882812</td>\n",
       "      <td>74304.328125</td>\n",
       "      <td>67549.656250</td>\n",
       "      <td>69367.343750</td>\n",
       "      <td>69169.406250</td>\n",
       "      <td>73268.609375</td>\n",
       "      <td>74465.843750</td>\n",
       "      <td>72503.367188</td>\n",
       "      <td>...</td>\n",
       "      <td>73438.882812</td>\n",
       "      <td>71053.351562</td>\n",
       "      <td>71112.617188</td>\n",
       "      <td>74916.476562</td>\n",
       "      <td>72571.578125</td>\n",
       "      <td>66348.968750</td>\n",
       "      <td>71063.718750</td>\n",
       "      <td>67404.273438</td>\n",
       "      <td>74920.242188</td>\n",
       "      <td>1.0</td>\n",
       "    </tr>\n",
       "    <tr>\n",
       "      <th>3</th>\n",
       "      <td>44889.058594</td>\n",
       "      <td>39191.859375</td>\n",
       "      <td>40728.460938</td>\n",
       "      <td>38576.359375</td>\n",
       "      <td>45876.058594</td>\n",
       "      <td>47034.000000</td>\n",
       "      <td>46611.429688</td>\n",
       "      <td>37668.320312</td>\n",
       "      <td>40980.890625</td>\n",
       "      <td>38466.148438</td>\n",
       "      <td>...</td>\n",
       "      <td>42625.671875</td>\n",
       "      <td>40684.199219</td>\n",
       "      <td>46960.730469</td>\n",
       "      <td>44546.800781</td>\n",
       "      <td>45410.531250</td>\n",
       "      <td>47139.441406</td>\n",
       "      <td>43095.679688</td>\n",
       "      <td>40888.339844</td>\n",
       "      <td>39615.191406</td>\n",
       "      <td>0.0</td>\n",
       "    </tr>\n",
       "    <tr>\n",
       "      <th>4</th>\n",
       "      <td>5.700000</td>\n",
       "      <td>5.400000</td>\n",
       "      <td>5.280000</td>\n",
       "      <td>5.380000</td>\n",
       "      <td>5.270000</td>\n",
       "      <td>5.610000</td>\n",
       "      <td>6.000000</td>\n",
       "      <td>5.380000</td>\n",
       "      <td>5.340000</td>\n",
       "      <td>5.870000</td>\n",
       "      <td>...</td>\n",
       "      <td>5.170000</td>\n",
       "      <td>5.670000</td>\n",
       "      <td>5.600000</td>\n",
       "      <td>5.940000</td>\n",
       "      <td>5.730000</td>\n",
       "      <td>5.220000</td>\n",
       "      <td>5.300000</td>\n",
       "      <td>5.730000</td>\n",
       "      <td>5.910000</td>\n",
       "      <td>0.0</td>\n",
       "    </tr>\n",
       "  </tbody>\n",
       "</table>\n",
       "<p>5 rows × 101 columns</p>\n",
       "</div>"
      ],
      "text/plain": [
       "             X1            X2            X3            X4            X5  \\\n",
       "0     39.020000     36.490002     38.200001     38.849998     39.380001   \n",
       "1      1.830000      1.710000      1.770000      1.770000      1.680000   \n",
       "2  68177.687500  66138.421875  72981.882812  74304.328125  67549.656250   \n",
       "3  44889.058594  39191.859375  40728.460938  38576.359375  45876.058594   \n",
       "4      5.700000      5.400000      5.280000      5.380000      5.270000   \n",
       "\n",
       "             X6            X7            X8            X9           X10  ...  \\\n",
       "0     39.740002     37.020000     39.529999     38.810001     38.790001  ...   \n",
       "1      1.780000      1.800000      1.700000      1.750000      1.780000  ...   \n",
       "2  69367.343750  69169.406250  73268.609375  74465.843750  72503.367188  ...   \n",
       "3  47034.000000  46611.429688  37668.320312  40980.890625  38466.148438  ...   \n",
       "4      5.610000      6.000000      5.380000      5.340000      5.870000  ...   \n",
       "\n",
       "            X92           X93           X94           X95           X96  \\\n",
       "0     36.619999     36.919998     38.799999     38.520000     38.070000   \n",
       "1      1.800000      1.790000      1.770000      1.740000      1.740000   \n",
       "2  73438.882812  71053.351562  71112.617188  74916.476562  72571.578125   \n",
       "3  42625.671875  40684.199219  46960.730469  44546.800781  45410.531250   \n",
       "4      5.170000      5.670000      5.600000      5.940000      5.730000   \n",
       "\n",
       "            X97           X98           X99          X100  class  \n",
       "0     36.730000     39.459999     37.500000     39.099998    0.0  \n",
       "1      1.800000      1.780000      1.750000      1.690000    1.0  \n",
       "2  66348.968750  71063.718750  67404.273438  74920.242188    1.0  \n",
       "3  47139.441406  43095.679688  40888.339844  39615.191406    0.0  \n",
       "4      5.220000      5.300000      5.730000      5.910000    0.0  \n",
       "\n",
       "[5 rows x 101 columns]"
      ]
     },
     "execution_count": 7,
     "metadata": {},
     "output_type": "execute_result"
    }
   ],
   "source": [
    "training_table.head()"
   ]
  },
  {
   "cell_type": "code",
   "execution_count": 8,
   "metadata": {},
   "outputs": [],
   "source": [
    "dim = 1\n",
    "seq_length = 100\n",
    "DROP = 0.5\n",
    "ls = 1e-2\n",
    "tau = 1"
   ]
  },
  {
   "cell_type": "code",
   "execution_count": 9,
   "metadata": {},
   "outputs": [],
   "source": [
    "x_train = minmax_scale(training_table.drop(\"class\", axis=1).values, axis=1)\n",
    "y_train = training_table[\"class\"].values\n",
    "x_test = minmax_scale(testing_table.drop(\"class\", axis=1).values, axis=1)\n",
    "y_test = testing_table[\"class\"].values\n",
    "\n",
    "x_train = np.expand_dims(x_train, axis=-1)\n",
    "x_test = np.expand_dims(x_test, axis=-1)\n",
    "\n",
    "x_train, x_val, y_train, y_val = train_test_split(x_train, y_train, test_size=0.3, random_state=42)\n",
    "\n",
    "N = len(y_train)\n",
    "\n",
    "train_dl = torch.utils.data.DataLoader(\n",
    "        [(x_train[i], y_train[i]) for i in range(len(y_train))],\n",
    "        batch_size=10,\n",
    "        shuffle=True\n",
    ")\n",
    "val_dl = torch.utils.data.DataLoader(\n",
    "        [(x_val[i], y_val[i]) for i in range(len(y_val))],\n",
    "        batch_size=10,\n",
    "        shuffle=False\n",
    ")\n",
    "test_dl = torch.utils.data.DataLoader(\n",
    "        [(x_test[i], y_test[i]) for i in range(len(y_test))],\n",
    "        batch_size=len(y_test),\n",
    "        shuffle=False\n",
    ")"
   ]
  },
  {
   "cell_type": "code",
   "execution_count": 10,
   "metadata": {},
   "outputs": [],
   "source": [
    "class Net(nn.Module):\n",
    "    def __init__(self):\n",
    "        super(Net, self).__init__()\n",
    "        self.rnn = StochasticLSTM(1, 10, DROP)\n",
    "        self.fc = nn.Linear(10, 1)\n",
    "\n",
    "    def regularizer(self, N: int):\n",
    "        # Weight regularizer\n",
    "        length_scale = ls\n",
    "        precision = tau\n",
    "        weight_sum = torch.tensor([torch.sum(params**2) for params in self.rnn.parameters()]).sum()\n",
    "        weight_sum *= 0.5 * length_scale**2 * (1-DROP) / precision / N\n",
    "        return weight_sum\n",
    "\n",
    "    def forward(self, x: torch.Tensor):\n",
    "        out, _ = self.rnn(x)\n",
    "        out = out[-1]\n",
    "        out = torch.tanh(out)\n",
    "        pre_sigmoid = self.fc(out).flatten()\n",
    "        post_sigmoid = torch.sigmoid(pre_sigmoid)\n",
    "        return post_sigmoid, pre_sigmoid"
   ]
  },
  {
   "cell_type": "code",
   "execution_count": 11,
   "metadata": {},
   "outputs": [],
   "source": [
    "net = Net()\n",
    "def criterion(post_sigmoid, pre_sigmoid, label):\n",
    "    return nn.functional.binary_cross_entropy_with_logits(pre_sigmoid, label)\n",
    "\n",
    "optimizer = optim.Adam(net.parameters(), lr=1e-3)"
   ]
  },
  {
   "cell_type": "code",
   "execution_count": 12,
   "metadata": {},
   "outputs": [],
   "source": [
    "metrics = [BCMetric()]"
   ]
  },
  {
   "cell_type": "code",
   "execution_count": 13,
   "metadata": {},
   "outputs": [
    {
     "name": "stdout",
     "output_type": "stream",
     "text": [
      "[1, 100.00%] train loss: 0.679510\n",
      "[1, 100.00%] validate loss: 0.668094\n",
      "Accuracy = 0.879\n",
      "[2, 100.00%] train loss: 0.605041\n",
      "[2, 100.00%] validate loss: 0.570888\n",
      "Accuracy = 0.931\n",
      "[3, 100.00%] train loss: 0.495575\n",
      "[3, 100.00%] validate loss: 0.432256\n",
      "Accuracy = 0.951\n",
      "[4, 100.00%] train loss: 0.379224\n",
      "[4, 100.00%] validate loss: 0.335562\n",
      "Accuracy = 0.962\n",
      "[5, 100.00%] train loss: 0.290071\n",
      "[5, 100.00%] validate loss: 0.260289\n",
      "Accuracy = 0.964\n",
      "[6, 100.00%] train loss: 0.224255\n",
      "[6, 100.00%] validate loss: 0.208360\n",
      "Accuracy = 0.967\n",
      "[7, 100.00%] train loss: 0.193957\n",
      "[7, 100.00%] validate loss: 0.167696\n",
      "Accuracy = 0.970\n",
      "[8, 100.00%] train loss: 0.156256\n",
      "[8, 100.00%] validate loss: 0.164043\n",
      "Accuracy = 0.970\n",
      "[9, 100.00%] train loss: 0.137002\n",
      "[9, 100.00%] validate loss: 0.137472\n",
      "Accuracy = 0.973\n",
      "[10, 100.00%] train loss: 0.118484\n",
      "[10, 100.00%] validate loss: 0.108733\n",
      "Accuracy = 0.975\n",
      "[11, 100.00%] train loss: 0.114387\n",
      "[11, 100.00%] validate loss: 0.108277\n",
      "Accuracy = 0.976\n",
      "[12, 100.00%] train loss: 0.086594\n",
      "[12, 100.00%] validate loss: 0.078234\n",
      "Accuracy = 0.977\n",
      "[13, 100.00%] train loss: 0.084398\n",
      "[13, 100.00%] validate loss: 0.089623\n",
      "Accuracy = 0.978\n",
      "Retry 1/5\n",
      "[14, 100.00%] train loss: 0.093129\n",
      "[14, 100.00%] validate loss: 0.064651\n",
      "Accuracy = 0.979\n",
      "[15, 100.00%] train loss: 0.072972\n",
      "[15, 100.00%] validate loss: 0.057424\n",
      "Accuracy = 0.981\n",
      "[16, 100.00%] train loss: 0.068235\n",
      "[16, 100.00%] validate loss: 0.077086\n",
      "Accuracy = 0.981\n",
      "Retry 1/5\n",
      "[17, 100.00%] train loss: 0.052169\n",
      "[17, 100.00%] validate loss: 0.053809\n",
      "Accuracy = 0.982\n",
      "[18, 100.00%] train loss: 0.046465\n",
      "[18, 100.00%] validate loss: 0.052381\n",
      "Accuracy = 0.983\n",
      "[19, 100.00%] train loss: 0.043795\n",
      "[19, 100.00%] validate loss: 0.052699\n",
      "Accuracy = 0.983\n",
      "Retry 1/5\n",
      "[20, 100.00%] train loss: 0.051913\n",
      "[20, 100.00%] validate loss: 0.039067\n",
      "Accuracy = 0.984\n",
      "[21, 100.00%] train loss: 0.044931\n",
      "[21, 100.00%] validate loss: 0.034767\n",
      "Accuracy = 0.985\n",
      "[22, 100.00%] train loss: 0.038709\n",
      "[22, 100.00%] validate loss: 0.035245\n",
      "Accuracy = 0.985\n",
      "Retry 1/5\n",
      "[23, 100.00%] train loss: 0.035613\n",
      "[23, 100.00%] validate loss: 0.048186\n",
      "Accuracy = 0.985\n",
      "Retry 2/5\n",
      "[24, 100.00%] train loss: 0.042593\n",
      "[24, 100.00%] validate loss: 0.038565\n",
      "Accuracy = 0.986\n",
      "Retry 3/5\n",
      "[25, 100.00%] train loss: 0.030952\n",
      "[25, 100.00%] validate loss: 0.037359\n",
      "Accuracy = 0.986\n",
      "Retry 4/5\n",
      "[26, 100.00%] train loss: 0.032903\n",
      "[26, 100.00%] validate loss: 0.035452\n",
      "Accuracy = 0.986\n",
      "Retry 5/5\n"
     ]
    }
   ],
   "source": [
    "net = train_model(net, train_dl, val_dl, criterion, optimizer, \"hill-valley-model.pt\", 100, metrics=metrics)"
   ]
  },
  {
   "cell_type": "code",
   "execution_count": 14,
   "metadata": {},
   "outputs": [],
   "source": [
    "stochastic_net = MCDualOutputModule(net)"
   ]
  },
  {
   "cell_type": "code",
   "execution_count": 50,
   "metadata": {},
   "outputs": [
    {
     "name": "stdout",
     "output_type": "stream",
     "text": [
      "Accuracy = 100.00%\n"
     ]
    }
   ],
   "source": [
    "stochastic_net.eval()\n",
    "acc = 0.0\n",
    "with torch.no_grad():\n",
    "    for i, (x, y) in enumerate(test_dl):\n",
    "        post_sigmoids, pre_sigmoids = stochastic_net(x.transpose(-2,-3))\n",
    "        uncertainties = uncertainty_avg(post_sigmoids)\n",
    "        scores = score_avg(post_sigmoids)\n",
    "        predictions = torch.round(scores)\n",
    "        acc += (y == predictions).sum().item()\n",
    "\n",
    "acc /= len(test_dl.dataset)\n",
    "print(\"Accuracy = %.2f%%\" % (acc * 100))"
   ]
  },
  {
   "cell_type": "code",
   "execution_count": 51,
   "metadata": {},
   "outputs": [],
   "source": [
    "A = aleatoric_uncertainty(post_sigmoids)\n",
    "E = epistemic_uncertainty(post_sigmoids)"
   ]
  },
  {
   "cell_type": "code",
   "execution_count": 52,
   "metadata": {},
   "outputs": [
    {
     "data": {
      "text/plain": [
       "<matplotlib.legend.Legend at 0x12c5b1150>"
      ]
     },
     "execution_count": 52,
     "metadata": {},
     "output_type": "execute_result"
    },
    {
     "data": {
      "image/png": "[encoded data removed]",
      "text/plain": [
       "<Figure size 432x288 with 1 Axes>"
      ]
     },
     "metadata": {
      "needs_background": "light"
     },
     "output_type": "display_data"
    }
   ],
   "source": [
    "dist = torch.abs(y - scores)\n",
    "sns.scatterplot(x=dist, y=uncertainties)\n",
    "sns.scatterplot(x=dist, y=A)\n",
    "sns.scatterplot(x=dist, y=E)\n",
    "plt.xlabel(\"diff\")\n",
    "plt.ylabel(\"uncertainty\")\n",
    "plt.legend(labels=['uncertainty', 'aleatoric', 'epistemic'])"
   ]
  },
  {
   "cell_type": "markdown",
   "metadata": {},
   "source": [
    "### Spread pre and post sigmoid analysis"
   ]
  },
  {
   "cell_type": "code",
   "execution_count": 53,
   "metadata": {},
   "outputs": [],
   "source": [
    "T, B = pre_sigmoids.shape\n",
    "pre_sigmoid_df = pd.DataFrame(columns=[\"entry\",\"value\"])\n",
    "post_sigmoid_df = pd.DataFrame(columns=[\"entry\",\"value\"])\n",
    "for i in range(T):\n",
    "    for j in range(20):\n",
    "        pre_sigmoid_df.loc[i*B + j] = (j+1, pre_sigmoids[i,j])\n",
    "        post_sigmoid_df.loc[i*B + j] = (j+1, post_sigmoids[i,j])"
   ]
  },
  {
   "cell_type": "code",
   "execution_count": 54,
   "metadata": {},
   "outputs": [
    {
     "data": {
      "image/png": "[encoded data removed]",
      "text/plain": [
       "<Figure size 864x360 with 1 Axes>"
      ]
     },
     "metadata": {
      "needs_background": "light"
     },
     "output_type": "display_data"
    }
   ],
   "source": [
    "plot = sns.catplot(x=\"entry\", y=\"value\", data=pre_sigmoid_df)\n",
    "plot.fig.set_figwidth(12)"
   ]
  },
  {
   "cell_type": "code",
   "execution_count": 55,
   "metadata": {},
   "outputs": [
    {
     "data": {
      "image/png": "[encoded data removed]",
      "text/plain": [
       "<Figure size 864x360 with 1 Axes>"
      ]
     },
     "metadata": {
      "needs_background": "light"
     },
     "output_type": "display_data"
    }
   ],
   "source": [
    "plot = sns.catplot(x=\"entry\", y=\"value\", data=post_sigmoid_df)\n",
    "plot.fig.set_figwidth(12)"
   ]
  },
  {
   "cell_type": "markdown",
   "metadata": {},
   "source": [
    "### Flat line test"
   ]
  },
  {
   "cell_type": "code",
   "execution_count": 21,
   "metadata": {},
   "outputs": [
    {
     "data": {
      "image/png": "[encoded data removed]",
      "text/plain": [
       "<Figure size 432x288 with 1 Axes>"
      ]
     },
     "metadata": {
      "needs_background": "light"
     },
     "output_type": "display_data"
    },
    {
     "name": "stdout",
     "output_type": "stream",
     "text": [
      "predictions tensor([0.9566, 0.9741])\n",
      "uncertainties tensor([0.0415, 0.0252])\n"
     ]
    }
   ],
   "source": [
    "new_x_test = minmax_scale(np.full((2, 100), 0., dtype=np.float32), axis=1)\n",
    "new_x_test = np.expand_dims(new_x_test, axis=-1)\n",
    "new_x_test = new_x_test.swapaxes(-2,-3)\n",
    "new_x_test = torch.tensor(new_x_test)\n",
    "\n",
    "stochastic_net.eval()\n",
    "with torch.no_grad():\n",
    "    outputs,_ = stochastic_net(new_x_test)\n",
    "    uncertainties = uncertainty_avg(outputs)\n",
    "    scores = score_avg(outputs)\n",
    "\n",
    "plt.plot(new_x_test[:,0])\n",
    "plt.show()\n",
    "print(\"predictions\", scores)\n",
    "print(\"uncertainties\", uncertainties)"
   ]
  },
  {
   "cell_type": "code",
   "execution_count": 22,
   "metadata": {},
   "outputs": [
    {
     "data": {
      "image/png": "[encoded data removed]",
      "text/plain": [
       "<Figure size 432x288 with 1 Axes>"
      ]
     },
     "metadata": {
      "needs_background": "light"
     },
     "output_type": "display_data"
    },
    {
     "name": "stdout",
     "output_type": "stream",
     "text": [
      "predictions tensor([0.7253, 0.2381])\n",
      "uncertainties tensor([0.1992, 0.1814])\n"
     ]
    }
   ],
   "source": [
    "new_x_test = minmax_scale(np.random.randn(2, 100).astype(np.float32), axis=1)\n",
    "new_x_test = np.expand_dims(new_x_test, axis=-1)\n",
    "new_x_test = new_x_test.swapaxes(-2,-3)\n",
    "new_x_test = torch.tensor(new_x_test)\n",
    "\n",
    "stochastic_net.eval()\n",
    "with torch.no_grad():\n",
    "    outputs,_ = stochastic_net(new_x_test)\n",
    "    uncertainties = uncertainty_avg(outputs)\n",
    "    scores = score_avg(outputs)\n",
    "\n",
    "plt.plot(new_x_test[:,0])\n",
    "plt.show()\n",
    "print(\"predictions\", scores)\n",
    "print(\"uncertainties\", uncertainties)"
   ]
  },
  {
   "cell_type": "markdown",
   "metadata": {},
   "source": [
    "### Note\n",
    "In binary classification, the maximum uncertainty is 0.25 (need to verify this), and the minimum is 0."
   ]
  }
 ],
 "metadata": {
  "kernelspec": {
   "display_name": "Python 3",
   "language": "python",
   "name": "python3"
  },
  "language_info": {
   "codemirror_mode": {
    "name": "ipython",
    "version": 3
   },
   "file_extension": ".py",
   "mimetype": "text/x-python",
   "name": "python",
   "nbconvert_exporter": "python",
   "pygments_lexer": "ipython3",
   "version": "3.7.7"
  }
 },
 "nbformat": 4,
 "nbformat_minor": 4
}
