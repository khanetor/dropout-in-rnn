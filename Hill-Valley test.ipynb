{
 "cells": [
  {
   "cell_type": "code",
   "execution_count": 1,
   "metadata": {},
   "outputs": [],
   "source": [
    "import torch\n",
    "from torch import nn\n",
    "from torch.nn import functional as F\n",
    "from torch import optim\n",
    "import numpy as np\n",
    "import pandas as pd\n",
    "from dropout_rnn import DropoutLSTM\n",
    "from stochastic_module import StochasticDualOutputModule\n",
    "from train_utils import weight_coefficient, bias_coefficient, filter_parameters, train_model"
   ]
  },
  {
   "cell_type": "code",
   "execution_count": 2,
   "metadata": {},
   "outputs": [],
   "source": [
    "from sklearn.metrics import roc_auc_score\n",
    "from sklearn.preprocessing import minmax_scale"
   ]
  },
  {
   "cell_type": "code",
   "execution_count": 3,
   "metadata": {},
   "outputs": [],
   "source": [
    "from classification_uncertainty_utils import aleatoric_uncertainty, epistemic_uncertainty, uncertainty_avg, prediction_avg"
   ]
  },
  {
   "cell_type": "code",
   "execution_count": 4,
   "metadata": {},
   "outputs": [],
   "source": [
    "import seaborn as sns\n",
    "import matplotlib.pyplot as plt"
   ]
  },
  {
   "cell_type": "code",
   "execution_count": 5,
   "metadata": {},
   "outputs": [
    {
     "data": {
      "text/plain": [
       "<torch._C.Generator at 0x111d10e10>"
      ]
     },
     "execution_count": 5,
     "metadata": {},
     "output_type": "execute_result"
    }
   ],
   "source": [
    "np.random.seed(1234)\n",
    "torch.manual_seed(1234)"
   ]
  },
  {
   "cell_type": "code",
   "execution_count": 6,
   "metadata": {},
   "outputs": [],
   "source": [
    "training_table = pd.read_table(\"./data/hill-valley/Hill_Valley_with_noise_Training.data\", sep=',', dtype=np.float32)\n",
    "testing_table = pd.read_table(\"./data/hill-valley/Hill_Valley_with_noise_Testing.data\", sep=',', dtype=np.float32)"
   ]
  },
  {
   "cell_type": "code",
   "execution_count": 7,
   "metadata": {},
   "outputs": [
    {
     "data": {
      "text/html": [
       "<div>\n",
       "<style scoped>\n",
       "    .dataframe tbody tr th:only-of-type {\n",
       "        vertical-align: middle;\n",
       "    }\n",
       "\n",
       "    .dataframe tbody tr th {\n",
       "        vertical-align: top;\n",
       "    }\n",
       "\n",
       "    .dataframe thead th {\n",
       "        text-align: right;\n",
       "    }\n",
       "</style>\n",
       "<table border=\"1\" class=\"dataframe\">\n",
       "  <thead>\n",
       "    <tr style=\"text-align: right;\">\n",
       "      <th></th>\n",
       "      <th>X1</th>\n",
       "      <th>X2</th>\n",
       "      <th>X3</th>\n",
       "      <th>X4</th>\n",
       "      <th>X5</th>\n",
       "      <th>X6</th>\n",
       "      <th>X7</th>\n",
       "      <th>X8</th>\n",
       "      <th>X9</th>\n",
       "      <th>X10</th>\n",
       "      <th>...</th>\n",
       "      <th>X92</th>\n",
       "      <th>X93</th>\n",
       "      <th>X94</th>\n",
       "      <th>X95</th>\n",
       "      <th>X96</th>\n",
       "      <th>X97</th>\n",
       "      <th>X98</th>\n",
       "      <th>X99</th>\n",
       "      <th>X100</th>\n",
       "      <th>class</th>\n",
       "    </tr>\n",
       "  </thead>\n",
       "  <tbody>\n",
       "    <tr>\n",
       "      <th>0</th>\n",
       "      <td>39.020000</td>\n",
       "      <td>36.490002</td>\n",
       "      <td>38.200001</td>\n",
       "      <td>38.849998</td>\n",
       "      <td>39.380001</td>\n",
       "      <td>39.740002</td>\n",
       "      <td>37.020000</td>\n",
       "      <td>39.529999</td>\n",
       "      <td>38.810001</td>\n",
       "      <td>38.790001</td>\n",
       "      <td>...</td>\n",
       "      <td>36.619999</td>\n",
       "      <td>36.919998</td>\n",
       "      <td>38.799999</td>\n",
       "      <td>38.520000</td>\n",
       "      <td>38.070000</td>\n",
       "      <td>36.730000</td>\n",
       "      <td>39.459999</td>\n",
       "      <td>37.500000</td>\n",
       "      <td>39.099998</td>\n",
       "      <td>0.0</td>\n",
       "    </tr>\n",
       "    <tr>\n",
       "      <th>1</th>\n",
       "      <td>1.830000</td>\n",
       "      <td>1.710000</td>\n",
       "      <td>1.770000</td>\n",
       "      <td>1.770000</td>\n",
       "      <td>1.680000</td>\n",
       "      <td>1.780000</td>\n",
       "      <td>1.800000</td>\n",
       "      <td>1.700000</td>\n",
       "      <td>1.750000</td>\n",
       "      <td>1.780000</td>\n",
       "      <td>...</td>\n",
       "      <td>1.800000</td>\n",
       "      <td>1.790000</td>\n",
       "      <td>1.770000</td>\n",
       "      <td>1.740000</td>\n",
       "      <td>1.740000</td>\n",
       "      <td>1.800000</td>\n",
       "      <td>1.780000</td>\n",
       "      <td>1.750000</td>\n",
       "      <td>1.690000</td>\n",
       "      <td>1.0</td>\n",
       "    </tr>\n",
       "    <tr>\n",
       "      <th>2</th>\n",
       "      <td>68177.687500</td>\n",
       "      <td>66138.421875</td>\n",
       "      <td>72981.882812</td>\n",
       "      <td>74304.328125</td>\n",
       "      <td>67549.656250</td>\n",
       "      <td>69367.343750</td>\n",
       "      <td>69169.406250</td>\n",
       "      <td>73268.609375</td>\n",
       "      <td>74465.843750</td>\n",
       "      <td>72503.367188</td>\n",
       "      <td>...</td>\n",
       "      <td>73438.882812</td>\n",
       "      <td>71053.351562</td>\n",
       "      <td>71112.617188</td>\n",
       "      <td>74916.476562</td>\n",
       "      <td>72571.578125</td>\n",
       "      <td>66348.968750</td>\n",
       "      <td>71063.718750</td>\n",
       "      <td>67404.273438</td>\n",
       "      <td>74920.242188</td>\n",
       "      <td>1.0</td>\n",
       "    </tr>\n",
       "    <tr>\n",
       "      <th>3</th>\n",
       "      <td>44889.058594</td>\n",
       "      <td>39191.859375</td>\n",
       "      <td>40728.460938</td>\n",
       "      <td>38576.359375</td>\n",
       "      <td>45876.058594</td>\n",
       "      <td>47034.000000</td>\n",
       "      <td>46611.429688</td>\n",
       "      <td>37668.320312</td>\n",
       "      <td>40980.890625</td>\n",
       "      <td>38466.148438</td>\n",
       "      <td>...</td>\n",
       "      <td>42625.671875</td>\n",
       "      <td>40684.199219</td>\n",
       "      <td>46960.730469</td>\n",
       "      <td>44546.800781</td>\n",
       "      <td>45410.531250</td>\n",
       "      <td>47139.441406</td>\n",
       "      <td>43095.679688</td>\n",
       "      <td>40888.339844</td>\n",
       "      <td>39615.191406</td>\n",
       "      <td>0.0</td>\n",
       "    </tr>\n",
       "    <tr>\n",
       "      <th>4</th>\n",
       "      <td>5.700000</td>\n",
       "      <td>5.400000</td>\n",
       "      <td>5.280000</td>\n",
       "      <td>5.380000</td>\n",
       "      <td>5.270000</td>\n",
       "      <td>5.610000</td>\n",
       "      <td>6.000000</td>\n",
       "      <td>5.380000</td>\n",
       "      <td>5.340000</td>\n",
       "      <td>5.870000</td>\n",
       "      <td>...</td>\n",
       "      <td>5.170000</td>\n",
       "      <td>5.670000</td>\n",
       "      <td>5.600000</td>\n",
       "      <td>5.940000</td>\n",
       "      <td>5.730000</td>\n",
       "      <td>5.220000</td>\n",
       "      <td>5.300000</td>\n",
       "      <td>5.730000</td>\n",
       "      <td>5.910000</td>\n",
       "      <td>0.0</td>\n",
       "    </tr>\n",
       "  </tbody>\n",
       "</table>\n",
       "<p>5 rows × 101 columns</p>\n",
       "</div>"
      ],
      "text/plain": [
       "             X1            X2            X3            X4            X5  \\\n",
       "0     39.020000     36.490002     38.200001     38.849998     39.380001   \n",
       "1      1.830000      1.710000      1.770000      1.770000      1.680000   \n",
       "2  68177.687500  66138.421875  72981.882812  74304.328125  67549.656250   \n",
       "3  44889.058594  39191.859375  40728.460938  38576.359375  45876.058594   \n",
       "4      5.700000      5.400000      5.280000      5.380000      5.270000   \n",
       "\n",
       "             X6            X7            X8            X9           X10  ...  \\\n",
       "0     39.740002     37.020000     39.529999     38.810001     38.790001  ...   \n",
       "1      1.780000      1.800000      1.700000      1.750000      1.780000  ...   \n",
       "2  69367.343750  69169.406250  73268.609375  74465.843750  72503.367188  ...   \n",
       "3  47034.000000  46611.429688  37668.320312  40980.890625  38466.148438  ...   \n",
       "4      5.610000      6.000000      5.380000      5.340000      5.870000  ...   \n",
       "\n",
       "            X92           X93           X94           X95           X96  \\\n",
       "0     36.619999     36.919998     38.799999     38.520000     38.070000   \n",
       "1      1.800000      1.790000      1.770000      1.740000      1.740000   \n",
       "2  73438.882812  71053.351562  71112.617188  74916.476562  72571.578125   \n",
       "3  42625.671875  40684.199219  46960.730469  44546.800781  45410.531250   \n",
       "4      5.170000      5.670000      5.600000      5.940000      5.730000   \n",
       "\n",
       "            X97           X98           X99          X100  class  \n",
       "0     36.730000     39.459999     37.500000     39.099998    0.0  \n",
       "1      1.800000      1.780000      1.750000      1.690000    1.0  \n",
       "2  66348.968750  71063.718750  67404.273438  74920.242188    1.0  \n",
       "3  47139.441406  43095.679688  40888.339844  39615.191406    0.0  \n",
       "4      5.220000      5.300000      5.730000      5.910000    0.0  \n",
       "\n",
       "[5 rows x 101 columns]"
      ]
     },
     "execution_count": 7,
     "metadata": {},
     "output_type": "execute_result"
    }
   ],
   "source": [
    "training_table.head()"
   ]
  },
  {
   "cell_type": "code",
   "execution_count": 8,
   "metadata": {},
   "outputs": [],
   "source": [
    "dim = 1\n",
    "seq_length = 100\n",
    "DROP = 0.5\n",
    "ls = 1e-2\n",
    "tau = 1"
   ]
  },
  {
   "cell_type": "code",
   "execution_count": 9,
   "metadata": {},
   "outputs": [],
   "source": [
    "x_train = minmax_scale(training_table.drop(\"class\", axis=1).values, axis=1)\n",
    "y_train = torch.tensor(training_table[\"class\"].values)\n",
    "x_test = minmax_scale(testing_table.drop(\"class\", axis=1).values, axis=1)\n",
    "y_test = torch.tensor(testing_table[\"class\"].values)\n",
    "\n",
    "x_train = torch.tensor(np.expand_dims(x_train, axis=-1))\n",
    "x_test = torch.tensor(np.expand_dims(x_test, axis=-1))\n",
    "\n",
    "N = len(y_train)\n",
    "\n",
    "train_dl = torch.utils.data.DataLoader(\n",
    "        [(x_train[i], y_train[i]) for i in range(len(y_train))],\n",
    "        batch_size=10,\n",
    "        shuffle=True\n",
    ")"
   ]
  },
  {
   "cell_type": "code",
   "execution_count": 10,
   "metadata": {},
   "outputs": [],
   "source": [
    "class Net(nn.Module):\n",
    "    def __init__(self):\n",
    "        super(Net, self).__init__()\n",
    "        self.rnn = DropoutLSTM(1, 10, DROP)\n",
    "        self.fc = nn.Linear(10, 1)\n",
    "\n",
    "    def forward(self, x: torch.Tensor):\n",
    "        out, _ = self.rnn(x)\n",
    "        out = out[-1]\n",
    "        #out = out.transpose(-2,-3).flatten(-2)\n",
    "        out = torch.tanh(out)\n",
    "        pre_sigmoid = self.fc(out).flatten()\n",
    "        post_sigmoid = torch.sigmoid(pre_sigmoid)\n",
    "        return pre_sigmoid, post_sigmoid"
   ]
  },
  {
   "cell_type": "code",
   "execution_count": 11,
   "metadata": {},
   "outputs": [],
   "source": [
    "net = Net()\n",
    "def criterion(pre_sigmoid, post_sigmoid, label):\n",
    "    return nn.functional.binary_cross_entropy_with_logits(pre_sigmoid, label)\n",
    "\n",
    "M = filter_parameters(net.named_parameters(), \"rnn\", \"weight\")\n",
    "m = filter_parameters(net.named_parameters(), \"rnn\", \"bias\")\n",
    "other_params = filter_parameters(net.named_parameters(), \"fc\", \"\")\n",
    "\n",
    "parameters = [\n",
    "    {\"params\": M, \"weight_decay\": weight_coefficient(ls, tau, DROP, N)}, # dropout rnn weight\n",
    "    {\"params\": m, \"weight_decay\": bias_coefficient(ls, tau, N)}, # dropout rnn bias\n",
    "    {\"params\": other_params} # other parameters\n",
    "]\n",
    "optimizer = optim.Adam(parameters, lr=1e-3)"
   ]
  },
  {
   "cell_type": "code",
   "execution_count": 12,
   "metadata": {},
   "outputs": [
    {
     "name": "stdout",
     "output_type": "stream",
     "text": [
      "[1, 100.00%] loss: 0.668787\n",
      "[2, 100.00%] loss: 0.608871\n",
      "[3, 100.00%] loss: 0.458635\n",
      "[4, 100.00%] loss: 0.283135\n",
      "[5, 100.00%] loss: 0.212357\n",
      "Finish training\n"
     ]
    }
   ],
   "source": [
    "train_model(net, train_dl, criterion, optimizer, 5)"
   ]
  },
  {
   "cell_type": "code",
   "execution_count": 13,
   "metadata": {},
   "outputs": [],
   "source": [
    "stochastic_net = StochasticDualOutputModule(net)"
   ]
  },
  {
   "cell_type": "code",
   "execution_count": 14,
   "metadata": {},
   "outputs": [],
   "source": [
    "stochastic_net.eval()\n",
    "with torch.no_grad():\n",
    "    _, outputs = stochastic_net(x_test.transpose(-2, -3))\n",
    "    uncertainties = uncertainty_avg(outputs)\n",
    "    predictions = prediction_avg(outputs)"
   ]
  },
  {
   "cell_type": "code",
   "execution_count": 15,
   "metadata": {},
   "outputs": [
    {
     "data": {
      "text/plain": [
       "1.0"
      ]
     },
     "execution_count": 15,
     "metadata": {},
     "output_type": "execute_result"
    }
   ],
   "source": [
    "roc_auc_score(y_test, predictions)"
   ]
  },
  {
   "cell_type": "code",
   "execution_count": 16,
   "metadata": {},
   "outputs": [],
   "source": [
    "A = aleatoric_uncertainty(outputs)\n",
    "E = epistemic_uncertainty(outputs)"
   ]
  },
  {
   "cell_type": "code",
   "execution_count": 17,
   "metadata": {},
   "outputs": [
    {
     "name": "stdout",
     "output_type": "stream",
     "text": [
      "Entry   0: label (1), prediction (0.8156), uncertainty (0.1504), aleatoric (0.147565), epistemic (0.002856)\n",
      "Entry   1: label (0), prediction (0.1123), uncertainty (0.0997), aleatoric (0.099534), epistemic (0.000167)\n",
      "Entry   2: label (0), prediction (0.1223), uncertainty (0.1074), aleatoric (0.107085), epistemic (0.000279)\n",
      "Entry   3: label (1), prediction (0.8545), uncertainty (0.1243), aleatoric (0.124183), epistemic (0.000115)\n",
      "Entry   4: label (1), prediction (0.7983), uncertainty (0.1610), aleatoric (0.152483), epistemic (0.008558)\n",
      "Entry   5: label (0), prediction (0.1082), uncertainty (0.0965), aleatoric (0.096370), epistemic (0.000154)\n",
      "Entry   6: label (0), prediction (0.1280), uncertainty (0.1116), aleatoric (0.111076), epistemic (0.000571)\n",
      "Entry   7: label (0), prediction (0.1120), uncertainty (0.0994), aleatoric (0.099291), epistemic (0.000128)\n",
      "Entry   8: label (0), prediction (0.1304), uncertainty (0.1134), aleatoric (0.111719), epistemic (0.001698)\n",
      "Entry   9: label (1), prediction (0.8331), uncertainty (0.1391), aleatoric (0.138239), epistemic (0.000827)\n"
     ]
    }
   ],
   "source": [
    "for i in range(10):\n",
    "    print(\"Entry %3i: label (%.0f), prediction (%.4f), uncertainty (%.4f), aleatoric (%.6f), epistemic (%.6f)\" % (i, y_test[i], predictions[i], uncertainties[i], A[i], E[i]))"
   ]
  },
  {
   "cell_type": "code",
   "execution_count": 18,
   "metadata": {},
   "outputs": [
    {
     "data": {
      "text/plain": [
       "<matplotlib.legend.Legend at 0x10a9ece90>"
      ]
     },
     "execution_count": 18,
     "metadata": {},
     "output_type": "execute_result"
    },
    {
     "data": {
      "image/png": "[encoded data removed]",
      "text/plain": [
       "<Figure size 432x288 with 1 Axes>"
      ]
     },
     "metadata": {
      "needs_background": "light"
     },
     "output_type": "display_data"
    }
   ],
   "source": [
    "dist = torch.abs(y_test - predictions)\n",
    "sns.scatterplot(x=dist, y=uncertainties)\n",
    "sns.scatterplot(x=dist, y=A)\n",
    "sns.scatterplot(x=dist, y=E)\n",
    "plt.xlabel(\"diff\")\n",
    "plt.ylabel(\"uncertainty\")\n",
    "plt.legend(labels=['uncertainty', 'aleatoric', 'epistemic'])"
   ]
  },
  {
   "cell_type": "markdown",
   "metadata": {},
   "source": [
    "### Spread pre and post sigmoid analysis"
   ]
  },
  {
   "cell_type": "code",
   "execution_count": 19,
   "metadata": {},
   "outputs": [],
   "source": [
    "stochastic_net.eval()\n",
    "with torch.no_grad():\n",
    "    pre_sigmoid, post_sigmoid = stochastic_net(x_test.transpose(-2, -3))"
   ]
  },
  {
   "cell_type": "code",
   "execution_count": 23,
   "metadata": {},
   "outputs": [],
   "source": [
    "T, B = pre_sigmoid.shape\n",
    "pre_sigmoid_df = pd.DataFrame(columns=[\"entry\",\"value\"])\n",
    "post_sigmoid_df = pd.DataFrame(columns=[\"entry\",\"value\"])\n",
    "for i in range(T):\n",
    "    for j in range(20):\n",
    "        pre_sigmoid_df.loc[i*B + j] = (j+1, pre_sigmoid[i,j])\n",
    "        post_sigmoid_df.loc[i*B + j] = (j+1, post_sigmoid[i,j])"
   ]
  },
  {
   "cell_type": "code",
   "execution_count": 24,
   "metadata": {},
   "outputs": [
    {
     "data": {
      "image/png": "[encoded data removed]",
      "text/plain": [
       "<Figure size 864x360 with 1 Axes>"
      ]
     },
     "metadata": {
      "needs_background": "light"
     },
     "output_type": "display_data"
    }
   ],
   "source": [
    "plot = sns.catplot(x=\"entry\", y=\"value\", data=pre_sigmoid_df)\n",
    "plot.fig.set_figwidth(12)"
   ]
  },
  {
   "cell_type": "code",
   "execution_count": 25,
   "metadata": {},
   "outputs": [
    {
     "data": {
      "image/png": "[encoded data removed]",
      "text/plain": [
       "<Figure size 864x360 with 1 Axes>"
      ]
     },
     "metadata": {
      "needs_background": "light"
     },
     "output_type": "display_data"
    }
   ],
   "source": [
    "plot = sns.catplot(x=\"entry\", y=\"value\", data=post_sigmoid_df)\n",
    "plot.fig.set_figwidth(12)"
   ]
  },
  {
   "cell_type": "markdown",
   "metadata": {},
   "source": [
    "### Flat line test"
   ]
  },
  {
   "cell_type": "code",
   "execution_count": 28,
   "metadata": {},
   "outputs": [
    {
     "data": {
      "image/png": "[encoded data removed]",
      "text/plain": [
       "<Figure size 432x288 with 1 Axes>"
      ]
     },
     "metadata": {
      "needs_background": "light"
     },
     "output_type": "display_data"
    },
    {
     "name": "stdout",
     "output_type": "stream",
     "text": [
      "predictions tensor([0.8597, 0.8632])\n",
      "uncertainties tensor([0.1206, 0.1181])\n"
     ]
    }
   ],
   "source": [
    "new_x_test = minmax_scale(np.full((2, 100), 3., dtype=np.float32), axis=1)\n",
    "new_x_test = np.expand_dims(new_x_test, axis=-1)\n",
    "new_x_test = new_x_test.swapaxes(-2,-3)\n",
    "new_x_test = torch.tensor(new_x_test)\n",
    "\n",
    "stochastic_net.eval()\n",
    "with torch.no_grad():\n",
    "    _, outputs = stochastic_net(new_x_test)\n",
    "    uncertainties = uncertainty_avg(outputs)\n",
    "    predictions = prediction_avg(outputs)\n",
    "\n",
    "plt.plot(new_x_test[:,0])\n",
    "plt.show()\n",
    "print(\"predictions\", predictions)\n",
    "print(\"uncertainties\", uncertainties)"
   ]
  },
  {
   "cell_type": "code",
   "execution_count": 30,
   "metadata": {},
   "outputs": [
    {
     "data": {
      "image/png": "[encoded data removed]",
      "text/plain": [
       "<Figure size 432x288 with 1 Axes>"
      ]
     },
     "metadata": {
      "needs_background": "light"
     },
     "output_type": "display_data"
    },
    {
     "name": "stdout",
     "output_type": "stream",
     "text": [
      "predictions tensor([0.3157, 0.3283])\n",
      "uncertainties tensor([0.2161, 0.2205])\n"
     ]
    }
   ],
   "source": [
    "new_x_test = minmax_scale(np.random.randn(2, 100).astype(np.float32), axis=1)\n",
    "new_x_test = np.expand_dims(new_x_test, axis=-1)\n",
    "new_x_test = new_x_test.swapaxes(-2,-3)\n",
    "new_x_test = torch.tensor(new_x_test)\n",
    "\n",
    "stochastic_net.eval()\n",
    "with torch.no_grad():\n",
    "    _, outputs = stochastic_net(new_x_test)\n",
    "    uncertainties = uncertainty_avg(outputs)\n",
    "    predictions = prediction_avg(outputs)\n",
    "\n",
    "plt.plot(new_x_test[:,0])\n",
    "plt.show()\n",
    "print(\"predictions\", predictions)\n",
    "print(\"uncertainties\", uncertainties)"
   ]
  },
  {
   "cell_type": "markdown",
   "metadata": {},
   "source": [
    "### Note\n",
    "In binary classification, the maximum uncertainty is 0.25 (need to verify this), and the minimum is 0."
   ]
  },
  {
   "cell_type": "code",
   "execution_count": null,
   "metadata": {},
   "outputs": [],
   "source": []
  }
 ],
 "metadata": {
  "kernelspec": {
   "display_name": "Python 3",
   "language": "python",
   "name": "python3"
  },
  "language_info": {
   "codemirror_mode": {
    "name": "ipython",
    "version": 3
   },
   "file_extension": ".py",
   "mimetype": "text/x-python",
   "name": "python",
   "nbconvert_exporter": "python",
   "pygments_lexer": "ipython3",
   "version": "3.7.7"
  }
 },
 "nbformat": 4,
 "nbformat_minor": 4
}
